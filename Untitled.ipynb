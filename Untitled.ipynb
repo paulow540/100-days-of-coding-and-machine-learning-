{
 "cells": [
  {
   "cell_type": "markdown",
   "id": "2f4dc96f",
   "metadata": {},
   "source": [
    "NUMPY"
   ]
  },
  {
   "cell_type": "code",
   "execution_count": 1,
   "id": "2fc5e474",
   "metadata": {},
   "outputs": [
    {
     "data": {
      "text/plain": [
       "array([1, 2, 3, 4, 5, 6, 7, 8, 9])"
      ]
     },
     "execution_count": 1,
     "metadata": {},
     "output_type": "execute_result"
    }
   ],
   "source": [
    "import numpy as np\n",
    "\n",
    "arr = np.array([1,2,3,4,5,6,7,8,9])\n",
    "arr"
   ]
  },
  {
   "cell_type": "code",
   "execution_count": 10,
   "id": "47ffc8bb",
   "metadata": {},
   "outputs": [
    {
     "data": {
      "text/plain": [
       "array('i', [1, 2, 3, 4, 5, 6, 7, 8, 9])"
      ]
     },
     "execution_count": 10,
     "metadata": {},
     "output_type": "execute_result"
    }
   ],
   "source": [
    "import array\n",
    "ft = array.array('i', list(range(1, 10)))\n",
    "ft"
   ]
  },
  {
   "cell_type": "code",
   "execution_count": 18,
   "id": "3e247661",
   "metadata": {},
   "outputs": [
    {
     "data": {
      "text/plain": [
       "array('i', [1, 2, 3, 4, 5, 6, 7, 8, 9, 10])"
      ]
     },
     "execution_count": 18,
     "metadata": {},
     "output_type": "execute_result"
    }
   ],
   "source": [
    "import array\n",
    "myarr = array.array(\"i\",[1,2,3,4,5,6,7,8,9,10])\n",
    "myarr"
   ]
  },
  {
   "cell_type": "code",
   "execution_count": 38,
   "id": "f7599db2",
   "metadata": {},
   "outputs": [
    {
     "name": "stdout",
     "output_type": "stream",
     "text": [
      "arr.ndim:1\n",
      "arr.shape: (9,)\n",
      "arr.size: 9\n",
      "arr.dtype: int32\n"
     ]
    }
   ],
   "source": [
    "print(f\"arr.ndim:{arr.ndim}\")\n",
    "print(f\"arr.shape: {arr.shape}\")\n",
    "print(f\"arr.size: {arr.size}\")\n",
    "print(f\"arr.dtype: {arr.dtype}\")"
   ]
  },
  {
   "cell_type": "code",
   "execution_count": 31,
   "id": "158a9274",
   "metadata": {},
   "outputs": [
    {
     "data": {
      "text/plain": [
       "array(['1', '2', '3', '4', '45', '5', '6', '7', '78', '8', '89', '64'],\n",
       "      dtype='<U64')"
      ]
     },
     "execution_count": 31,
     "metadata": {},
     "output_type": "execute_result"
    }
   ],
   "source": [
    "another = np.array([1,2,3,4,45,5,6,7,78,8,89,64], dtype=\"<U64\")\n",
    "another"
   ]
  },
  {
   "cell_type": "code",
   "execution_count": 37,
   "id": "eb1c2171",
   "metadata": {},
   "outputs": [
    {
     "name": "stdout",
     "output_type": "stream",
     "text": [
      "another.dtype:<U64\n",
      "another.shape: (12,)\n",
      "another.ndim: 1\n"
     ]
    }
   ],
   "source": [
    "print(f\"another.dtype:{another.dtype}\")\n",
    "print(f\"another.shape: {another.shape}\")\n",
    "print(f\"another.ndim: {another.ndim}\")"
   ]
  },
  {
   "cell_type": "markdown",
   "id": "9101f8cf",
   "metadata": {},
   "source": [
    "Creating Array from scratch"
   ]
  },
  {
   "cell_type": "code",
   "execution_count": 42,
   "id": "7879d18a",
   "metadata": {},
   "outputs": [
    {
     "data": {
      "text/plain": [
       "array([0, 0, 0, 0, 0, 0, 0, 0, 0, 0])"
      ]
     },
     "execution_count": 42,
     "metadata": {},
     "output_type": "execute_result"
    }
   ],
   "source": [
    "zeros = np.zeros(10, dtype=\"int32\")\n",
    "zeros"
   ]
  },
  {
   "cell_type": "code",
   "execution_count": 43,
   "id": "cfa3cda6",
   "metadata": {},
   "outputs": [
    {
     "data": {
      "text/plain": [
       "array([[0, 0, 0, 0, 0, 0, 0, 0],\n",
       "       [0, 0, 0, 0, 0, 0, 0, 0],\n",
       "       [0, 0, 0, 0, 0, 0, 0, 0],\n",
       "       [0, 0, 0, 0, 0, 0, 0, 0],\n",
       "       [0, 0, 0, 0, 0, 0, 0, 0],\n",
       "       [0, 0, 0, 0, 0, 0, 0, 0],\n",
       "       [0, 0, 0, 0, 0, 0, 0, 0],\n",
       "       [0, 0, 0, 0, 0, 0, 0, 0],\n",
       "       [0, 0, 0, 0, 0, 0, 0, 0],\n",
       "       [0, 0, 0, 0, 0, 0, 0, 0]])"
      ]
     },
     "execution_count": 43,
     "metadata": {},
     "output_type": "execute_result"
    }
   ],
   "source": [
    "zearr = np.zeros((10,8), dtype=\"int32\")\n",
    "zearr"
   ]
  },
  {
   "cell_type": "code",
   "execution_count": 46,
   "id": "1ebf51f1",
   "metadata": {},
   "outputs": [
    {
     "data": {
      "text/plain": [
       "array([1., 1., 1., 1., 1., 1., 1., 1., 1., 1.])"
      ]
     },
     "execution_count": 46,
     "metadata": {},
     "output_type": "execute_result"
    }
   ],
   "source": [
    "ones =np.ones(10)\n",
    "ones"
   ]
  },
  {
   "cell_type": "code",
   "execution_count": 47,
   "id": "f1ef2596",
   "metadata": {},
   "outputs": [
    {
     "data": {
      "text/plain": [
       "array([['1', '1', '1', '1', '1', '1', '1', '1', '1', '1'],\n",
       "       ['1', '1', '1', '1', '1', '1', '1', '1', '1', '1'],\n",
       "       ['1', '1', '1', '1', '1', '1', '1', '1', '1', '1'],\n",
       "       ['1', '1', '1', '1', '1', '1', '1', '1', '1', '1'],\n",
       "       ['1', '1', '1', '1', '1', '1', '1', '1', '1', '1'],\n",
       "       ['1', '1', '1', '1', '1', '1', '1', '1', '1', '1'],\n",
       "       ['1', '1', '1', '1', '1', '1', '1', '1', '1', '1'],\n",
       "       ['1', '1', '1', '1', '1', '1', '1', '1', '1', '1'],\n",
       "       ['1', '1', '1', '1', '1', '1', '1', '1', '1', '1'],\n",
       "       ['1', '1', '1', '1', '1', '1', '1', '1', '1', '1']], dtype='<U1')"
      ]
     },
     "execution_count": 47,
     "metadata": {},
     "output_type": "execute_result"
    }
   ],
   "source": [
    "onarr = np.ones((10,10), dtype=\"<U\")\n",
    "onarr"
   ]
  },
  {
   "cell_type": "code",
   "execution_count": 48,
   "id": "9f91633b",
   "metadata": {},
   "outputs": [
    {
     "data": {
      "text/plain": [
       "array([[8, 8, 8, 8],\n",
       "       [8, 8, 8, 8],\n",
       "       [8, 8, 8, 8],\n",
       "       [8, 8, 8, 8],\n",
       "       [8, 8, 8, 8]])"
      ]
     },
     "execution_count": 48,
     "metadata": {},
     "output_type": "execute_result"
    }
   ],
   "source": [
    "np.full((5,4),8)"
   ]
  },
  {
   "cell_type": "code",
   "execution_count": 49,
   "id": "63f2433d",
   "metadata": {},
   "outputs": [
    {
     "data": {
      "text/plain": [
       "array([0, 1, 2, 3, 4, 5, 6, 7, 8, 9])"
      ]
     },
     "execution_count": 49,
     "metadata": {},
     "output_type": "execute_result"
    }
   ],
   "source": [
    "np.arange(10)"
   ]
  },
  {
   "cell_type": "code",
   "execution_count": 53,
   "id": "09d1a6b4",
   "metadata": {},
   "outputs": [
    {
     "data": {
      "text/plain": [
       "array([ 1,  2,  3,  4,  5,  6,  7,  8,  9, 10, 11, 12, 13, 14, 15, 16, 17,\n",
       "       18])"
      ]
     },
     "execution_count": 53,
     "metadata": {},
     "output_type": "execute_result"
    }
   ],
   "source": [
    "np.arange(1,19)"
   ]
  },
  {
   "cell_type": "code",
   "execution_count": 54,
   "id": "99109af7",
   "metadata": {},
   "outputs": [
    {
     "data": {
      "text/plain": [
       "array([ 1,  3,  5,  7,  9, 11, 13, 15, 17, 19])"
      ]
     },
     "execution_count": 54,
     "metadata": {},
     "output_type": "execute_result"
    }
   ],
   "source": [
    "np.arange(1,20,2)"
   ]
  },
  {
   "cell_type": "code",
   "execution_count": 58,
   "id": "4092ab3b",
   "metadata": {},
   "outputs": [
    {
     "data": {
      "text/plain": [
       "array([ 1.        ,  1.32653061,  1.65306122,  1.97959184,  2.30612245,\n",
       "        2.63265306,  2.95918367,  3.28571429,  3.6122449 ,  3.93877551,\n",
       "        4.26530612,  4.59183673,  4.91836735,  5.24489796,  5.57142857,\n",
       "        5.89795918,  6.2244898 ,  6.55102041,  6.87755102,  7.20408163,\n",
       "        7.53061224,  7.85714286,  8.18367347,  8.51020408,  8.83673469,\n",
       "        9.16326531,  9.48979592,  9.81632653, 10.14285714, 10.46938776,\n",
       "       10.79591837, 11.12244898, 11.44897959, 11.7755102 , 12.10204082,\n",
       "       12.42857143, 12.75510204, 13.08163265, 13.40816327, 13.73469388,\n",
       "       14.06122449, 14.3877551 , 14.71428571, 15.04081633, 15.36734694,\n",
       "       15.69387755, 16.02040816, 16.34693878, 16.67346939, 17.        ])"
      ]
     },
     "execution_count": 58,
     "metadata": {},
     "output_type": "execute_result"
    }
   ],
   "source": [
    "np.linspace(1,17)"
   ]
  },
  {
   "cell_type": "code",
   "execution_count": 59,
   "id": "10b16030",
   "metadata": {},
   "outputs": [
    {
     "data": {
      "text/plain": [
       "array([ 1.,  5.,  9., 13., 17.])"
      ]
     },
     "execution_count": 59,
     "metadata": {},
     "output_type": "execute_result"
    }
   ],
   "source": [
    "np.linspace(1,17,5)"
   ]
  },
  {
   "cell_type": "code",
   "execution_count": 72,
   "id": "da8c63f8",
   "metadata": {},
   "outputs": [
    {
     "data": {
      "text/plain": [
       "array([[[0.87017366, 0.94875716],\n",
       "        [0.33978956, 0.76114046],\n",
       "        [0.00432499, 0.45912517],\n",
       "        [0.11480818, 0.45171195],\n",
       "        [0.53367691, 0.80044155],\n",
       "        [0.37189135, 0.70340539],\n",
       "        [0.61104679, 0.71561661],\n",
       "        [0.16264647, 0.75321423],\n",
       "        [0.36028125, 0.69495347],\n",
       "        [0.76333204, 0.31779958]]])"
      ]
     },
     "execution_count": 72,
     "metadata": {},
     "output_type": "execute_result"
    }
   ],
   "source": [
    "np.random.rand(1,10,2)"
   ]
  },
  {
   "cell_type": "code",
   "execution_count": 76,
   "id": "6c998b5b",
   "metadata": {},
   "outputs": [
    {
     "data": {
      "text/plain": [
       "array([[ 0.63865741, -1.15617163],\n",
       "       [ 0.11227394,  0.45061536],\n",
       "       [-1.49644584,  0.35963286],\n",
       "       [ 0.93475423, -0.5035763 ],\n",
       "       [ 1.22614787,  1.2632442 ],\n",
       "       [ 0.218888  , -1.625954  ],\n",
       "       [-0.05125967, -0.72670818],\n",
       "       [-0.63541618, -0.58255374],\n",
       "       [ 0.27393088,  0.70755501],\n",
       "       [ 0.10807308, -0.57423232]])"
      ]
     },
     "execution_count": 76,
     "metadata": {},
     "output_type": "execute_result"
    }
   ],
   "source": [
    "np.random.randn(10,2)"
   ]
  },
  {
   "cell_type": "code",
   "execution_count": 78,
   "id": "cd19c04d",
   "metadata": {},
   "outputs": [
    {
     "data": {
      "text/plain": [
       "array([-0.12779202, -0.47364843, -1.58221798,  0.58506793,  0.02919266,\n",
       "       -0.6436669 , -0.22043096, -0.62907055,  0.45700414])"
      ]
     },
     "execution_count": 78,
     "metadata": {},
     "output_type": "execute_result"
    }
   ],
   "source": [
    "np.random.randn(9)"
   ]
  },
  {
   "cell_type": "code",
   "execution_count": 82,
   "id": "8b1957ae",
   "metadata": {},
   "outputs": [
    {
     "data": {
      "text/plain": [
       "array([0.38761553, 0.03359995, 0.06489289, 0.9850211 , 0.3869849 ,\n",
       "       0.81898223, 0.96476563, 0.54037404, 0.14789963])"
      ]
     },
     "execution_count": 82,
     "metadata": {},
     "output_type": "execute_result"
    }
   ],
   "source": [
    "np.random.random(9)"
   ]
  },
  {
   "cell_type": "code",
   "execution_count": 94,
   "id": "89f2925a",
   "metadata": {},
   "outputs": [
    {
     "data": {
      "text/plain": [
       "array([7, 4])"
      ]
     },
     "execution_count": 94,
     "metadata": {},
     "output_type": "execute_result"
    }
   ],
   "source": [
    "np.random.randint(1,8,2)"
   ]
  },
  {
   "cell_type": "code",
   "execution_count": 114,
   "id": "8ba8e94f",
   "metadata": {},
   "outputs": [
    {
     "data": {
      "text/plain": [
       "array([False, False, False, False, False, False, False, False, False,\n",
       "       False, False, False, False, False, False, False, False, False,\n",
       "       False, False])"
      ]
     },
     "execution_count": 114,
     "metadata": {},
     "output_type": "execute_result"
    }
   ],
   "source": [
    "np.random.binomial(2, 1, 20) == 0"
   ]
  },
  {
   "cell_type": "code",
   "execution_count": 116,
   "id": "d15ded95",
   "metadata": {},
   "outputs": [
    {
     "data": {
      "text/plain": [
       "8"
      ]
     },
     "execution_count": 116,
     "metadata": {},
     "output_type": "execute_result"
    }
   ],
   "source": [
    "np.random.randint(0,10)"
   ]
  },
  {
   "cell_type": "code",
   "execution_count": 120,
   "id": "fd848c54",
   "metadata": {},
   "outputs": [
    {
     "data": {
      "text/plain": [
       "array([[8, 4, 9, 5, 8, 6],\n",
       "       [4, 5, 5, 7, 9, 9]])"
      ]
     },
     "execution_count": 120,
     "metadata": {},
     "output_type": "execute_result"
    }
   ],
   "source": [
    "np.random.randint(4,10,(2,6))"
   ]
  },
  {
   "cell_type": "code",
   "execution_count": 122,
   "id": "d0b40536",
   "metadata": {},
   "outputs": [
    {
     "data": {
      "text/plain": [
       "array([[1., 0., 0., 0., 0.],\n",
       "       [0., 1., 0., 0., 0.],\n",
       "       [0., 0., 1., 0., 0.],\n",
       "       [0., 0., 0., 1., 0.],\n",
       "       [0., 0., 0., 0., 1.]])"
      ]
     },
     "execution_count": 122,
     "metadata": {},
     "output_type": "execute_result"
    }
   ],
   "source": [
    "np.eye(5)"
   ]
  },
  {
   "cell_type": "code",
   "execution_count": 124,
   "id": "e4c23d28",
   "metadata": {},
   "outputs": [],
   "source": [
    "anny = np.linspace(0,1,20)\n",
    "ay = anny.reshape(4,5)\n"
   ]
  },
  {
   "cell_type": "code",
   "execution_count": 125,
   "id": "23fa9a9f",
   "metadata": {},
   "outputs": [
    {
     "data": {
      "text/plain": [
       "2"
      ]
     },
     "execution_count": 125,
     "metadata": {},
     "output_type": "execute_result"
    }
   ],
   "source": [
    "ay.ndim"
   ]
  },
  {
   "cell_type": "code",
   "execution_count": 134,
   "id": "d36c28c4",
   "metadata": {},
   "outputs": [
    {
     "data": {
      "text/plain": [
       "array([6, 3, 7, 4, 6])"
      ]
     },
     "execution_count": 134,
     "metadata": {},
     "output_type": "execute_result"
    }
   ],
   "source": [
    "np.random.seed(42)\n",
    "x1 = np.random.randint(10, size=5)\n",
    "x1\n"
   ]
  },
  {
   "cell_type": "markdown",
   "id": "c4896ecb",
   "metadata": {},
   "source": [
    "# DAY 2"
   ]
  },
  {
   "cell_type": "code",
   "execution_count": 138,
   "id": "fb39e592",
   "metadata": {},
   "outputs": [
    {
     "data": {
      "text/plain": [
       "array([ 0,  1,  2,  3,  4,  5,  6,  7,  8,  9, 10, 11, 12, 13, 14, 15, 16,\n",
       "       17, 18, 19])"
      ]
     },
     "execution_count": 138,
     "metadata": {},
     "output_type": "execute_result"
    }
   ],
   "source": [
    "newData = np.arange(20)\n",
    "newData"
   ]
  },
  {
   "cell_type": "code",
   "execution_count": 139,
   "id": "124efb9d",
   "metadata": {},
   "outputs": [
    {
     "name": "stdout",
     "output_type": "stream",
     "text": [
      "6.19 µs ± 370 ns per loop (mean ± std. dev. of 7 runs, 100000 loops each)\n"
     ]
    }
   ],
   "source": [
    "%timeit [i + i for i in newData]  "
   ]
  },
  {
   "cell_type": "code",
   "execution_count": 140,
   "id": "1de477ca",
   "metadata": {},
   "outputs": [
    {
     "data": {
      "text/plain": [
       "array([10, 11, 12, 13, 14, 15, 16, 17, 18, 19, 20, 21, 22, 23, 24, 25, 26,\n",
       "       27, 28, 29])"
      ]
     },
     "execution_count": 140,
     "metadata": {},
     "output_type": "execute_result"
    }
   ],
   "source": [
    "newData + 10"
   ]
  },
  {
   "cell_type": "code",
   "execution_count": 141,
   "id": "ccf5b74d",
   "metadata": {},
   "outputs": [
    {
     "data": {
      "text/plain": [
       "array([ 2.,  3.,  4.,  5.,  6.,  7.,  8.,  9., 10., 11., 12., 13., 14.,\n",
       "       15., 16., 17., 18., 19., 20., 21.])"
      ]
     },
     "execution_count": 141,
     "metadata": {},
     "output_type": "execute_result"
    }
   ],
   "source": [
    "newData + 10 / 5"
   ]
  },
  {
   "cell_type": "code",
   "execution_count": 142,
   "id": "f93f7be4",
   "metadata": {},
   "outputs": [
    {
     "data": {
      "text/plain": [
       "array([ 0.        ,  3.14159265,  6.28318531,  9.42477796, 12.56637061,\n",
       "       15.70796327, 18.84955592, 21.99114858, 25.13274123, 28.27433388,\n",
       "       31.41592654, 34.55751919, 37.69911184, 40.8407045 , 43.98229715,\n",
       "       47.1238898 , 50.26548246, 53.40707511, 56.54866776, 59.69026042])"
      ]
     },
     "execution_count": 142,
     "metadata": {},
     "output_type": "execute_result"
    }
   ],
   "source": [
    "newData * np.pi"
   ]
  },
  {
   "cell_type": "code",
   "execution_count": 143,
   "id": "2e877cbd",
   "metadata": {},
   "outputs": [
    {
     "data": {
      "text/plain": [
       "array([10, 11, 12, 13, 14, 15, 16, 17, 18, 19, 20, 21, 22, 23, 24, 25, 26,\n",
       "       27, 28, 29])"
      ]
     },
     "execution_count": 143,
     "metadata": {},
     "output_type": "execute_result"
    }
   ],
   "source": [
    "np.add(newData, 10)"
   ]
  },
  {
   "cell_type": "code",
   "execution_count": 145,
   "id": "4c0cbb17",
   "metadata": {},
   "outputs": [
    {
     "data": {
      "text/plain": [
       "array([ 3.14159265,  4.14159265,  5.14159265,  6.14159265,  7.14159265,\n",
       "        8.14159265,  9.14159265, 10.14159265, 11.14159265, 12.14159265,\n",
       "       13.14159265, 14.14159265, 15.14159265, 16.14159265, 17.14159265,\n",
       "       18.14159265, 19.14159265, 20.14159265, 21.14159265, 22.14159265])"
      ]
     },
     "execution_count": 145,
     "metadata": {},
     "output_type": "execute_result"
    }
   ],
   "source": [
    "np.add(newData, np.pi)"
   ]
  },
  {
   "cell_type": "code",
   "execution_count": 146,
   "id": "49fffdfc",
   "metadata": {},
   "outputs": [
    {
     "data": {
      "text/plain": [
       "array([5., 5., 2., 1.])"
      ]
     },
     "execution_count": 146,
     "metadata": {},
     "output_type": "execute_result"
    }
   ],
   "source": [
    "comp =np.array([3-4j, 4-3j, 2+0j, 0+1j])\n",
    "np.abs(comp)"
   ]
  },
  {
   "cell_type": "code",
   "execution_count": 148,
   "id": "220d7e5e",
   "metadata": {},
   "outputs": [
    {
     "data": {
      "text/plain": [
       "array([ 0.00000000e+00,  1.55740772e+00, -2.18503986e+00, -1.42546543e-01,\n",
       "        1.15782128e+00, -3.38051501e+00, -2.91006191e-01,  8.71447983e-01,\n",
       "       -6.79971146e+00, -4.52315659e-01,  6.48360827e-01, -2.25950846e+02,\n",
       "       -6.35859929e-01,  4.63021133e-01,  7.24460662e+00, -8.55993401e-01,\n",
       "        3.00632242e-01,  3.49391565e+00, -1.13731371e+00,  1.51589471e-01])"
      ]
     },
     "execution_count": 148,
     "metadata": {},
     "output_type": "execute_result"
    }
   ],
   "source": [
    "np.tan(newData)"
   ]
  },
  {
   "cell_type": "code",
   "execution_count": 149,
   "id": "85e324a9",
   "metadata": {},
   "outputs": [
    {
     "name": "stderr",
     "output_type": "stream",
     "text": [
      "<ipython-input-149-865dd7705907>:1: RuntimeWarning: divide by zero encountered in log\n",
      "  np.log(newData)\n"
     ]
    },
    {
     "data": {
      "text/plain": [
       "array([      -inf, 0.        , 0.69314718, 1.09861229, 1.38629436,\n",
       "       1.60943791, 1.79175947, 1.94591015, 2.07944154, 2.19722458,\n",
       "       2.30258509, 2.39789527, 2.48490665, 2.56494936, 2.63905733,\n",
       "       2.7080502 , 2.77258872, 2.83321334, 2.89037176, 2.94443898])"
      ]
     },
     "execution_count": 149,
     "metadata": {},
     "output_type": "execute_result"
    }
   ],
   "source": [
    "np.log(newData)"
   ]
  },
  {
   "cell_type": "code",
   "execution_count": 150,
   "id": "bbb8666d",
   "metadata": {},
   "outputs": [
    {
     "name": "stderr",
     "output_type": "stream",
     "text": [
      "<ipython-input-150-e688499ff411>:1: RuntimeWarning: divide by zero encountered in log10\n",
      "  np.log10(newData)\n"
     ]
    },
    {
     "data": {
      "text/plain": [
       "array([      -inf, 0.        , 0.30103   , 0.47712125, 0.60205999,\n",
       "       0.69897   , 0.77815125, 0.84509804, 0.90308999, 0.95424251,\n",
       "       1.        , 1.04139269, 1.07918125, 1.11394335, 1.14612804,\n",
       "       1.17609126, 1.20411998, 1.23044892, 1.25527251, 1.2787536 ])"
      ]
     },
     "execution_count": 150,
     "metadata": {},
     "output_type": "execute_result"
    }
   ],
   "source": [
    "np.log10(newData)"
   ]
  },
  {
   "cell_type": "code",
   "execution_count": 151,
   "id": "c367207d",
   "metadata": {},
   "outputs": [
    {
     "name": "stderr",
     "output_type": "stream",
     "text": [
      "<ipython-input-151-2110a5d71805>:1: RuntimeWarning: divide by zero encountered in log2\n",
      "  np.log2(newData)\n"
     ]
    },
    {
     "data": {
      "text/plain": [
       "array([      -inf, 0.        , 1.        , 1.5849625 , 2.        ,\n",
       "       2.32192809, 2.5849625 , 2.80735492, 3.        , 3.169925  ,\n",
       "       3.32192809, 3.45943162, 3.5849625 , 3.70043972, 3.80735492,\n",
       "       3.9068906 , 4.        , 4.08746284, 4.169925  , 4.24792751])"
      ]
     },
     "execution_count": 151,
     "metadata": {},
     "output_type": "execute_result"
    }
   ],
   "source": [
    "np.log2(newData)"
   ]
  },
  {
   "cell_type": "code",
   "execution_count": 152,
   "id": "8e6d59e5",
   "metadata": {},
   "outputs": [
    {
     "data": {
      "text/plain": [
       "19"
      ]
     },
     "execution_count": 152,
     "metadata": {},
     "output_type": "execute_result"
    }
   ],
   "source": [
    "np.max(newData)"
   ]
  },
  {
   "cell_type": "code",
   "execution_count": 153,
   "id": "f70925fd",
   "metadata": {},
   "outputs": [
    {
     "data": {
      "text/plain": [
       "0"
      ]
     },
     "execution_count": 153,
     "metadata": {},
     "output_type": "execute_result"
    }
   ],
   "source": [
    "np.min(newData)"
   ]
  },
  {
   "cell_type": "code",
   "execution_count": 154,
   "id": "df1d0d07",
   "metadata": {},
   "outputs": [
    {
     "data": {
      "text/plain": [
       "20"
      ]
     },
     "execution_count": 154,
     "metadata": {},
     "output_type": "execute_result"
    }
   ],
   "source": [
    "np.size(newData)"
   ]
  },
  {
   "cell_type": "code",
   "execution_count": 155,
   "id": "f9f23857",
   "metadata": {},
   "outputs": [
    {
     "data": {
      "text/plain": [
       "array([  0,   1,   3,   6,  10,  15,  21,  28,  36,  45,  55,  66,  78,\n",
       "        91, 105, 120, 136, 153, 171, 190], dtype=int32)"
      ]
     },
     "execution_count": 155,
     "metadata": {},
     "output_type": "execute_result"
    }
   ],
   "source": [
    "np.add.accumulate(newData)"
   ]
  },
  {
   "cell_type": "code",
   "execution_count": 159,
   "id": "0ffefa78",
   "metadata": {},
   "outputs": [
    {
     "data": {
      "text/plain": [
       "190"
      ]
     },
     "execution_count": 159,
     "metadata": {},
     "output_type": "execute_result"
    }
   ],
   "source": [
    "np.add.reduce(newData)"
   ]
  },
  {
   "cell_type": "code",
   "execution_count": 161,
   "id": "175791c8",
   "metadata": {},
   "outputs": [
    {
     "data": {
      "text/plain": [
       "array([0, 0, 0, 0, 0, 0, 0, 0, 0, 0, 0, 0, 0, 0, 0, 0, 0, 0, 0, 0],\n",
       "      dtype=int32)"
      ]
     },
     "execution_count": 161,
     "metadata": {},
     "output_type": "execute_result"
    }
   ],
   "source": [
    "np.multiply.accumulate(newData)"
   ]
  },
  {
   "cell_type": "code",
   "execution_count": 163,
   "id": "e4af59dc",
   "metadata": {},
   "outputs": [
    {
     "data": {
      "text/plain": [
       "0"
      ]
     },
     "execution_count": 163,
     "metadata": {},
     "output_type": "execute_result"
    }
   ],
   "source": [
    "np.multiply.reduce(newData)"
   ]
  },
  {
   "cell_type": "code",
   "execution_count": 167,
   "id": "9bce92af",
   "metadata": {},
   "outputs": [],
   "source": [
    "all =newData.reshape(4,5)"
   ]
  },
  {
   "cell_type": "code",
   "execution_count": 168,
   "id": "fd58c13e",
   "metadata": {},
   "outputs": [
    {
     "data": {
      "text/plain": [
       "array([[  0,   0,   0,   0,   0,   0,   0,   0,   0,   0,   0,   0,   0,\n",
       "          0,   0,   0,   0,   0,   0,   0],\n",
       "       [  0,   1,   2,   3,   4,   5,   6,   7,   8,   9,  10,  11,  12,\n",
       "         13,  14,  15,  16,  17,  18,  19],\n",
       "       [  0,   2,   4,   6,   8,  10,  12,  14,  16,  18,  20,  22,  24,\n",
       "         26,  28,  30,  32,  34,  36,  38],\n",
       "       [  0,   3,   6,   9,  12,  15,  18,  21,  24,  27,  30,  33,  36,\n",
       "         39,  42,  45,  48,  51,  54,  57],\n",
       "       [  0,   4,   8,  12,  16,  20,  24,  28,  32,  36,  40,  44,  48,\n",
       "         52,  56,  60,  64,  68,  72,  76],\n",
       "       [  0,   5,  10,  15,  20,  25,  30,  35,  40,  45,  50,  55,  60,\n",
       "         65,  70,  75,  80,  85,  90,  95],\n",
       "       [  0,   6,  12,  18,  24,  30,  36,  42,  48,  54,  60,  66,  72,\n",
       "         78,  84,  90,  96, 102, 108, 114],\n",
       "       [  0,   7,  14,  21,  28,  35,  42,  49,  56,  63,  70,  77,  84,\n",
       "         91,  98, 105, 112, 119, 126, 133],\n",
       "       [  0,   8,  16,  24,  32,  40,  48,  56,  64,  72,  80,  88,  96,\n",
       "        104, 112, 120, 128, 136, 144, 152],\n",
       "       [  0,   9,  18,  27,  36,  45,  54,  63,  72,  81,  90,  99, 108,\n",
       "        117, 126, 135, 144, 153, 162, 171],\n",
       "       [  0,  10,  20,  30,  40,  50,  60,  70,  80,  90, 100, 110, 120,\n",
       "        130, 140, 150, 160, 170, 180, 190],\n",
       "       [  0,  11,  22,  33,  44,  55,  66,  77,  88,  99, 110, 121, 132,\n",
       "        143, 154, 165, 176, 187, 198, 209],\n",
       "       [  0,  12,  24,  36,  48,  60,  72,  84,  96, 108, 120, 132, 144,\n",
       "        156, 168, 180, 192, 204, 216, 228],\n",
       "       [  0,  13,  26,  39,  52,  65,  78,  91, 104, 117, 130, 143, 156,\n",
       "        169, 182, 195, 208, 221, 234, 247],\n",
       "       [  0,  14,  28,  42,  56,  70,  84,  98, 112, 126, 140, 154, 168,\n",
       "        182, 196, 210, 224, 238, 252, 266],\n",
       "       [  0,  15,  30,  45,  60,  75,  90, 105, 120, 135, 150, 165, 180,\n",
       "        195, 210, 225, 240, 255, 270, 285],\n",
       "       [  0,  16,  32,  48,  64,  80,  96, 112, 128, 144, 160, 176, 192,\n",
       "        208, 224, 240, 256, 272, 288, 304],\n",
       "       [  0,  17,  34,  51,  68,  85, 102, 119, 136, 153, 170, 187, 204,\n",
       "        221, 238, 255, 272, 289, 306, 323],\n",
       "       [  0,  18,  36,  54,  72,  90, 108, 126, 144, 162, 180, 198, 216,\n",
       "        234, 252, 270, 288, 306, 324, 342],\n",
       "       [  0,  19,  38,  57,  76,  95, 114, 133, 152, 171, 190, 209, 228,\n",
       "        247, 266, 285, 304, 323, 342, 361]])"
      ]
     },
     "execution_count": 168,
     "metadata": {},
     "output_type": "execute_result"
    }
   ],
   "source": [
    "np.multiply.outer(newData, newData)"
   ]
  },
  {
   "cell_type": "code",
   "execution_count": 169,
   "id": "bf195e47",
   "metadata": {},
   "outputs": [
    {
     "data": {
      "text/plain": [
       "(4, 5)"
      ]
     },
     "execution_count": 169,
     "metadata": {},
     "output_type": "execute_result"
    }
   ],
   "source": [
    "all.shape"
   ]
  },
  {
   "cell_type": "code",
   "execution_count": 172,
   "id": "e8c16169",
   "metadata": {},
   "outputs": [
    {
     "data": {
      "text/plain": [
       "array([[ 0,  1,  2,  3,  4],\n",
       "       [ 5,  6,  7,  8,  9],\n",
       "       [10, 11, 12, 13, 14],\n",
       "       [15, 16, 17, 18, 19]])"
      ]
     },
     "execution_count": 172,
     "metadata": {},
     "output_type": "execute_result"
    }
   ],
   "source": [
    "all"
   ]
  },
  {
   "cell_type": "code",
   "execution_count": 171,
   "id": "a927e989",
   "metadata": {},
   "outputs": [
    {
     "data": {
      "text/plain": [
       "array([30, 34, 38, 42, 46])"
      ]
     },
     "execution_count": 171,
     "metadata": {},
     "output_type": "execute_result"
    }
   ],
   "source": [
    "all.sum(axis = 0)"
   ]
  },
  {
   "cell_type": "code",
   "execution_count": 173,
   "id": "c6b7b835",
   "metadata": {},
   "outputs": [
    {
     "data": {
      "text/plain": [
       "array([10, 35, 60, 85])"
      ]
     },
     "execution_count": 173,
     "metadata": {},
     "output_type": "execute_result"
    }
   ],
   "source": [
    "all.sum(axis = 1)"
   ]
  },
  {
   "cell_type": "code",
   "execution_count": 174,
   "id": "95f023dc",
   "metadata": {},
   "outputs": [
    {
     "data": {
      "text/plain": [
       "9.5"
      ]
     },
     "execution_count": 174,
     "metadata": {},
     "output_type": "execute_result"
    }
   ],
   "source": [
    " np.mean(all)"
   ]
  },
  {
   "cell_type": "code",
   "execution_count": 175,
   "id": "195ce543",
   "metadata": {},
   "outputs": [
    {
     "data": {
      "text/plain": [
       "array([[ 0,  1,  2,  3,  4],\n",
       "       [ 5,  6,  7,  8,  9],\n",
       "       [10, 11, 12, 13, 14],\n",
       "       [15, 16, 17, 18, 19]])"
      ]
     },
     "execution_count": 175,
     "metadata": {},
     "output_type": "execute_result"
    }
   ],
   "source": [
    "np.stack(all)"
   ]
  },
  {
   "cell_type": "code",
   "execution_count": 176,
   "id": "6985bdbf",
   "metadata": {},
   "outputs": [
    {
     "data": {
      "text/plain": [
       "5.766281297335398"
      ]
     },
     "execution_count": 176,
     "metadata": {},
     "output_type": "execute_result"
    }
   ],
   "source": [
    "np.std(all)"
   ]
  },
  {
   "cell_type": "code",
   "execution_count": 177,
   "id": "545e21e2",
   "metadata": {},
   "outputs": [
    {
     "data": {
      "text/plain": [
       "9.5"
      ]
     },
     "execution_count": 177,
     "metadata": {},
     "output_type": "execute_result"
    }
   ],
   "source": [
    "np.median(all)"
   ]
  },
  {
   "cell_type": "code",
   "execution_count": 179,
   "id": "d4d77a1c",
   "metadata": {},
   "outputs": [
    {
     "data": {
      "text/plain": [
       "4.75"
      ]
     },
     "execution_count": 179,
     "metadata": {},
     "output_type": "execute_result"
    }
   ],
   "source": [
    "np.percentile(all, 25)"
   ]
  },
  {
   "cell_type": "code",
   "execution_count": 180,
   "id": "bf3dac8a",
   "metadata": {},
   "outputs": [
    {
     "data": {
      "text/plain": [
       "9.5"
      ]
     },
     "execution_count": 180,
     "metadata": {},
     "output_type": "execute_result"
    }
   ],
   "source": [
    "np.percentile(all,50)"
   ]
  },
  {
   "cell_type": "markdown",
   "id": "ac1ab624",
   "metadata": {},
   "source": [
    "# DAY 3"
   ]
  },
  {
   "cell_type": "code",
   "execution_count": 210,
   "id": "1c1d2fbd",
   "metadata": {},
   "outputs": [
    {
     "data": {
      "text/plain": [
       "array([16.,  1.,  2., 13.,  3., 10., nan, 25.,  5.,  6., nan,  7.,  8.])"
      ]
     },
     "execution_count": 210,
     "metadata": {},
     "output_type": "execute_result"
    }
   ],
   "source": [
    "mydata = np.array([16, 1, 2,13, 3, 10, np.nan,25, 5, 6, np.nan, 7, 8])\n",
    "mydata"
   ]
  },
  {
   "cell_type": "code",
   "execution_count": 211,
   "id": "daafcb24",
   "metadata": {},
   "outputs": [
    {
     "name": "stdout",
     "output_type": "stream",
     "text": [
      "sum:  96.0\n"
     ]
    }
   ],
   "source": [
    "print(\"sum: \", np.nansum(mydata))"
   ]
  },
  {
   "cell_type": "code",
   "execution_count": 212,
   "id": "63f6ce5b",
   "metadata": {},
   "outputs": [
    {
     "name": "stdout",
     "output_type": "stream",
     "text": [
      "product:  524160000.0\n"
     ]
    }
   ],
   "source": [
    "print(\"product: \", np.nanprod(mydata))"
   ]
  },
  {
   "cell_type": "code",
   "execution_count": 213,
   "id": "4e19a616",
   "metadata": {},
   "outputs": [
    {
     "data": {
      "text/plain": [
       "7"
      ]
     },
     "execution_count": 213,
     "metadata": {},
     "output_type": "execute_result"
    }
   ],
   "source": [
    "np.nanargmax(mydata)"
   ]
  },
  {
   "cell_type": "code",
   "execution_count": 214,
   "id": "afcb0ae8",
   "metadata": {},
   "outputs": [
    {
     "data": {
      "text/plain": [
       "1"
      ]
     },
     "execution_count": 214,
     "metadata": {},
     "output_type": "execute_result"
    }
   ],
   "source": [
    "np.nanargmin(mydata)"
   ]
  },
  {
   "cell_type": "code",
   "execution_count": 221,
   "id": "abadaedc",
   "metadata": {},
   "outputs": [
    {
     "name": "stdout",
     "output_type": "stream",
     "text": [
      "cumulative product of array elements over a given axis treating Not aNumbers (NaNs) as one\n"
     ]
    },
    {
     "data": {
      "text/plain": [
       "array([1.6000e+01, 1.6000e+01, 3.2000e+01, 4.1600e+02, 1.2480e+03,\n",
       "       1.2480e+04, 1.2480e+04, 3.1200e+05, 1.5600e+06, 9.3600e+06,\n",
       "       9.3600e+06, 6.5520e+07, 5.2416e+08])"
      ]
     },
     "execution_count": 221,
     "metadata": {},
     "output_type": "execute_result"
    }
   ],
   "source": [
    "print(\"cumulative product of array elements over a given axis treating Not aNumbers (NaNs) as one\")\n",
    "# np.nancumprod?\n",
    "np.nancumprod(mydata)"
   ]
  },
  {
   "cell_type": "code",
   "execution_count": 224,
   "id": "f5a5c180",
   "metadata": {},
   "outputs": [
    {
     "name": "stdout",
     "output_type": "stream",
     "text": [
      "25.0\n",
      "1.0\n",
      "7.0\n"
     ]
    }
   ],
   "source": [
    "print(np.nanmax(mydata))\n",
    "print(np.nanmin(mydata))\n",
    "print(np.nanmedian(mydata))"
   ]
  },
  {
   "cell_type": "code",
   "execution_count": 238,
   "id": "126eb2fe",
   "metadata": {},
   "outputs": [],
   "source": [
    "xdata = np.array(([1,2,3],[4,5,6]))\n",
    "ydata = np.array(([1,2,4],[4,5,6]))"
   ]
  },
  {
   "cell_type": "code",
   "execution_count": 239,
   "id": "9cfc5a2c",
   "metadata": {},
   "outputs": [
    {
     "data": {
      "text/plain": [
       "array([[1, 2, 3],\n",
       "       [4, 5, 6]])"
      ]
     },
     "execution_count": 239,
     "metadata": {},
     "output_type": "execute_result"
    }
   ],
   "source": [
    "xdata"
   ]
  },
  {
   "cell_type": "code",
   "execution_count": 240,
   "id": "2980a680",
   "metadata": {},
   "outputs": [
    {
     "data": {
      "text/plain": [
       "array([[1, 2, 4],\n",
       "       [4, 5, 6]])"
      ]
     },
     "execution_count": 240,
     "metadata": {},
     "output_type": "execute_result"
    }
   ],
   "source": [
    "ydata"
   ]
  },
  {
   "cell_type": "code",
   "execution_count": 241,
   "id": "9bf579ae",
   "metadata": {},
   "outputs": [
    {
     "data": {
      "text/plain": [
       "array([[ 2,  4,  7],\n",
       "       [ 8, 10, 12]])"
      ]
     },
     "execution_count": 241,
     "metadata": {},
     "output_type": "execute_result"
    }
   ],
   "source": [
    "xdata + ydata"
   ]
  },
  {
   "cell_type": "code",
   "execution_count": 242,
   "id": "a2dba9f1",
   "metadata": {},
   "outputs": [
    {
     "data": {
      "text/plain": [
       "array([[ 0,  0, -1],\n",
       "       [ 0,  0,  0]])"
      ]
     },
     "execution_count": 242,
     "metadata": {},
     "output_type": "execute_result"
    }
   ],
   "source": [
    "xdata - ydata"
   ]
  },
  {
   "cell_type": "code",
   "execution_count": 243,
   "id": "a9c135be",
   "metadata": {},
   "outputs": [
    {
     "data": {
      "text/plain": [
       "array([4, 7, 9])"
      ]
     },
     "execution_count": 243,
     "metadata": {},
     "output_type": "execute_result"
    }
   ],
   "source": [
    "zdata =np.array([4,7,9])\n",
    "zdata"
   ]
  },
  {
   "cell_type": "code",
   "execution_count": 244,
   "id": "3c4cbecc",
   "metadata": {},
   "outputs": [
    {
     "data": {
      "text/plain": [
       "array([[ 5,  9, 12],\n",
       "       [ 8, 12, 15]])"
      ]
     },
     "execution_count": 244,
     "metadata": {},
     "output_type": "execute_result"
    }
   ],
   "source": [
    "xdata + zdata"
   ]
  },
  {
   "cell_type": "code",
   "execution_count": 247,
   "id": "c3a6d23c",
   "metadata": {},
   "outputs": [
    {
     "data": {
      "text/plain": [
       "array([[4],\n",
       "       [7],\n",
       "       [9]])"
      ]
     },
     "execution_count": 247,
     "metadata": {},
     "output_type": "execute_result"
    }
   ],
   "source": [
    "rszdata=zdata.reshape(3,1)\n",
    "rszdata"
   ]
  },
  {
   "cell_type": "code",
   "execution_count": 250,
   "id": "ec0e3d49",
   "metadata": {},
   "outputs": [],
   "source": [
    "threedata =np.arange(9).reshape(3,3)"
   ]
  },
  {
   "cell_type": "code",
   "execution_count": 251,
   "id": "136875f9",
   "metadata": {},
   "outputs": [
    {
     "data": {
      "text/plain": [
       "array([[ 4,  5,  6],\n",
       "       [10, 11, 12],\n",
       "       [15, 16, 17]])"
      ]
     },
     "execution_count": 251,
     "metadata": {},
     "output_type": "execute_result"
    }
   ],
   "source": [
    "threedata+rszdata"
   ]
  },
  {
   "cell_type": "code",
   "execution_count": 263,
   "id": "028fe5be",
   "metadata": {},
   "outputs": [
    {
     "data": {
      "text/plain": [
       "array([[3, 8, 2, 4],\n",
       "       [2, 6, 4, 8],\n",
       "       [6, 1, 3, 8]])"
      ]
     },
     "execution_count": 263,
     "metadata": {},
     "output_type": "execute_result"
    }
   ],
   "source": [
    "x2 = np.random.randint(10, size=(3,4))\n",
    "x2\n",
    "\n",
    "working with Boolean Arrays, Boolean operators,Boolean Array masking,Fancy Indexing,Combine Indexing"
   ]
  },
  {
   "cell_type": "code",
   "execution_count": 264,
   "id": "d9c29b47",
   "metadata": {},
   "outputs": [
    {
     "data": {
      "text/plain": [
       "array([[3, 8, 2, 4],\n",
       "       [6, 1, 3, 8]])"
      ]
     },
     "execution_count": 264,
     "metadata": {},
     "output_type": "execute_result"
    }
   ],
   "source": [
    "x2[::2]"
   ]
  },
  {
   "cell_type": "code",
   "execution_count": 265,
   "id": "8ff3fa02",
   "metadata": {},
   "outputs": [
    {
     "data": {
      "text/plain": [
       "array([[6, 1, 3, 8]])"
      ]
     },
     "execution_count": 265,
     "metadata": {},
     "output_type": "execute_result"
    }
   ],
   "source": [
    "x2[2::]"
   ]
  },
  {
   "cell_type": "code",
   "execution_count": 266,
   "id": "6a44ab17",
   "metadata": {},
   "outputs": [
    {
     "data": {
      "text/plain": [
       "array([[6, 1, 3, 8]])"
      ]
     },
     "execution_count": 266,
     "metadata": {},
     "output_type": "execute_result"
    }
   ],
   "source": [
    "x2[2:3]"
   ]
  },
  {
   "cell_type": "code",
   "execution_count": 267,
   "id": "4b1f5394",
   "metadata": {},
   "outputs": [
    {
     "data": {
      "text/plain": [
       "array([[3, 8, 2, 4],\n",
       "       [2, 6, 4, 8],\n",
       "       [6, 1, 3, 8]])"
      ]
     },
     "execution_count": 267,
     "metadata": {},
     "output_type": "execute_result"
    }
   ],
   "source": [
    "x2[:,:]"
   ]
  },
  {
   "cell_type": "code",
   "execution_count": 268,
   "id": "df122db7",
   "metadata": {},
   "outputs": [
    {
     "data": {
      "text/plain": [
       "array([[3, 8, 2, 4],\n",
       "       [2, 6, 4, 8],\n",
       "       [6, 1, 3, 8]])"
      ]
     },
     "execution_count": 268,
     "metadata": {},
     "output_type": "execute_result"
    }
   ],
   "source": [
    "x2[::,::]"
   ]
  },
  {
   "cell_type": "code",
   "execution_count": 269,
   "id": "8095e9cd",
   "metadata": {},
   "outputs": [
    {
     "data": {
      "text/plain": [
       "array([[3, 8],\n",
       "       [2, 6]])"
      ]
     },
     "execution_count": 269,
     "metadata": {},
     "output_type": "execute_result"
    }
   ],
   "source": [
    "x2[:2,:2]"
   ]
  },
  {
   "cell_type": "code",
   "execution_count": 270,
   "id": "9f3b147a",
   "metadata": {},
   "outputs": [
    {
     "data": {
      "text/plain": [
       "array([[3, 8, 2],\n",
       "       [2, 6, 4],\n",
       "       [6, 1, 3]])"
      ]
     },
     "execution_count": 270,
     "metadata": {},
     "output_type": "execute_result"
    }
   ],
   "source": [
    "x2[:3,:3]"
   ]
  },
  {
   "cell_type": "code",
   "execution_count": 271,
   "id": "1ad1a7bf",
   "metadata": {},
   "outputs": [
    {
     "data": {
      "text/plain": [
       "array([[3, 4]])"
      ]
     },
     "execution_count": 271,
     "metadata": {},
     "output_type": "execute_result"
    }
   ],
   "source": [
    "x2[::3,::3]"
   ]
  },
  {
   "cell_type": "code",
   "execution_count": 273,
   "id": "82c4650d",
   "metadata": {},
   "outputs": [
    {
     "data": {
      "text/plain": [
       "array([[3, 8, 2, 4],\n",
       "       [2, 6, 4, 8]])"
      ]
     },
     "execution_count": 273,
     "metadata": {},
     "output_type": "execute_result"
    }
   ],
   "source": [
    "x2[:2]"
   ]
  },
  {
   "cell_type": "code",
   "execution_count": 274,
   "id": "ab648402",
   "metadata": {},
   "outputs": [
    {
     "data": {
      "text/plain": [
       "array([[3, 8, 2],\n",
       "       [2, 6, 4],\n",
       "       [6, 1, 3]])"
      ]
     },
     "execution_count": 274,
     "metadata": {},
     "output_type": "execute_result"
    }
   ],
   "source": [
    "x2[:,:3]"
   ]
  },
  {
   "cell_type": "code",
   "execution_count": 275,
   "id": "a3ecb217",
   "metadata": {},
   "outputs": [
    {
     "data": {
      "text/plain": [
       "array([2, 4, 3])"
      ]
     },
     "execution_count": 275,
     "metadata": {},
     "output_type": "execute_result"
    }
   ],
   "source": [
    "view =x2[::,2].copy()\n",
    "view"
   ]
  },
  {
   "cell_type": "code",
   "execution_count": 278,
   "id": "c44cf8dd",
   "metadata": {},
   "outputs": [
    {
     "data": {
      "text/plain": [
       "array([[1, 9, 8, 9],\n",
       "       [4, 1, 3, 6],\n",
       "       [7, 2, 0, 3]])"
      ]
     },
     "execution_count": 278,
     "metadata": {},
     "output_type": "execute_result"
    }
   ],
   "source": [
    "x2 = np.random.randint(10, size=(3,4))\n",
    "x2"
   ]
  },
  {
   "cell_type": "code",
   "execution_count": 279,
   "id": "c9f0c9e8",
   "metadata": {},
   "outputs": [
    {
     "data": {
      "text/plain": [
       "[array([1, 9, 8, 9]), array([4, 1, 3, 6])]"
      ]
     },
     "execution_count": 279,
     "metadata": {},
     "output_type": "execute_result"
    }
   ],
   "source": [
    "[x2[0],x2[1]]"
   ]
  },
  {
   "cell_type": "code",
   "execution_count": 280,
   "id": "70ab7cf4",
   "metadata": {},
   "outputs": [
    {
     "data": {
      "text/plain": [
       "9"
      ]
     },
     "execution_count": 280,
     "metadata": {},
     "output_type": "execute_result"
    }
   ],
   "source": [
    "x2[0,1]"
   ]
  },
  {
   "cell_type": "code",
   "execution_count": 282,
   "id": "6f22e4da",
   "metadata": {},
   "outputs": [
    {
     "data": {
      "text/plain": [
       "[array([[1, 9, 8, 9],\n",
       "        [4, 1, 3, 6]]),\n",
       " array([[7, 2, 0, 3]])]"
      ]
     },
     "execution_count": 282,
     "metadata": {},
     "output_type": "execute_result"
    }
   ],
   "source": [
    "[x2[:2],x2[2:]]"
   ]
  },
  {
   "cell_type": "code",
   "execution_count": 290,
   "id": "837dde7e",
   "metadata": {},
   "outputs": [
    {
     "data": {
      "text/plain": [
       "5"
      ]
     },
     "execution_count": 290,
     "metadata": {},
     "output_type": "execute_result"
    }
   ],
   "source": [
    "a3D = np.array([[[[[1, 2], [3, 4]],[[1, 2], [3, 4]], [[5, 6], [7, 8]]]]])\n",
    "a3D.ndim"
   ]
  },
  {
   "cell_type": "code",
   "execution_count": 298,
   "id": "3193440d",
   "metadata": {},
   "outputs": [
    {
     "data": {
      "text/plain": [
       "array([ 127, -128, -127], dtype=int8)"
      ]
     },
     "execution_count": 298,
     "metadata": {},
     "output_type": "execute_result"
    }
   ],
   "source": [
    "a = np.array([127, 128, 129], dtype=np.int8)\n",
    "a"
   ]
  },
  {
   "cell_type": "code",
   "execution_count": 299,
   "id": "5e77b761",
   "metadata": {},
   "outputs": [
    {
     "data": {
      "text/plain": [
       "array([[1, 2],\n",
       "       [3, 4],\n",
       "       [5, 6]])"
      ]
     },
     "execution_count": 299,
     "metadata": {},
     "output_type": "execute_result"
    }
   ],
   "source": [
    "x = np.array([[1, 2], [3, 4], [5, 6]])\n",
    "x\n",
    "\n",
    "Writing custom array containers"
   ]
  },
  {
   "cell_type": "markdown",
   "id": "d335848e",
   "metadata": {},
   "source": [
    "# DAY 4"
   ]
  },
  {
   "cell_type": "code",
   "execution_count": 327,
   "id": "b15dea51",
   "metadata": {},
   "outputs": [
    {
     "data": {
      "text/plain": [
       "array([[ 0,  1,  2,  3,  4,  5,  6],\n",
       "       [ 7,  8,  9, 10, 11, 12, 13],\n",
       "       [14, 15, 16, 17, 18, 19, 20],\n",
       "       [21, 22, 23, 24, 25, 26, 27],\n",
       "       [28, 29, 30, 31, 32, 33, 34]])"
      ]
     },
     "execution_count": 327,
     "metadata": {},
     "output_type": "execute_result"
    }
   ],
   "source": [
    "x = np.arange(35).reshape(5, 7)\n",
    "b = x > 20\n",
    "x\n",
    "# b[:, 5]\n",
    "# x[b[:, 5]]"
   ]
  },
  {
   "cell_type": "code",
   "execution_count": 328,
   "id": "e3566d18",
   "metadata": {},
   "outputs": [
    {
     "data": {
      "text/plain": [
       "array([21, 22, 23, 24, 25, 26, 27, 28, 29, 30, 31, 32, 33, 34])"
      ]
     },
     "execution_count": 328,
     "metadata": {},
     "output_type": "execute_result"
    }
   ],
   "source": [
    "x[b]"
   ]
  },
  {
   "cell_type": "code",
   "execution_count": 329,
   "id": "9b405df4",
   "metadata": {},
   "outputs": [
    {
     "data": {
      "text/plain": [
       "array([1, 2, 4])"
      ]
     },
     "execution_count": 329,
     "metadata": {},
     "output_type": "execute_result"
    }
   ],
   "source": [
    "x = np.array([[0, 1], [1, 1], [2, 2]])\n",
    "rowsum = x.sum(-1)\n",
    "rowsum\n",
    "# x[rowsum <= 2, :]\n",
    "# array([[0, 1],\n",
    "# [1, 1]])\n"
   ]
  },
  {
   "cell_type": "code",
   "execution_count": 330,
   "id": "ee2e22f7",
   "metadata": {},
   "outputs": [
    {
     "data": {
      "text/plain": [
       "array([1, 0, 1, 0], dtype=int32)"
      ]
     },
     "execution_count": 330,
     "metadata": {},
     "output_type": "execute_result"
    }
   ],
   "source": [
    "x = np.array([[ 0, 1, 2],\n",
    "[ 3, 4, 5],\n",
    "[ 6, 7, 8],\n",
    "[ 9, 10, 11]])\n",
    "rows = (x.sum(-1) % 2) \n",
    "rows"
   ]
  },
  {
   "cell_type": "code",
   "execution_count": 331,
   "id": "caae868f",
   "metadata": {},
   "outputs": [
    {
     "data": {
      "text/plain": [
       "40"
      ]
     },
     "execution_count": 331,
     "metadata": {},
     "output_type": "execute_result"
    }
   ],
   "source": [
    "z = np.arange(81).reshape(3, 3, 3, 3)\n",
    "indices = (1, 1, 1, 1)\n",
    "z[indices]\n"
   ]
  },
  {
   "cell_type": "code",
   "execution_count": 332,
   "id": "0908eedd",
   "metadata": {},
   "outputs": [
    {
     "data": {
      "text/plain": [
       "array([39, 40])"
      ]
     },
     "execution_count": 332,
     "metadata": {},
     "output_type": "execute_result"
    }
   ],
   "source": [
    "indices = (1, 1, 1, slice(0, 2)) # same as [1, 1, 1, 0:2]\n",
    "z[indices]\n"
   ]
  },
  {
   "cell_type": "code",
   "execution_count": 333,
   "id": "a5b6bdeb",
   "metadata": {},
   "outputs": [
    {
     "data": {
      "text/plain": [
       "array([[28, 31, 34],\n",
       "       [37, 40, 43],\n",
       "       [46, 49, 52]])"
      ]
     },
     "execution_count": 333,
     "metadata": {},
     "output_type": "execute_result"
    }
   ],
   "source": [
    "indices = (1, Ellipsis, 1) # same as [1, ..., 1]\n",
    "z[indices]"
   ]
  },
  {
   "cell_type": "code",
   "execution_count": 335,
   "id": "5b56b489",
   "metadata": {},
   "outputs": [
    {
     "data": {
      "text/plain": [
       "array([('Rex', 9, 81.), ('Fido', 3, 27.)],\n",
       "      dtype=[('name', '<U10'), ('age', '<i4'), ('weight', '<f4')])"
      ]
     },
     "execution_count": 335,
     "metadata": {},
     "output_type": "execute_result"
    }
   ],
   "source": [
    "x = np.array([('Rex', 9, 81.0), ('Fido', 3, 27.0)],dtype=[('name', 'U10'), ('age', 'i4'), ('weight', 'f4')])\n",
    "x"
   ]
  },
  {
   "cell_type": "code",
   "execution_count": 336,
   "id": "9daa25db",
   "metadata": {},
   "outputs": [
    {
     "data": {
      "text/plain": [
       "array([9, 3])"
      ]
     },
     "execution_count": 336,
     "metadata": {},
     "output_type": "execute_result"
    }
   ],
   "source": [
    "x['age']"
   ]
  },
  {
   "cell_type": "code",
   "execution_count": 337,
   "id": "3741b36d",
   "metadata": {},
   "outputs": [
    {
     "data": {
      "text/plain": [
       "dtype([('f0', 'i1', (3,)), ('f1', '<f4'), ('f2', '<f8', (2, 3))])"
      ]
     },
     "execution_count": 337,
     "metadata": {},
     "output_type": "execute_result"
    }
   ],
   "source": [
    "np.dtype('3int8, float32, (2, 3)float64')\n"
   ]
  },
  {
   "cell_type": "code",
   "execution_count": 338,
   "id": "36228f47",
   "metadata": {},
   "outputs": [
    {
     "data": {
      "text/plain": [
       "dtype([('col1', '<i4'), ('col2', '<f4')])"
      ]
     },
     "execution_count": 338,
     "metadata": {},
     "output_type": "execute_result"
    }
   ],
   "source": [
    "np.dtype({'names': ['col1', 'col2'], 'formats': ['i4', 'f4']})\n"
   ]
  },
  {
   "cell_type": "code",
   "execution_count": 339,
   "id": "300a6cf2",
   "metadata": {},
   "outputs": [
    {
     "data": {
      "text/plain": [
       "('x', 'y')"
      ]
     },
     "execution_count": 339,
     "metadata": {},
     "output_type": "execute_result"
    }
   ],
   "source": [
    "dm = np.dtype([('x', 'i8'), ('y', 'f4')])\n",
    "dm.names\n"
   ]
  },
  {
   "cell_type": "code",
   "execution_count": 340,
   "id": "effb0914",
   "metadata": {},
   "outputs": [
    {
     "data": {
      "text/plain": [
       "mappingproxy({'x': (dtype('int64'), 0), 'y': (dtype('float32'), 8)})"
      ]
     },
     "execution_count": 340,
     "metadata": {},
     "output_type": "execute_result"
    }
   ],
   "source": [
    "dm.fields"
   ]
  },
  {
   "cell_type": "code",
   "execution_count": null,
   "id": "088f95b0",
   "metadata": {},
   "outputs": [],
   "source": []
  },
  {
   "cell_type": "markdown",
   "id": "fbfbbb85",
   "metadata": {},
   "source": [
    "# DAY 5"
   ]
  },
  {
   "cell_type": "code",
   "execution_count": 2,
   "id": "1601a231",
   "metadata": {},
   "outputs": [
    {
     "data": {
      "text/plain": [
       "array([1, 2, 3, 4, 5])"
      ]
     },
     "execution_count": 2,
     "metadata": {},
     "output_type": "execute_result"
    }
   ],
   "source": [
    "onedim = np.array([2,1,4,3,5], dtype=int)\n",
    "onedim.sort()\n",
    "onedim"
   ]
  },
  {
   "cell_type": "code",
   "execution_count": 3,
   "id": "3c933099",
   "metadata": {},
   "outputs": [
    {
     "data": {
      "text/plain": [
       "array([1, 2, 3, 4, 5])"
      ]
     },
     "execution_count": 3,
     "metadata": {},
     "output_type": "execute_result"
    }
   ],
   "source": [
    "np.sort(onedim)"
   ]
  },
  {
   "cell_type": "code",
   "execution_count": 4,
   "id": "18325afc",
   "metadata": {},
   "outputs": [
    {
     "name": "stdout",
     "output_type": "stream",
     "text": [
      "[1 0 3 2 4]\n"
     ]
    }
   ],
   "source": [
    "f = np.array([2,1,4,3,5], dtype=int)\n",
    "i = np.argsort(f)\n",
    "print(i)"
   ]
  },
  {
   "cell_type": "code",
   "execution_count": 5,
   "id": "703918af",
   "metadata": {},
   "outputs": [
    {
     "data": {
      "text/plain": [
       "array([1, 2, 3, 4, 5])"
      ]
     },
     "execution_count": 5,
     "metadata": {},
     "output_type": "execute_result"
    }
   ],
   "source": [
    "f[i]"
   ]
  },
  {
   "cell_type": "code",
   "execution_count": 9,
   "id": "62743d3c",
   "metadata": {},
   "outputs": [
    {
     "data": {
      "text/plain": [
       "array([[6, 3, 7, 4, 6, 9],\n",
       "       [2, 6, 7, 4, 3, 7],\n",
       "       [7, 2, 5, 4, 1, 7],\n",
       "       [5, 1, 4, 0, 9, 5]])"
      ]
     },
     "execution_count": 9,
     "metadata": {},
     "output_type": "execute_result"
    }
   ],
   "source": [
    "rand = np.random.RandomState(42)\n",
    "x = rand.randint(0,10, (4,6))\n",
    "x"
   ]
  },
  {
   "cell_type": "code",
   "execution_count": 10,
   "id": "48f90280",
   "metadata": {},
   "outputs": [
    {
     "data": {
      "text/plain": [
       "array([[2, 1, 4, 0, 1, 5],\n",
       "       [5, 2, 5, 4, 3, 7],\n",
       "       [6, 3, 7, 4, 6, 7],\n",
       "       [7, 6, 7, 4, 9, 9]])"
      ]
     },
     "execution_count": 10,
     "metadata": {},
     "output_type": "execute_result"
    }
   ],
   "source": [
    "np.sort(x, axis=0)"
   ]
  },
  {
   "cell_type": "code",
   "execution_count": 11,
   "id": "ba5339ca",
   "metadata": {},
   "outputs": [
    {
     "data": {
      "text/plain": [
       "array([[3, 4, 6, 6, 7, 9],\n",
       "       [2, 3, 4, 6, 7, 7],\n",
       "       [1, 2, 4, 5, 7, 7],\n",
       "       [0, 1, 4, 5, 5, 9]])"
      ]
     },
     "execution_count": 11,
     "metadata": {},
     "output_type": "execute_result"
    }
   ],
   "source": [
    "np.sort(x, axis=1)"
   ]
  },
  {
   "cell_type": "code",
   "execution_count": 12,
   "id": "45d889d2",
   "metadata": {},
   "outputs": [
    {
     "data": {
      "text/plain": [
       "array([2, 1, 3, 4, 6, 5, 7])"
      ]
     },
     "execution_count": 12,
     "metadata": {},
     "output_type": "execute_result"
    }
   ],
   "source": [
    "y = np.array([7,2,3,1,6,5,4])\n",
    "np.partition(y,3)"
   ]
  },
  {
   "cell_type": "code",
   "execution_count": 13,
   "id": "213f3a91",
   "metadata": {},
   "outputs": [
    {
     "data": {
      "text/plain": [
       "array([[3, 4, 6, 7, 6, 9],\n",
       "       [2, 3, 4, 7, 6, 7],\n",
       "       [1, 2, 4, 5, 7, 7],\n",
       "       [0, 1, 4, 5, 9, 5]])"
      ]
     },
     "execution_count": 13,
     "metadata": {},
     "output_type": "execute_result"
    }
   ],
   "source": [
    "np.partition(x, 2, axis=1)"
   ]
  },
  {
   "cell_type": "code",
   "execution_count": 14,
   "id": "c0ad3145",
   "metadata": {},
   "outputs": [],
   "source": [
    "# Sorting Arrays,sorting along row and column,Partial sorts: Partitioning"
   ]
  },
  {
   "cell_type": "markdown",
   "id": "c5ae4d5a",
   "metadata": {},
   "source": [
    "# DAY 6"
   ]
  },
  {
   "cell_type": "code",
   "execution_count": 3,
   "id": "00c78274",
   "metadata": {},
   "outputs": [],
   "source": [
    "import numpy as np\n",
    "import pandas as pd"
   ]
  },
  {
   "cell_type": "code",
   "execution_count": 40,
   "id": "27b18867",
   "metadata": {},
   "outputs": [
    {
     "data": {
      "text/plain": [
       "0    1\n",
       "1    2\n",
       "2    3\n",
       "3    4\n",
       "4    5\n",
       "5    6\n",
       "6    7\n",
       "7    8\n",
       "8    9\n",
       "dtype: int64"
      ]
     },
     "execution_count": 40,
     "metadata": {},
     "output_type": "execute_result"
    }
   ],
   "source": [
    "pandasData = pd.Series([1,2,3,4,5,6,7,8,9])\n",
    "pandasData"
   ]
  },
  {
   "cell_type": "code",
   "execution_count": 41,
   "id": "7e19ea22",
   "metadata": {},
   "outputs": [
    {
     "data": {
      "text/plain": [
       "array([1, 2, 3, 4, 5, 6, 7, 8, 9], dtype=int64)"
      ]
     },
     "execution_count": 41,
     "metadata": {},
     "output_type": "execute_result"
    }
   ],
   "source": [
    "pandasData.values"
   ]
  },
  {
   "cell_type": "code",
   "execution_count": 42,
   "id": "e1440080",
   "metadata": {},
   "outputs": [
    {
     "data": {
      "text/plain": [
       "<bound method Series.keys of 0    1\n",
       "1    2\n",
       "2    3\n",
       "3    4\n",
       "4    5\n",
       "5    6\n",
       "6    7\n",
       "7    8\n",
       "8    9\n",
       "dtype: int64>"
      ]
     },
     "execution_count": 42,
     "metadata": {},
     "output_type": "execute_result"
    }
   ],
   "source": [
    "pandasData.keys"
   ]
  },
  {
   "cell_type": "code",
   "execution_count": 43,
   "id": "2a6d3ac5",
   "metadata": {},
   "outputs": [
    {
     "data": {
      "text/plain": [
       "RangeIndex(start=0, stop=9, step=1)"
      ]
     },
     "execution_count": 43,
     "metadata": {},
     "output_type": "execute_result"
    }
   ],
   "source": [
    "pandasData.index"
   ]
  },
  {
   "cell_type": "code",
   "execution_count": 44,
   "id": "9885dfc9",
   "metadata": {},
   "outputs": [
    {
     "data": {
      "text/plain": [
       "0    1\n",
       "1    2\n",
       "2    3\n",
       "3    4\n",
       "4    5\n",
       "dtype: int64"
      ]
     },
     "execution_count": 44,
     "metadata": {},
     "output_type": "execute_result"
    }
   ],
   "source": [
    "pandasData[0:5]"
   ]
  },
  {
   "cell_type": "code",
   "execution_count": 45,
   "id": "6c8e8af7",
   "metadata": {},
   "outputs": [
    {
     "data": {
      "text/plain": [
       "4    5\n",
       "5    6\n",
       "6    7\n",
       "dtype: int64"
      ]
     },
     "execution_count": 45,
     "metadata": {},
     "output_type": "execute_result"
    }
   ],
   "source": [
    "pandasData[-5:-2]"
   ]
  },
  {
   "cell_type": "code",
   "execution_count": 46,
   "id": "a3f3b5e6",
   "metadata": {},
   "outputs": [
    {
     "data": {
      "text/plain": [
       "a    10\n",
       "b    11\n",
       "c    12\n",
       "d    13\n",
       "e    14\n",
       "f    15\n",
       "g    16\n",
       "h    17\n",
       "i    18\n",
       "dtype: int64"
      ]
     },
     "execution_count": 46,
     "metadata": {},
     "output_type": "execute_result"
    }
   ],
   "source": [
    "newData =pd.Series([10, 11, 12, 13, 14, 15, 16, 17, 18], index=['a', 'b', 'c', 'd', 'e', 'f', 'g', 'h', 'i'])\n",
    "newData"
   ]
  },
  {
   "cell_type": "code",
   "execution_count": 47,
   "id": "a3b68100",
   "metadata": {},
   "outputs": [
    {
     "data": {
      "text/plain": [
       "a    10\n",
       "b    11\n",
       "c    12\n",
       "d    13\n",
       "e    14\n",
       "f    15\n",
       "dtype: int64"
      ]
     },
     "execution_count": 47,
     "metadata": {},
     "output_type": "execute_result"
    }
   ],
   "source": [
    "newData['a':'f']"
   ]
  },
  {
   "cell_type": "code",
   "execution_count": 48,
   "id": "8be764a7",
   "metadata": {},
   "outputs": [
    {
     "data": {
      "text/plain": [
       "Facebook     2500000\n",
       "Linkedin    64000000\n",
       "Twitter     49000000\n",
       "Google      39500000\n",
       "Snapchat     8400000\n",
       "Telegram     8300000\n",
       "dtype: int64"
      ]
     },
     "execution_count": 48,
     "metadata": {},
     "output_type": "execute_result"
    }
   ],
   "source": [
    "social = {'Facebook':2500000, 'Linkedin':64000000, 'Twitter':49000000, 'Google':39500000, 'Snapchat':8400000, 'Telegram':8300000}\n",
    "socialinfo= pd.Series(states)\n",
    "socialinfo"
   ]
  },
  {
   "cell_type": "code",
   "execution_count": 49,
   "id": "c34d14d0",
   "metadata": {},
   "outputs": [
    {
     "data": {
      "text/plain": [
       "2500000"
      ]
     },
     "execution_count": 49,
     "metadata": {},
     "output_type": "execute_result"
    }
   ],
   "source": [
    "socialinfo['Facebook']"
   ]
  },
  {
   "cell_type": "code",
   "execution_count": 50,
   "id": "1e1d709d",
   "metadata": {},
   "outputs": [
    {
     "data": {
      "text/plain": [
       "Linkedin    64000000\n",
       "Twitter     49000000\n",
       "Google      39500000\n",
       "Snapchat     8400000\n",
       "dtype: int64"
      ]
     },
     "execution_count": 50,
     "metadata": {},
     "output_type": "execute_result"
    }
   ],
   "source": [
    "socialinfo['Linkedin':'Snapchat']"
   ]
  },
  {
   "cell_type": "markdown",
   "id": "74950239",
   "metadata": {},
   "source": [
    "# DAY 7"
   ]
  },
  {
   "cell_type": "code",
   "execution_count": 16,
   "id": "ac3ae1fd",
   "metadata": {},
   "outputs": [],
   "source": [
    "online = pd.Series({'Facebook':2500000, 'Linkedin':64000000, 'Twitter':49000000, 'Google':39500000, 'Snapchat':8400000, 'Telegram':8300000})"
   ]
  },
  {
   "cell_type": "code",
   "execution_count": 17,
   "id": "95523ece",
   "metadata": {},
   "outputs": [],
   "source": [
    "offline = pd.Series({'Facebook':500000, 'Linkedin':263000, 'Twitter':740000, 'Google':693000, 'Snapchat':644000, \n",
    "                      'Telegram':164500})\n"
   ]
  },
  {
   "cell_type": "code",
   "execution_count": 18,
   "id": "50f8c1ef",
   "metadata": {},
   "outputs": [
    {
     "data": {
      "text/html": [
       "<div>\n",
       "<style scoped>\n",
       "    .dataframe tbody tr th:only-of-type {\n",
       "        vertical-align: middle;\n",
       "    }\n",
       "\n",
       "    .dataframe tbody tr th {\n",
       "        vertical-align: top;\n",
       "    }\n",
       "\n",
       "    .dataframe thead th {\n",
       "        text-align: right;\n",
       "    }\n",
       "</style>\n",
       "<table border=\"1\" class=\"dataframe\">\n",
       "  <thead>\n",
       "    <tr style=\"text-align: right;\">\n",
       "      <th></th>\n",
       "      <th>online</th>\n",
       "      <th>offline</th>\n",
       "    </tr>\n",
       "  </thead>\n",
       "  <tbody>\n",
       "    <tr>\n",
       "      <th>Facebook</th>\n",
       "      <td>2500000</td>\n",
       "      <td>500000</td>\n",
       "    </tr>\n",
       "    <tr>\n",
       "      <th>Linkedin</th>\n",
       "      <td>64000000</td>\n",
       "      <td>263000</td>\n",
       "    </tr>\n",
       "    <tr>\n",
       "      <th>Twitter</th>\n",
       "      <td>49000000</td>\n",
       "      <td>740000</td>\n",
       "    </tr>\n",
       "    <tr>\n",
       "      <th>Google</th>\n",
       "      <td>39500000</td>\n",
       "      <td>693000</td>\n",
       "    </tr>\n",
       "    <tr>\n",
       "      <th>Snapchat</th>\n",
       "      <td>8400000</td>\n",
       "      <td>644000</td>\n",
       "    </tr>\n",
       "    <tr>\n",
       "      <th>Telegram</th>\n",
       "      <td>8300000</td>\n",
       "      <td>164500</td>\n",
       "    </tr>\n",
       "  </tbody>\n",
       "</table>\n",
       "</div>"
      ],
      "text/plain": [
       "            online  offline\n",
       "Facebook   2500000   500000\n",
       "Linkedin  64000000   263000\n",
       "Twitter   49000000   740000\n",
       "Google    39500000   693000\n",
       "Snapchat   8400000   644000\n",
       "Telegram   8300000   164500"
      ]
     },
     "execution_count": 18,
     "metadata": {},
     "output_type": "execute_result"
    }
   ],
   "source": [
    "total_pop = pd.DataFrame({'online':online, 'offline':offline})\n",
    "total_pop"
   ]
  },
  {
   "cell_type": "code",
   "execution_count": 19,
   "id": "e23fbc1c",
   "metadata": {},
   "outputs": [
    {
     "data": {
      "text/plain": [
       "Index(['Facebook', 'Linkedin', 'Twitter', 'Google', 'Snapchat', 'Telegram'], dtype='object')"
      ]
     },
     "execution_count": 19,
     "metadata": {},
     "output_type": "execute_result"
    }
   ],
   "source": [
    "total_pop.index"
   ]
  },
  {
   "cell_type": "code",
   "execution_count": 20,
   "id": "72c0e60c",
   "metadata": {},
   "outputs": [
    {
     "data": {
      "text/plain": [
       "Index(['online', 'offline'], dtype='object')"
      ]
     },
     "execution_count": 20,
     "metadata": {},
     "output_type": "execute_result"
    }
   ],
   "source": [
    "total_pop.columns"
   ]
  },
  {
   "cell_type": "code",
   "execution_count": 21,
   "id": "dca226d4",
   "metadata": {},
   "outputs": [
    {
     "data": {
      "text/plain": [
       "array([[ 2500000,   500000],\n",
       "       [64000000,   263000],\n",
       "       [49000000,   740000],\n",
       "       [39500000,   693000],\n",
       "       [ 8400000,   644000],\n",
       "       [ 8300000,   164500]], dtype=int64)"
      ]
     },
     "execution_count": 21,
     "metadata": {},
     "output_type": "execute_result"
    }
   ],
   "source": [
    "total_pop.values"
   ]
  },
  {
   "cell_type": "code",
   "execution_count": 24,
   "id": "1218462a",
   "metadata": {},
   "outputs": [
    {
     "data": {
      "text/html": [
       "<div>\n",
       "<style scoped>\n",
       "    .dataframe tbody tr th:only-of-type {\n",
       "        vertical-align: middle;\n",
       "    }\n",
       "\n",
       "    .dataframe tbody tr th {\n",
       "        vertical-align: top;\n",
       "    }\n",
       "\n",
       "    .dataframe thead th {\n",
       "        text-align: right;\n",
       "    }\n",
       "</style>\n",
       "<table border=\"1\" class=\"dataframe\">\n",
       "  <thead>\n",
       "    <tr style=\"text-align: right;\">\n",
       "      <th></th>\n",
       "      <th>Population</th>\n",
       "      <th>Land mass</th>\n",
       "    </tr>\n",
       "  </thead>\n",
       "  <tbody>\n",
       "    <tr>\n",
       "      <th>Benue</th>\n",
       "      <td>NaN</td>\n",
       "      <td>4000.0</td>\n",
       "    </tr>\n",
       "    <tr>\n",
       "      <th>Edo</th>\n",
       "      <td>NaN</td>\n",
       "      <td>7000.0</td>\n",
       "    </tr>\n",
       "    <tr>\n",
       "      <th>Enugu</th>\n",
       "      <td>3400000.0</td>\n",
       "      <td>NaN</td>\n",
       "    </tr>\n",
       "    <tr>\n",
       "      <th>Imo</th>\n",
       "      <td>2300000.0</td>\n",
       "      <td>1500.0</td>\n",
       "    </tr>\n",
       "    <tr>\n",
       "      <th>Kaduna</th>\n",
       "      <td>3600000.0</td>\n",
       "      <td>3000.0</td>\n",
       "    </tr>\n",
       "    <tr>\n",
       "      <th>Kano</th>\n",
       "      <td>4600000.0</td>\n",
       "      <td>NaN</td>\n",
       "    </tr>\n",
       "    <tr>\n",
       "      <th>Lagos</th>\n",
       "      <td>6400000.0</td>\n",
       "      <td>2000.0</td>\n",
       "    </tr>\n",
       "    <tr>\n",
       "      <th>Oyo</th>\n",
       "      <td>2500000.0</td>\n",
       "      <td>NaN</td>\n",
       "    </tr>\n",
       "    <tr>\n",
       "      <th>Rivers</th>\n",
       "      <td>NaN</td>\n",
       "      <td>5000.0</td>\n",
       "    </tr>\n",
       "  </tbody>\n",
       "</table>\n",
       "</div>"
      ],
      "text/plain": [
       "        Population  Land mass\n",
       "Benue          NaN     4000.0\n",
       "Edo            NaN     7000.0\n",
       "Enugu    3400000.0        NaN\n",
       "Imo      2300000.0     1500.0\n",
       "Kaduna   3600000.0     3000.0\n",
       "Kano     4600000.0        NaN\n",
       "Lagos    6400000.0     2000.0\n",
       "Oyo      2500000.0        NaN\n",
       "Rivers         NaN     5000.0"
      ]
     },
     "execution_count": 24,
     "metadata": {},
     "output_type": "execute_result"
    }
   ],
   "source": [
    "states = pd.Series({'Oyo':2500000, 'Lagos':6400000, 'Kano':4600000, 'Kaduna':3600000, 'Enugu':3400000, 'Imo':2300000})\n",
    "land = pd.Series({'Rivers':5000, 'Lagos':2000, 'Edo':7000, 'Kaduna':3000, 'Benue':4000, 'Imo':1500})\n",
    "census = pd.DataFrame({'Population':states, 'Land mass':land})\n",
    "census"
   ]
  },
  {
   "cell_type": "code",
   "execution_count": 25,
   "id": "722f746f",
   "metadata": {},
   "outputs": [
    {
     "data": {
      "text/plain": [
       "Benue           NaN\n",
       "Edo             NaN\n",
       "Enugu     3400000.0\n",
       "Imo       2300000.0\n",
       "Kaduna    3600000.0\n",
       "Kano      4600000.0\n",
       "Lagos     6400000.0\n",
       "Oyo       2500000.0\n",
       "Rivers          NaN\n",
       "Name: Population, dtype: float64"
      ]
     },
     "execution_count": 25,
     "metadata": {},
     "output_type": "execute_result"
    }
   ],
   "source": [
    "census[\"Population\"]"
   ]
  },
  {
   "cell_type": "code",
   "execution_count": 26,
   "id": "e5fe8922",
   "metadata": {},
   "outputs": [
    {
     "data": {
      "text/plain": [
       "Index(['Population', 'Land mass'], dtype='object')"
      ]
     },
     "execution_count": 26,
     "metadata": {},
     "output_type": "execute_result"
    }
   ],
   "source": [
    "census.columns"
   ]
  },
  {
   "cell_type": "code",
   "execution_count": 28,
   "id": "a329b132",
   "metadata": {},
   "outputs": [
    {
     "data": {
      "text/plain": [
       "Benue     4000.0\n",
       "Edo       7000.0\n",
       "Enugu        NaN\n",
       "Imo       1500.0\n",
       "Kaduna    3000.0\n",
       "Kano         NaN\n",
       "Lagos     2000.0\n",
       "Oyo          NaN\n",
       "Rivers    5000.0\n",
       "Name: Land mass, dtype: float64"
      ]
     },
     "execution_count": 28,
     "metadata": {},
     "output_type": "execute_result"
    }
   ],
   "source": [
    "census[\"Land mass\"]"
   ]
  },
  {
   "cell_type": "code",
   "execution_count": 29,
   "id": "6499f5f4",
   "metadata": {},
   "outputs": [
    {
     "data": {
      "text/plain": [
       "Benue     4000.0\n",
       "Edo       7000.0\n",
       "Enugu        NaN\n",
       "Imo       1500.0\n",
       "Kaduna    3000.0\n",
       "Kano         NaN\n",
       "Lagos     2000.0\n",
       "Name: Land mass, dtype: float64"
      ]
     },
     "execution_count": 29,
     "metadata": {},
     "output_type": "execute_result"
    }
   ],
   "source": [
    "census[\"Land mass\"][\"Benue\":\"Lagos\"]"
   ]
  },
  {
   "cell_type": "code",
   "execution_count": 30,
   "id": "efcba1f9",
   "metadata": {},
   "outputs": [
    {
     "data": {
      "text/html": [
       "<div>\n",
       "<style scoped>\n",
       "    .dataframe tbody tr th:only-of-type {\n",
       "        vertical-align: middle;\n",
       "    }\n",
       "\n",
       "    .dataframe tbody tr th {\n",
       "        vertical-align: top;\n",
       "    }\n",
       "\n",
       "    .dataframe thead th {\n",
       "        text-align: right;\n",
       "    }\n",
       "</style>\n",
       "<table border=\"1\" class=\"dataframe\">\n",
       "  <thead>\n",
       "    <tr style=\"text-align: right;\">\n",
       "      <th></th>\n",
       "      <th>Population</th>\n",
       "      <th>Land mass</th>\n",
       "    </tr>\n",
       "  </thead>\n",
       "  <tbody>\n",
       "    <tr>\n",
       "      <th>Benue</th>\n",
       "      <td>NaN</td>\n",
       "      <td>4000.0</td>\n",
       "    </tr>\n",
       "    <tr>\n",
       "      <th>Edo</th>\n",
       "      <td>NaN</td>\n",
       "      <td>7000.0</td>\n",
       "    </tr>\n",
       "    <tr>\n",
       "      <th>Enugu</th>\n",
       "      <td>3400000.0</td>\n",
       "      <td>NaN</td>\n",
       "    </tr>\n",
       "    <tr>\n",
       "      <th>Imo</th>\n",
       "      <td>2300000.0</td>\n",
       "      <td>1500.0</td>\n",
       "    </tr>\n",
       "    <tr>\n",
       "      <th>Kaduna</th>\n",
       "      <td>3600000.0</td>\n",
       "      <td>3000.0</td>\n",
       "    </tr>\n",
       "    <tr>\n",
       "      <th>Kano</th>\n",
       "      <td>4600000.0</td>\n",
       "      <td>NaN</td>\n",
       "    </tr>\n",
       "    <tr>\n",
       "      <th>Lagos</th>\n",
       "      <td>6400000.0</td>\n",
       "      <td>2000.0</td>\n",
       "    </tr>\n",
       "  </tbody>\n",
       "</table>\n",
       "</div>"
      ],
      "text/plain": [
       "        Population  Land mass\n",
       "Benue          NaN     4000.0\n",
       "Edo            NaN     7000.0\n",
       "Enugu    3400000.0        NaN\n",
       "Imo      2300000.0     1500.0\n",
       "Kaduna   3600000.0     3000.0\n",
       "Kano     4600000.0        NaN\n",
       "Lagos    6400000.0     2000.0"
      ]
     },
     "execution_count": 30,
     "metadata": {},
     "output_type": "execute_result"
    }
   ],
   "source": [
    "census[\"Benue\":\"Lagos\"]\n",
    "Creating a Dataframe object,creating dataframe from single dictionary,creating dataframe from multiple dictionaries,\n",
    "creating dataframe with some missing values,\n",
    ",slicing the dataframe using indexing, indexing a dataframe through it column name"
   ]
  },
  {
   "cell_type": "code",
   "execution_count": 31,
   "id": "72f3f711",
   "metadata": {},
   "outputs": [
    {
     "data": {
      "text/plain": [
       "Js1    0.234076\n",
       "Js2    0.663371\n",
       "Js3    0.218280\n",
       "Name: Male, dtype: float64"
      ]
     },
     "execution_count": 31,
     "metadata": {},
     "output_type": "execute_result"
    }
   ],
   "source": [
    "studentpop = pd.DataFrame(np.random.rand(3,2), columns=['Male', \"Female\"], index=['Js1', 'Js2', 'Js3'])\n",
    "studentpop.Male"
   ]
  },
  {
   "cell_type": "code",
   "execution_count": 32,
   "id": "fe1fe359",
   "metadata": {},
   "outputs": [
    {
     "data": {
      "text/html": [
       "<div>\n",
       "<style scoped>\n",
       "    .dataframe tbody tr th:only-of-type {\n",
       "        vertical-align: middle;\n",
       "    }\n",
       "\n",
       "    .dataframe tbody tr th {\n",
       "        vertical-align: top;\n",
       "    }\n",
       "\n",
       "    .dataframe thead th {\n",
       "        text-align: right;\n",
       "    }\n",
       "</style>\n",
       "<table border=\"1\" class=\"dataframe\">\n",
       "  <thead>\n",
       "    <tr style=\"text-align: right;\">\n",
       "      <th></th>\n",
       "      <th>Male</th>\n",
       "      <th>Female</th>\n",
       "      <th>Total Student</th>\n",
       "    </tr>\n",
       "  </thead>\n",
       "  <tbody>\n",
       "    <tr>\n",
       "      <th>Js1</th>\n",
       "      <td>0.234076</td>\n",
       "      <td>0.018922</td>\n",
       "      <td>0.252998</td>\n",
       "    </tr>\n",
       "    <tr>\n",
       "      <th>Js2</th>\n",
       "      <td>0.663371</td>\n",
       "      <td>0.893667</td>\n",
       "      <td>1.557039</td>\n",
       "    </tr>\n",
       "    <tr>\n",
       "      <th>Js3</th>\n",
       "      <td>0.218280</td>\n",
       "      <td>0.882622</td>\n",
       "      <td>1.100902</td>\n",
       "    </tr>\n",
       "  </tbody>\n",
       "</table>\n",
       "</div>"
      ],
      "text/plain": [
       "         Male    Female  Total Student\n",
       "Js1  0.234076  0.018922       0.252998\n",
       "Js2  0.663371  0.893667       1.557039\n",
       "Js3  0.218280  0.882622       1.100902"
      ]
     },
     "execution_count": 32,
     "metadata": {},
     "output_type": "execute_result"
    }
   ],
   "source": [
    "studentpop['Total Student'] = studentpop['Female'] + studentpop['Male']\n",
    "studentpop"
   ]
  },
  {
   "cell_type": "code",
   "execution_count": null,
   "id": "96144105",
   "metadata": {},
   "outputs": [],
   "source": []
  },
  {
   "cell_type": "markdown",
   "id": "cbf44f47",
   "metadata": {},
   "source": [
    "# DAY 8"
   ]
  },
  {
   "cell_type": "code",
   "execution_count": 4,
   "id": "2e227490",
   "metadata": {},
   "outputs": [
    {
     "data": {
      "text/html": [
       "<div>\n",
       "<style scoped>\n",
       "    .dataframe tbody tr th:only-of-type {\n",
       "        vertical-align: middle;\n",
       "    }\n",
       "\n",
       "    .dataframe tbody tr th {\n",
       "        vertical-align: top;\n",
       "    }\n",
       "\n",
       "    .dataframe thead th {\n",
       "        text-align: right;\n",
       "    }\n",
       "</style>\n",
       "<table border=\"1\" class=\"dataframe\">\n",
       "  <thead>\n",
       "    <tr style=\"text-align: right;\">\n",
       "      <th></th>\n",
       "      <th>0</th>\n",
       "      <th>1</th>\n",
       "      <th>2</th>\n",
       "      <th>3</th>\n",
       "    </tr>\n",
       "  </thead>\n",
       "  <tbody>\n",
       "    <tr>\n",
       "      <th>0</th>\n",
       "      <td>-0.472392</td>\n",
       "      <td>1.010078</td>\n",
       "      <td>-0.431866</td>\n",
       "      <td>1.080681</td>\n",
       "    </tr>\n",
       "    <tr>\n",
       "      <th>1</th>\n",
       "      <td>0.743502</td>\n",
       "      <td>-0.041625</td>\n",
       "      <td>0.726084</td>\n",
       "      <td>0.180222</td>\n",
       "    </tr>\n",
       "    <tr>\n",
       "      <th>2</th>\n",
       "      <td>2.071289</td>\n",
       "      <td>-1.177904</td>\n",
       "      <td>1.610332</td>\n",
       "      <td>-1.184410</td>\n",
       "    </tr>\n",
       "    <tr>\n",
       "      <th>3</th>\n",
       "      <td>-0.315626</td>\n",
       "      <td>0.105945</td>\n",
       "      <td>-1.882268</td>\n",
       "      <td>-0.244571</td>\n",
       "    </tr>\n",
       "    <tr>\n",
       "      <th>4</th>\n",
       "      <td>-1.201482</td>\n",
       "      <td>0.215001</td>\n",
       "      <td>0.750739</td>\n",
       "      <td>-0.171149</td>\n",
       "    </tr>\n",
       "    <tr>\n",
       "      <th>5</th>\n",
       "      <td>0.450129</td>\n",
       "      <td>1.092981</td>\n",
       "      <td>-1.738009</td>\n",
       "      <td>-1.933489</td>\n",
       "    </tr>\n",
       "    <tr>\n",
       "      <th>6</th>\n",
       "      <td>-0.438032</td>\n",
       "      <td>-1.044812</td>\n",
       "      <td>-1.131730</td>\n",
       "      <td>-1.728162</td>\n",
       "    </tr>\n",
       "    <tr>\n",
       "      <th>7</th>\n",
       "      <td>0.378675</td>\n",
       "      <td>-0.263743</td>\n",
       "      <td>0.733302</td>\n",
       "      <td>1.343337</td>\n",
       "    </tr>\n",
       "    <tr>\n",
       "      <th>8</th>\n",
       "      <td>0.925564</td>\n",
       "      <td>-1.000342</td>\n",
       "      <td>2.228751</td>\n",
       "      <td>-0.177076</td>\n",
       "    </tr>\n",
       "    <tr>\n",
       "      <th>9</th>\n",
       "      <td>1.351522</td>\n",
       "      <td>0.243202</td>\n",
       "      <td>-1.544822</td>\n",
       "      <td>0.458437</td>\n",
       "    </tr>\n",
       "  </tbody>\n",
       "</table>\n",
       "</div>"
      ],
      "text/plain": [
       "          0         1         2         3\n",
       "0 -0.472392  1.010078 -0.431866  1.080681\n",
       "1  0.743502 -0.041625  0.726084  0.180222\n",
       "2  2.071289 -1.177904  1.610332 -1.184410\n",
       "3 -0.315626  0.105945 -1.882268 -0.244571\n",
       "4 -1.201482  0.215001  0.750739 -0.171149\n",
       "5  0.450129  1.092981 -1.738009 -1.933489\n",
       "6 -0.438032 -1.044812 -1.131730 -1.728162\n",
       "7  0.378675 -0.263743  0.733302  1.343337\n",
       "8  0.925564 -1.000342  2.228751 -0.177076\n",
       "9  1.351522  0.243202 -1.544822  0.458437"
      ]
     },
     "execution_count": 4,
     "metadata": {},
     "output_type": "execute_result"
    }
   ],
   "source": [
    "df = pd.DataFrame(np.random.randn(10, 4))\n",
    "df"
   ]
  },
  {
   "cell_type": "code",
   "execution_count": 5,
   "id": "c32e2fad",
   "metadata": {},
   "outputs": [],
   "source": [
    "newdata = [df[:4], df[4:7], df[7:]]"
   ]
  },
  {
   "cell_type": "code",
   "execution_count": 6,
   "id": "4a6a8abd",
   "metadata": {},
   "outputs": [
    {
     "data": {
      "text/html": [
       "<div>\n",
       "<style scoped>\n",
       "    .dataframe tbody tr th:only-of-type {\n",
       "        vertical-align: middle;\n",
       "    }\n",
       "\n",
       "    .dataframe tbody tr th {\n",
       "        vertical-align: top;\n",
       "    }\n",
       "\n",
       "    .dataframe thead th {\n",
       "        text-align: right;\n",
       "    }\n",
       "</style>\n",
       "<table border=\"1\" class=\"dataframe\">\n",
       "  <thead>\n",
       "    <tr style=\"text-align: right;\">\n",
       "      <th></th>\n",
       "      <th>0</th>\n",
       "      <th>1</th>\n",
       "      <th>2</th>\n",
       "      <th>3</th>\n",
       "    </tr>\n",
       "  </thead>\n",
       "  <tbody>\n",
       "    <tr>\n",
       "      <th>0</th>\n",
       "      <td>-0.472392</td>\n",
       "      <td>1.010078</td>\n",
       "      <td>-0.431866</td>\n",
       "      <td>1.080681</td>\n",
       "    </tr>\n",
       "    <tr>\n",
       "      <th>1</th>\n",
       "      <td>0.743502</td>\n",
       "      <td>-0.041625</td>\n",
       "      <td>0.726084</td>\n",
       "      <td>0.180222</td>\n",
       "    </tr>\n",
       "    <tr>\n",
       "      <th>2</th>\n",
       "      <td>2.071289</td>\n",
       "      <td>-1.177904</td>\n",
       "      <td>1.610332</td>\n",
       "      <td>-1.184410</td>\n",
       "    </tr>\n",
       "    <tr>\n",
       "      <th>3</th>\n",
       "      <td>-0.315626</td>\n",
       "      <td>0.105945</td>\n",
       "      <td>-1.882268</td>\n",
       "      <td>-0.244571</td>\n",
       "    </tr>\n",
       "    <tr>\n",
       "      <th>4</th>\n",
       "      <td>-1.201482</td>\n",
       "      <td>0.215001</td>\n",
       "      <td>0.750739</td>\n",
       "      <td>-0.171149</td>\n",
       "    </tr>\n",
       "    <tr>\n",
       "      <th>5</th>\n",
       "      <td>0.450129</td>\n",
       "      <td>1.092981</td>\n",
       "      <td>-1.738009</td>\n",
       "      <td>-1.933489</td>\n",
       "    </tr>\n",
       "    <tr>\n",
       "      <th>6</th>\n",
       "      <td>-0.438032</td>\n",
       "      <td>-1.044812</td>\n",
       "      <td>-1.131730</td>\n",
       "      <td>-1.728162</td>\n",
       "    </tr>\n",
       "    <tr>\n",
       "      <th>7</th>\n",
       "      <td>0.378675</td>\n",
       "      <td>-0.263743</td>\n",
       "      <td>0.733302</td>\n",
       "      <td>1.343337</td>\n",
       "    </tr>\n",
       "    <tr>\n",
       "      <th>8</th>\n",
       "      <td>0.925564</td>\n",
       "      <td>-1.000342</td>\n",
       "      <td>2.228751</td>\n",
       "      <td>-0.177076</td>\n",
       "    </tr>\n",
       "    <tr>\n",
       "      <th>9</th>\n",
       "      <td>1.351522</td>\n",
       "      <td>0.243202</td>\n",
       "      <td>-1.544822</td>\n",
       "      <td>0.458437</td>\n",
       "    </tr>\n",
       "  </tbody>\n",
       "</table>\n",
       "</div>"
      ],
      "text/plain": [
       "          0         1         2         3\n",
       "0 -0.472392  1.010078 -0.431866  1.080681\n",
       "1  0.743502 -0.041625  0.726084  0.180222\n",
       "2  2.071289 -1.177904  1.610332 -1.184410\n",
       "3 -0.315626  0.105945 -1.882268 -0.244571\n",
       "4 -1.201482  0.215001  0.750739 -0.171149\n",
       "5  0.450129  1.092981 -1.738009 -1.933489\n",
       "6 -0.438032 -1.044812 -1.131730 -1.728162\n",
       "7  0.378675 -0.263743  0.733302  1.343337\n",
       "8  0.925564 -1.000342  2.228751 -0.177076\n",
       "9  1.351522  0.243202 -1.544822  0.458437"
      ]
     },
     "execution_count": 6,
     "metadata": {},
     "output_type": "execute_result"
    }
   ],
   "source": [
    "pd.concat(newdata)"
   ]
  },
  {
   "cell_type": "code",
   "execution_count": 7,
   "id": "56e76da0",
   "metadata": {},
   "outputs": [],
   "source": [
    "left = pd.DataFrame({\"Gender\": [\"male\", \"female\"], \"ltotal\": [1, 2]})\n",
    "right = pd.DataFrame({\"Gender\": [\"male\", \"female\"], \"rtotal\": [4, 5]})"
   ]
  },
  {
   "cell_type": "code",
   "execution_count": 9,
   "id": "ac0f2361",
   "metadata": {},
   "outputs": [
    {
     "data": {
      "text/html": [
       "<div>\n",
       "<style scoped>\n",
       "    .dataframe tbody tr th:only-of-type {\n",
       "        vertical-align: middle;\n",
       "    }\n",
       "\n",
       "    .dataframe tbody tr th {\n",
       "        vertical-align: top;\n",
       "    }\n",
       "\n",
       "    .dataframe thead th {\n",
       "        text-align: right;\n",
       "    }\n",
       "</style>\n",
       "<table border=\"1\" class=\"dataframe\">\n",
       "  <thead>\n",
       "    <tr style=\"text-align: right;\">\n",
       "      <th></th>\n",
       "      <th>Gender</th>\n",
       "      <th>ltotal</th>\n",
       "    </tr>\n",
       "  </thead>\n",
       "  <tbody>\n",
       "    <tr>\n",
       "      <th>0</th>\n",
       "      <td>male</td>\n",
       "      <td>1</td>\n",
       "    </tr>\n",
       "    <tr>\n",
       "      <th>1</th>\n",
       "      <td>female</td>\n",
       "      <td>2</td>\n",
       "    </tr>\n",
       "  </tbody>\n",
       "</table>\n",
       "</div>"
      ],
      "text/plain": [
       "   Gender  ltotal\n",
       "0    male       1\n",
       "1  female       2"
      ]
     },
     "execution_count": 9,
     "metadata": {},
     "output_type": "execute_result"
    }
   ],
   "source": [
    "left"
   ]
  },
  {
   "cell_type": "raw",
   "id": "3930f883",
   "metadata": {},
   "source": [
    "right"
   ]
  },
  {
   "cell_type": "code",
   "execution_count": 11,
   "id": "6e827421",
   "metadata": {},
   "outputs": [
    {
     "data": {
      "text/html": [
       "<div>\n",
       "<style scoped>\n",
       "    .dataframe tbody tr th:only-of-type {\n",
       "        vertical-align: middle;\n",
       "    }\n",
       "\n",
       "    .dataframe tbody tr th {\n",
       "        vertical-align: top;\n",
       "    }\n",
       "\n",
       "    .dataframe thead th {\n",
       "        text-align: right;\n",
       "    }\n",
       "</style>\n",
       "<table border=\"1\" class=\"dataframe\">\n",
       "  <thead>\n",
       "    <tr style=\"text-align: right;\">\n",
       "      <th></th>\n",
       "      <th>Gender</th>\n",
       "      <th>ltotal</th>\n",
       "      <th>rtotal</th>\n",
       "    </tr>\n",
       "  </thead>\n",
       "  <tbody>\n",
       "    <tr>\n",
       "      <th>0</th>\n",
       "      <td>male</td>\n",
       "      <td>1</td>\n",
       "      <td>4</td>\n",
       "    </tr>\n",
       "    <tr>\n",
       "      <th>1</th>\n",
       "      <td>female</td>\n",
       "      <td>2</td>\n",
       "      <td>5</td>\n",
       "    </tr>\n",
       "  </tbody>\n",
       "</table>\n",
       "</div>"
      ],
      "text/plain": [
       "   Gender  ltotal  rtotal\n",
       "0    male       1       4\n",
       "1  female       2       5"
      ]
     },
     "execution_count": 11,
     "metadata": {},
     "output_type": "execute_result"
    }
   ],
   "source": [
    "pd.merge(left, right, on=\"Gender\")"
   ]
  },
  {
   "cell_type": "code",
   "execution_count": 12,
   "id": "650d9caf",
   "metadata": {},
   "outputs": [],
   "source": [
    "datapd = pd.DataFrame({\"A\": [\"foo\", \"bar\", \"foo\", \"bar\", \"foo\", \"bar\", \"foo\", \"foo\"], \n",
    "                          \"B\": [\"one\", \"one\", \"two\", \"three\", \"two\", \"two\", \"one\", \"three\"], \n",
    "                          \"C\": np.random.randn(8),\n",
    "                          \"D\": np.random.randn(8),\n",
    "                         })"
   ]
  },
  {
   "cell_type": "code",
   "execution_count": 13,
   "id": "2a5339bf",
   "metadata": {},
   "outputs": [
    {
     "data": {
      "text/html": [
       "<div>\n",
       "<style scoped>\n",
       "    .dataframe tbody tr th:only-of-type {\n",
       "        vertical-align: middle;\n",
       "    }\n",
       "\n",
       "    .dataframe tbody tr th {\n",
       "        vertical-align: top;\n",
       "    }\n",
       "\n",
       "    .dataframe thead th {\n",
       "        text-align: right;\n",
       "    }\n",
       "</style>\n",
       "<table border=\"1\" class=\"dataframe\">\n",
       "  <thead>\n",
       "    <tr style=\"text-align: right;\">\n",
       "      <th></th>\n",
       "      <th>A</th>\n",
       "      <th>B</th>\n",
       "      <th>C</th>\n",
       "      <th>D</th>\n",
       "    </tr>\n",
       "  </thead>\n",
       "  <tbody>\n",
       "    <tr>\n",
       "      <th>0</th>\n",
       "      <td>foo</td>\n",
       "      <td>one</td>\n",
       "      <td>-0.208170</td>\n",
       "      <td>0.522265</td>\n",
       "    </tr>\n",
       "    <tr>\n",
       "      <th>1</th>\n",
       "      <td>bar</td>\n",
       "      <td>one</td>\n",
       "      <td>0.179059</td>\n",
       "      <td>0.472929</td>\n",
       "    </tr>\n",
       "    <tr>\n",
       "      <th>2</th>\n",
       "      <td>foo</td>\n",
       "      <td>two</td>\n",
       "      <td>-0.459447</td>\n",
       "      <td>-0.048920</td>\n",
       "    </tr>\n",
       "    <tr>\n",
       "      <th>3</th>\n",
       "      <td>bar</td>\n",
       "      <td>three</td>\n",
       "      <td>0.639087</td>\n",
       "      <td>-1.646504</td>\n",
       "    </tr>\n",
       "    <tr>\n",
       "      <th>4</th>\n",
       "      <td>foo</td>\n",
       "      <td>two</td>\n",
       "      <td>1.117779</td>\n",
       "      <td>-0.294769</td>\n",
       "    </tr>\n",
       "    <tr>\n",
       "      <th>5</th>\n",
       "      <td>bar</td>\n",
       "      <td>two</td>\n",
       "      <td>0.273247</td>\n",
       "      <td>-0.210422</td>\n",
       "    </tr>\n",
       "    <tr>\n",
       "      <th>6</th>\n",
       "      <td>foo</td>\n",
       "      <td>one</td>\n",
       "      <td>-1.703623</td>\n",
       "      <td>1.398443</td>\n",
       "    </tr>\n",
       "    <tr>\n",
       "      <th>7</th>\n",
       "      <td>foo</td>\n",
       "      <td>three</td>\n",
       "      <td>1.388590</td>\n",
       "      <td>-1.006797</td>\n",
       "    </tr>\n",
       "  </tbody>\n",
       "</table>\n",
       "</div>"
      ],
      "text/plain": [
       "     A      B         C         D\n",
       "0  foo    one -0.208170  0.522265\n",
       "1  bar    one  0.179059  0.472929\n",
       "2  foo    two -0.459447 -0.048920\n",
       "3  bar  three  0.639087 -1.646504\n",
       "4  foo    two  1.117779 -0.294769\n",
       "5  bar    two  0.273247 -0.210422\n",
       "6  foo    one -1.703623  1.398443\n",
       "7  foo  three  1.388590 -1.006797"
      ]
     },
     "execution_count": 13,
     "metadata": {},
     "output_type": "execute_result"
    }
   ],
   "source": [
    "datapd"
   ]
  },
  {
   "cell_type": "code",
   "execution_count": 15,
   "id": "b5968164",
   "metadata": {},
   "outputs": [
    {
     "data": {
      "text/html": [
       "<div>\n",
       "<style scoped>\n",
       "    .dataframe tbody tr th:only-of-type {\n",
       "        vertical-align: middle;\n",
       "    }\n",
       "\n",
       "    .dataframe tbody tr th {\n",
       "        vertical-align: top;\n",
       "    }\n",
       "\n",
       "    .dataframe thead th {\n",
       "        text-align: right;\n",
       "    }\n",
       "</style>\n",
       "<table border=\"1\" class=\"dataframe\">\n",
       "  <thead>\n",
       "    <tr style=\"text-align: right;\">\n",
       "      <th></th>\n",
       "      <th>C</th>\n",
       "      <th>D</th>\n",
       "    </tr>\n",
       "    <tr>\n",
       "      <th>A</th>\n",
       "      <th></th>\n",
       "      <th></th>\n",
       "    </tr>\n",
       "  </thead>\n",
       "  <tbody>\n",
       "    <tr>\n",
       "      <th>bar</th>\n",
       "      <td>1.091393</td>\n",
       "      <td>-1.383997</td>\n",
       "    </tr>\n",
       "    <tr>\n",
       "      <th>foo</th>\n",
       "      <td>0.135129</td>\n",
       "      <td>0.570223</td>\n",
       "    </tr>\n",
       "  </tbody>\n",
       "</table>\n",
       "</div>"
      ],
      "text/plain": [
       "            C         D\n",
       "A                      \n",
       "bar  1.091393 -1.383997\n",
       "foo  0.135129  0.570223"
      ]
     },
     "execution_count": 15,
     "metadata": {},
     "output_type": "execute_result"
    }
   ],
   "source": [
    "datapd.groupby(\"A\").sum()"
   ]
  },
  {
   "cell_type": "code",
   "execution_count": 16,
   "id": "d1d428fc",
   "metadata": {},
   "outputs": [
    {
     "data": {
      "text/html": [
       "<div>\n",
       "<style scoped>\n",
       "    .dataframe tbody tr th:only-of-type {\n",
       "        vertical-align: middle;\n",
       "    }\n",
       "\n",
       "    .dataframe tbody tr th {\n",
       "        vertical-align: top;\n",
       "    }\n",
       "\n",
       "    .dataframe thead th {\n",
       "        text-align: right;\n",
       "    }\n",
       "</style>\n",
       "<table border=\"1\" class=\"dataframe\">\n",
       "  <thead>\n",
       "    <tr style=\"text-align: right;\">\n",
       "      <th></th>\n",
       "      <th></th>\n",
       "      <th>C</th>\n",
       "      <th>D</th>\n",
       "    </tr>\n",
       "    <tr>\n",
       "      <th>A</th>\n",
       "      <th>B</th>\n",
       "      <th></th>\n",
       "      <th></th>\n",
       "    </tr>\n",
       "  </thead>\n",
       "  <tbody>\n",
       "    <tr>\n",
       "      <th rowspan=\"3\" valign=\"top\">bar</th>\n",
       "      <th>one</th>\n",
       "      <td>0.179059</td>\n",
       "      <td>0.472929</td>\n",
       "    </tr>\n",
       "    <tr>\n",
       "      <th>three</th>\n",
       "      <td>0.639087</td>\n",
       "      <td>-1.646504</td>\n",
       "    </tr>\n",
       "    <tr>\n",
       "      <th>two</th>\n",
       "      <td>0.273247</td>\n",
       "      <td>-0.210422</td>\n",
       "    </tr>\n",
       "    <tr>\n",
       "      <th rowspan=\"3\" valign=\"top\">foo</th>\n",
       "      <th>one</th>\n",
       "      <td>-1.911793</td>\n",
       "      <td>1.920709</td>\n",
       "    </tr>\n",
       "    <tr>\n",
       "      <th>three</th>\n",
       "      <td>1.388590</td>\n",
       "      <td>-1.006797</td>\n",
       "    </tr>\n",
       "    <tr>\n",
       "      <th>two</th>\n",
       "      <td>0.658332</td>\n",
       "      <td>-0.343689</td>\n",
       "    </tr>\n",
       "  </tbody>\n",
       "</table>\n",
       "</div>"
      ],
      "text/plain": [
       "                  C         D\n",
       "A   B                        \n",
       "bar one    0.179059  0.472929\n",
       "    three  0.639087 -1.646504\n",
       "    two    0.273247 -0.210422\n",
       "foo one   -1.911793  1.920709\n",
       "    three  1.388590 -1.006797\n",
       "    two    0.658332 -0.343689"
      ]
     },
     "execution_count": 16,
     "metadata": {},
     "output_type": "execute_result"
    }
   ],
   "source": [
    "datapd.groupby([\"A\", \"B\"]).sum()"
   ]
  },
  {
   "cell_type": "code",
   "execution_count": null,
   "id": "5e5f2dd8",
   "metadata": {},
   "outputs": [],
   "source": [
    "specification of the merge key(using the left_on amd right_on keyword)merging using indexusing both index and column name to merge\n",
    " merging using set arithmetic for joins using the join function"
   ]
  }
 ],
 "metadata": {
  "kernelspec": {
   "display_name": "Python 3",
   "language": "python",
   "name": "python3"
  },
  "language_info": {
   "codemirror_mode": {
    "name": "ipython",
    "version": 3
   },
   "file_extension": ".py",
   "mimetype": "text/x-python",
   "name": "python",
   "nbconvert_exporter": "python",
   "pygments_lexer": "ipython3",
   "version": "3.8.8"
  }
 },
 "nbformat": 4,
 "nbformat_minor": 5
}
