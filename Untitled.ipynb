{
 "cells": [
  {
   "cell_type": "markdown",
   "id": "2f4dc96f",
   "metadata": {},
   "source": [
    "NUMPY"
   ]
  },
  {
   "cell_type": "code",
   "execution_count": 1,
   "id": "2fc5e474",
   "metadata": {},
   "outputs": [
    {
     "data": {
      "text/plain": [
       "array([1, 2, 3, 4, 5, 6, 7, 8, 9])"
      ]
     },
     "execution_count": 1,
     "metadata": {},
     "output_type": "execute_result"
    }
   ],
   "source": [
    "import numpy as np\n",
    "\n",
    "arr = np.array([1,2,3,4,5,6,7,8,9])\n",
    "arr"
   ]
  },
  {
   "cell_type": "code",
   "execution_count": 2,
   "id": "47ffc8bb",
   "metadata": {},
   "outputs": [
    {
     "data": {
      "text/plain": [
       "array('i', [1, 2, 3, 4, 5, 6, 7, 8, 9])"
      ]
     },
     "execution_count": 2,
     "metadata": {},
     "output_type": "execute_result"
    }
   ],
   "source": [
    "import array\n",
    "ft = array.array('i', list(range(1, 10)))\n",
    "ft"
   ]
  },
  {
   "cell_type": "code",
   "execution_count": 3,
   "id": "3e247661",
   "metadata": {},
   "outputs": [
    {
     "data": {
      "text/plain": [
       "array('i', [1, 2, 3, 4, 5, 6, 7, 8, 9, 10])"
      ]
     },
     "execution_count": 3,
     "metadata": {},
     "output_type": "execute_result"
    }
   ],
   "source": [
    "import array\n",
    "myarr = array.array(\"i\",[1,2,3,4,5,6,7,8,9,10])\n",
    "myarr"
   ]
  },
  {
   "cell_type": "code",
   "execution_count": 4,
   "id": "f7599db2",
   "metadata": {},
   "outputs": [
    {
     "name": "stdout",
     "output_type": "stream",
     "text": [
      "arr.ndim:1\n",
      "arr.shape: (9,)\n",
      "arr.size: 9\n",
      "arr.dtype: int32\n"
     ]
    }
   ],
   "source": [
    "print(f\"arr.ndim:{arr.ndim}\")\n",
    "print(f\"arr.shape: {arr.shape}\")\n",
    "print(f\"arr.size: {arr.size}\")\n",
    "print(f\"arr.dtype: {arr.dtype}\")"
   ]
  },
  {
   "cell_type": "code",
   "execution_count": 5,
   "id": "158a9274",
   "metadata": {},
   "outputs": [
    {
     "data": {
      "text/plain": [
       "array(['1', '2', '3', '4', '45', '5', '6', '7', '78', '8', '89', '64'],\n",
       "      dtype='<U64')"
      ]
     },
     "execution_count": 5,
     "metadata": {},
     "output_type": "execute_result"
    }
   ],
   "source": [
    "another = np.array([1,2,3,4,45,5,6,7,78,8,89,64], dtype=\"<U64\")\n",
    "another"
   ]
  },
  {
   "cell_type": "code",
   "execution_count": 6,
   "id": "eb1c2171",
   "metadata": {},
   "outputs": [
    {
     "name": "stdout",
     "output_type": "stream",
     "text": [
      "another.dtype:<U64\n",
      "another.shape: (12,)\n",
      "another.ndim: 1\n"
     ]
    }
   ],
   "source": [
    "print(f\"another.dtype:{another.dtype}\")\n",
    "print(f\"another.shape: {another.shape}\")\n",
    "print(f\"another.ndim: {another.ndim}\")"
   ]
  },
  {
   "cell_type": "markdown",
   "id": "9101f8cf",
   "metadata": {},
   "source": [
    "Creating Array from scratch"
   ]
  },
  {
   "cell_type": "code",
   "execution_count": 7,
   "id": "7879d18a",
   "metadata": {},
   "outputs": [
    {
     "data": {
      "text/plain": [
       "array([0, 0, 0, 0, 0, 0, 0, 0, 0, 0])"
      ]
     },
     "execution_count": 7,
     "metadata": {},
     "output_type": "execute_result"
    }
   ],
   "source": [
    "zeros = np.zeros(10, dtype=\"int32\")\n",
    "zeros"
   ]
  },
  {
   "cell_type": "code",
   "execution_count": 8,
   "id": "cfa3cda6",
   "metadata": {},
   "outputs": [
    {
     "data": {
      "text/plain": [
       "array([[0, 0, 0, 0, 0, 0, 0, 0],\n",
       "       [0, 0, 0, 0, 0, 0, 0, 0],\n",
       "       [0, 0, 0, 0, 0, 0, 0, 0],\n",
       "       [0, 0, 0, 0, 0, 0, 0, 0],\n",
       "       [0, 0, 0, 0, 0, 0, 0, 0],\n",
       "       [0, 0, 0, 0, 0, 0, 0, 0],\n",
       "       [0, 0, 0, 0, 0, 0, 0, 0],\n",
       "       [0, 0, 0, 0, 0, 0, 0, 0],\n",
       "       [0, 0, 0, 0, 0, 0, 0, 0],\n",
       "       [0, 0, 0, 0, 0, 0, 0, 0]])"
      ]
     },
     "execution_count": 8,
     "metadata": {},
     "output_type": "execute_result"
    }
   ],
   "source": [
    "zearr = np.zeros((10,8), dtype=\"int32\")\n",
    "zearr"
   ]
  },
  {
   "cell_type": "code",
   "execution_count": 9,
   "id": "1ebf51f1",
   "metadata": {},
   "outputs": [
    {
     "data": {
      "text/plain": [
       "array([1., 1., 1., 1., 1., 1., 1., 1., 1., 1.])"
      ]
     },
     "execution_count": 9,
     "metadata": {},
     "output_type": "execute_result"
    }
   ],
   "source": [
    "ones =np.ones(10)\n",
    "ones"
   ]
  },
  {
   "cell_type": "code",
   "execution_count": 10,
   "id": "f1ef2596",
   "metadata": {},
   "outputs": [
    {
     "data": {
      "text/plain": [
       "array([['1', '1', '1', '1', '1', '1', '1', '1', '1', '1'],\n",
       "       ['1', '1', '1', '1', '1', '1', '1', '1', '1', '1'],\n",
       "       ['1', '1', '1', '1', '1', '1', '1', '1', '1', '1'],\n",
       "       ['1', '1', '1', '1', '1', '1', '1', '1', '1', '1'],\n",
       "       ['1', '1', '1', '1', '1', '1', '1', '1', '1', '1'],\n",
       "       ['1', '1', '1', '1', '1', '1', '1', '1', '1', '1'],\n",
       "       ['1', '1', '1', '1', '1', '1', '1', '1', '1', '1'],\n",
       "       ['1', '1', '1', '1', '1', '1', '1', '1', '1', '1'],\n",
       "       ['1', '1', '1', '1', '1', '1', '1', '1', '1', '1'],\n",
       "       ['1', '1', '1', '1', '1', '1', '1', '1', '1', '1']], dtype='<U1')"
      ]
     },
     "execution_count": 10,
     "metadata": {},
     "output_type": "execute_result"
    }
   ],
   "source": [
    "onarr = np.ones((10,10), dtype=\"<U\")\n",
    "onarr"
   ]
  },
  {
   "cell_type": "code",
   "execution_count": 11,
   "id": "9f91633b",
   "metadata": {},
   "outputs": [
    {
     "data": {
      "text/plain": [
       "array([[8, 8, 8, 8],\n",
       "       [8, 8, 8, 8],\n",
       "       [8, 8, 8, 8],\n",
       "       [8, 8, 8, 8],\n",
       "       [8, 8, 8, 8]])"
      ]
     },
     "execution_count": 11,
     "metadata": {},
     "output_type": "execute_result"
    }
   ],
   "source": [
    "np.full((5,4),8)"
   ]
  },
  {
   "cell_type": "code",
   "execution_count": 12,
   "id": "63f2433d",
   "metadata": {},
   "outputs": [
    {
     "data": {
      "text/plain": [
       "array([0, 1, 2, 3, 4, 5, 6, 7, 8, 9])"
      ]
     },
     "execution_count": 12,
     "metadata": {},
     "output_type": "execute_result"
    }
   ],
   "source": [
    "np.arange(10)"
   ]
  },
  {
   "cell_type": "code",
   "execution_count": 13,
   "id": "09d1a6b4",
   "metadata": {},
   "outputs": [
    {
     "data": {
      "text/plain": [
       "array([ 1,  2,  3,  4,  5,  6,  7,  8,  9, 10, 11, 12, 13, 14, 15, 16, 17,\n",
       "       18])"
      ]
     },
     "execution_count": 13,
     "metadata": {},
     "output_type": "execute_result"
    }
   ],
   "source": [
    "np.arange(1,19)"
   ]
  },
  {
   "cell_type": "code",
   "execution_count": 14,
   "id": "99109af7",
   "metadata": {},
   "outputs": [
    {
     "data": {
      "text/plain": [
       "array([ 1,  3,  5,  7,  9, 11, 13, 15, 17, 19])"
      ]
     },
     "execution_count": 14,
     "metadata": {},
     "output_type": "execute_result"
    }
   ],
   "source": [
    "np.arange(1,20,2)"
   ]
  },
  {
   "cell_type": "code",
   "execution_count": 15,
   "id": "4092ab3b",
   "metadata": {},
   "outputs": [
    {
     "data": {
      "text/plain": [
       "array([ 1.        ,  1.32653061,  1.65306122,  1.97959184,  2.30612245,\n",
       "        2.63265306,  2.95918367,  3.28571429,  3.6122449 ,  3.93877551,\n",
       "        4.26530612,  4.59183673,  4.91836735,  5.24489796,  5.57142857,\n",
       "        5.89795918,  6.2244898 ,  6.55102041,  6.87755102,  7.20408163,\n",
       "        7.53061224,  7.85714286,  8.18367347,  8.51020408,  8.83673469,\n",
       "        9.16326531,  9.48979592,  9.81632653, 10.14285714, 10.46938776,\n",
       "       10.79591837, 11.12244898, 11.44897959, 11.7755102 , 12.10204082,\n",
       "       12.42857143, 12.75510204, 13.08163265, 13.40816327, 13.73469388,\n",
       "       14.06122449, 14.3877551 , 14.71428571, 15.04081633, 15.36734694,\n",
       "       15.69387755, 16.02040816, 16.34693878, 16.67346939, 17.        ])"
      ]
     },
     "execution_count": 15,
     "metadata": {},
     "output_type": "execute_result"
    }
   ],
   "source": [
    "np.linspace(1,17)"
   ]
  },
  {
   "cell_type": "code",
   "execution_count": 16,
   "id": "10b16030",
   "metadata": {},
   "outputs": [
    {
     "data": {
      "text/plain": [
       "array([ 1.,  5.,  9., 13., 17.])"
      ]
     },
     "execution_count": 16,
     "metadata": {},
     "output_type": "execute_result"
    }
   ],
   "source": [
    "np.linspace(1,17,5)"
   ]
  },
  {
   "cell_type": "code",
   "execution_count": 17,
   "id": "da8c63f8",
   "metadata": {},
   "outputs": [
    {
     "data": {
      "text/plain": [
       "array([[[0.56515008, 0.15648645],\n",
       "        [0.52369403, 0.66375062],\n",
       "        [0.06343483, 0.10687945],\n",
       "        [0.49349266, 0.49614504],\n",
       "        [0.18958172, 0.86636094],\n",
       "        [0.50088336, 0.18100602],\n",
       "        [0.5355484 , 0.19624593],\n",
       "        [0.68060157, 0.02527352],\n",
       "        [0.23272941, 0.75422298],\n",
       "        [0.79025587, 0.16369767]]])"
      ]
     },
     "execution_count": 17,
     "metadata": {},
     "output_type": "execute_result"
    }
   ],
   "source": [
    "np.random.rand(1,10,2)"
   ]
  },
  {
   "cell_type": "code",
   "execution_count": 18,
   "id": "6c998b5b",
   "metadata": {},
   "outputs": [
    {
     "data": {
      "text/plain": [
       "array([[ 0.12520266, -1.33841362],\n",
       "       [ 0.33885916, -2.21901649],\n",
       "       [ 1.77021046, -0.2918988 ],\n",
       "       [-0.9569081 , -0.38131678],\n",
       "       [-0.57229101,  1.72894342],\n",
       "       [-1.26134529,  0.52742096],\n",
       "       [ 1.27929825,  0.81407917],\n",
       "       [ 0.63640849, -0.78418513],\n",
       "       [-1.18976844, -1.53193549],\n",
       "       [ 0.1572863 ,  0.02572547]])"
      ]
     },
     "execution_count": 18,
     "metadata": {},
     "output_type": "execute_result"
    }
   ],
   "source": [
    "np.random.randn(10,2)"
   ]
  },
  {
   "cell_type": "code",
   "execution_count": 19,
   "id": "cd19c04d",
   "metadata": {},
   "outputs": [
    {
     "data": {
      "text/plain": [
       "array([ 0.26327458, -0.22158383, -0.32450505,  1.27094048, -0.26907949,\n",
       "        0.43511557,  0.36255749,  0.16304589, -0.97567032])"
      ]
     },
     "execution_count": 19,
     "metadata": {},
     "output_type": "execute_result"
    }
   ],
   "source": [
    "np.random.randn(9)"
   ]
  },
  {
   "cell_type": "code",
   "execution_count": 20,
   "id": "8b1957ae",
   "metadata": {},
   "outputs": [
    {
     "data": {
      "text/plain": [
       "array([0.37979445, 0.96802261, 0.85843998, 0.10467739, 0.8234534 ,\n",
       "       0.22356686, 0.60732447, 0.72458154, 0.18459706])"
      ]
     },
     "execution_count": 20,
     "metadata": {},
     "output_type": "execute_result"
    }
   ],
   "source": [
    "np.random.random(9)"
   ]
  },
  {
   "cell_type": "code",
   "execution_count": 21,
   "id": "89f2925a",
   "metadata": {},
   "outputs": [
    {
     "data": {
      "text/plain": [
       "array([2, 7])"
      ]
     },
     "execution_count": 21,
     "metadata": {},
     "output_type": "execute_result"
    }
   ],
   "source": [
    "np.random.randint(1,8,2)"
   ]
  },
  {
   "cell_type": "code",
   "execution_count": 22,
   "id": "8ba8e94f",
   "metadata": {},
   "outputs": [
    {
     "data": {
      "text/plain": [
       "array([False, False, False, False, False, False, False, False, False,\n",
       "       False, False, False, False, False, False, False, False, False,\n",
       "       False, False])"
      ]
     },
     "execution_count": 22,
     "metadata": {},
     "output_type": "execute_result"
    }
   ],
   "source": [
    "np.random.binomial(2, 1, 20) == 0"
   ]
  },
  {
   "cell_type": "code",
   "execution_count": 23,
   "id": "d15ded95",
   "metadata": {},
   "outputs": [
    {
     "data": {
      "text/plain": [
       "7"
      ]
     },
     "execution_count": 23,
     "metadata": {},
     "output_type": "execute_result"
    }
   ],
   "source": [
    "np.random.randint(0,10)"
   ]
  },
  {
   "cell_type": "code",
   "execution_count": 24,
   "id": "fd848c54",
   "metadata": {},
   "outputs": [
    {
     "data": {
      "text/plain": [
       "array([[9, 9, 9, 9, 8, 6],\n",
       "       [7, 8, 7, 7, 9, 4]])"
      ]
     },
     "execution_count": 24,
     "metadata": {},
     "output_type": "execute_result"
    }
   ],
   "source": [
    "np.random.randint(4,10,(2,6))"
   ]
  },
  {
   "cell_type": "code",
   "execution_count": 25,
   "id": "d0b40536",
   "metadata": {},
   "outputs": [
    {
     "data": {
      "text/plain": [
       "array([[1., 0., 0., 0., 0.],\n",
       "       [0., 1., 0., 0., 0.],\n",
       "       [0., 0., 1., 0., 0.],\n",
       "       [0., 0., 0., 1., 0.],\n",
       "       [0., 0., 0., 0., 1.]])"
      ]
     },
     "execution_count": 25,
     "metadata": {},
     "output_type": "execute_result"
    }
   ],
   "source": [
    "np.eye(5)"
   ]
  },
  {
   "cell_type": "code",
   "execution_count": 26,
   "id": "e4c23d28",
   "metadata": {},
   "outputs": [],
   "source": [
    "anny = np.linspace(0,1,20)\n",
    "ay = anny.reshape(4,5)\n"
   ]
  },
  {
   "cell_type": "code",
   "execution_count": 27,
   "id": "23fa9a9f",
   "metadata": {},
   "outputs": [
    {
     "data": {
      "text/plain": [
       "2"
      ]
     },
     "execution_count": 27,
     "metadata": {},
     "output_type": "execute_result"
    }
   ],
   "source": [
    "ay.ndim"
   ]
  },
  {
   "cell_type": "code",
   "execution_count": 28,
   "id": "d36c28c4",
   "metadata": {},
   "outputs": [
    {
     "data": {
      "text/plain": [
       "array([6, 3, 7, 4, 6])"
      ]
     },
     "execution_count": 28,
     "metadata": {},
     "output_type": "execute_result"
    }
   ],
   "source": [
    "np.random.seed(42)\n",
    "x1 = np.random.randint(10, size=5)\n",
    "x1\n"
   ]
  },
  {
   "cell_type": "markdown",
   "id": "c4896ecb",
   "metadata": {},
   "source": [
    "# DAY 2"
   ]
  },
  {
   "cell_type": "code",
   "execution_count": 29,
   "id": "fb39e592",
   "metadata": {},
   "outputs": [
    {
     "data": {
      "text/plain": [
       "array([ 0,  1,  2,  3,  4,  5,  6,  7,  8,  9, 10, 11, 12, 13, 14, 15, 16,\n",
       "       17, 18, 19])"
      ]
     },
     "execution_count": 29,
     "metadata": {},
     "output_type": "execute_result"
    }
   ],
   "source": [
    "newData = np.arange(20)\n",
    "newData"
   ]
  },
  {
   "cell_type": "code",
   "execution_count": 30,
   "id": "124efb9d",
   "metadata": {},
   "outputs": [
    {
     "name": "stdout",
     "output_type": "stream",
     "text": [
      "6.74 µs ± 827 ns per loop (mean ± std. dev. of 7 runs, 100000 loops each)\n"
     ]
    }
   ],
   "source": [
    "%timeit [i + i for i in newData]  "
   ]
  },
  {
   "cell_type": "code",
   "execution_count": 31,
   "id": "1de477ca",
   "metadata": {},
   "outputs": [
    {
     "data": {
      "text/plain": [
       "array([10, 11, 12, 13, 14, 15, 16, 17, 18, 19, 20, 21, 22, 23, 24, 25, 26,\n",
       "       27, 28, 29])"
      ]
     },
     "execution_count": 31,
     "metadata": {},
     "output_type": "execute_result"
    }
   ],
   "source": [
    "newData + 10"
   ]
  },
  {
   "cell_type": "code",
   "execution_count": 32,
   "id": "ccf5b74d",
   "metadata": {},
   "outputs": [
    {
     "data": {
      "text/plain": [
       "array([ 2.,  3.,  4.,  5.,  6.,  7.,  8.,  9., 10., 11., 12., 13., 14.,\n",
       "       15., 16., 17., 18., 19., 20., 21.])"
      ]
     },
     "execution_count": 32,
     "metadata": {},
     "output_type": "execute_result"
    }
   ],
   "source": [
    "newData + 10 / 5"
   ]
  },
  {
   "cell_type": "code",
   "execution_count": 33,
   "id": "f93f7be4",
   "metadata": {},
   "outputs": [
    {
     "data": {
      "text/plain": [
       "array([ 0.        ,  3.14159265,  6.28318531,  9.42477796, 12.56637061,\n",
       "       15.70796327, 18.84955592, 21.99114858, 25.13274123, 28.27433388,\n",
       "       31.41592654, 34.55751919, 37.69911184, 40.8407045 , 43.98229715,\n",
       "       47.1238898 , 50.26548246, 53.40707511, 56.54866776, 59.69026042])"
      ]
     },
     "execution_count": 33,
     "metadata": {},
     "output_type": "execute_result"
    }
   ],
   "source": [
    "newData * np.pi"
   ]
  },
  {
   "cell_type": "code",
   "execution_count": 34,
   "id": "2e877cbd",
   "metadata": {},
   "outputs": [
    {
     "data": {
      "text/plain": [
       "array([10, 11, 12, 13, 14, 15, 16, 17, 18, 19, 20, 21, 22, 23, 24, 25, 26,\n",
       "       27, 28, 29])"
      ]
     },
     "execution_count": 34,
     "metadata": {},
     "output_type": "execute_result"
    }
   ],
   "source": [
    "np.add(newData, 10)"
   ]
  },
  {
   "cell_type": "code",
   "execution_count": 35,
   "id": "4c0cbb17",
   "metadata": {},
   "outputs": [
    {
     "data": {
      "text/plain": [
       "array([ 3.14159265,  4.14159265,  5.14159265,  6.14159265,  7.14159265,\n",
       "        8.14159265,  9.14159265, 10.14159265, 11.14159265, 12.14159265,\n",
       "       13.14159265, 14.14159265, 15.14159265, 16.14159265, 17.14159265,\n",
       "       18.14159265, 19.14159265, 20.14159265, 21.14159265, 22.14159265])"
      ]
     },
     "execution_count": 35,
     "metadata": {},
     "output_type": "execute_result"
    }
   ],
   "source": [
    "np.add(newData, np.pi)"
   ]
  },
  {
   "cell_type": "code",
   "execution_count": 36,
   "id": "49fffdfc",
   "metadata": {},
   "outputs": [
    {
     "data": {
      "text/plain": [
       "array([5., 5., 2., 1.])"
      ]
     },
     "execution_count": 36,
     "metadata": {},
     "output_type": "execute_result"
    }
   ],
   "source": [
    "comp =np.array([3-4j, 4-3j, 2+0j, 0+1j])\n",
    "np.abs(comp)"
   ]
  },
  {
   "cell_type": "code",
   "execution_count": 37,
   "id": "220d7e5e",
   "metadata": {},
   "outputs": [
    {
     "data": {
      "text/plain": [
       "array([ 0.00000000e+00,  1.55740772e+00, -2.18503986e+00, -1.42546543e-01,\n",
       "        1.15782128e+00, -3.38051501e+00, -2.91006191e-01,  8.71447983e-01,\n",
       "       -6.79971146e+00, -4.52315659e-01,  6.48360827e-01, -2.25950846e+02,\n",
       "       -6.35859929e-01,  4.63021133e-01,  7.24460662e+00, -8.55993401e-01,\n",
       "        3.00632242e-01,  3.49391565e+00, -1.13731371e+00,  1.51589471e-01])"
      ]
     },
     "execution_count": 37,
     "metadata": {},
     "output_type": "execute_result"
    }
   ],
   "source": [
    "np.tan(newData)"
   ]
  },
  {
   "cell_type": "code",
   "execution_count": 38,
   "id": "85e324a9",
   "metadata": {},
   "outputs": [
    {
     "name": "stderr",
     "output_type": "stream",
     "text": [
      "<ipython-input-38-865dd7705907>:1: RuntimeWarning: divide by zero encountered in log\n",
      "  np.log(newData)\n"
     ]
    },
    {
     "data": {
      "text/plain": [
       "array([      -inf, 0.        , 0.69314718, 1.09861229, 1.38629436,\n",
       "       1.60943791, 1.79175947, 1.94591015, 2.07944154, 2.19722458,\n",
       "       2.30258509, 2.39789527, 2.48490665, 2.56494936, 2.63905733,\n",
       "       2.7080502 , 2.77258872, 2.83321334, 2.89037176, 2.94443898])"
      ]
     },
     "execution_count": 38,
     "metadata": {},
     "output_type": "execute_result"
    }
   ],
   "source": [
    "np.log(newData)"
   ]
  },
  {
   "cell_type": "code",
   "execution_count": 39,
   "id": "bbb8666d",
   "metadata": {},
   "outputs": [
    {
     "name": "stderr",
     "output_type": "stream",
     "text": [
      "<ipython-input-39-e688499ff411>:1: RuntimeWarning: divide by zero encountered in log10\n",
      "  np.log10(newData)\n"
     ]
    },
    {
     "data": {
      "text/plain": [
       "array([      -inf, 0.        , 0.30103   , 0.47712125, 0.60205999,\n",
       "       0.69897   , 0.77815125, 0.84509804, 0.90308999, 0.95424251,\n",
       "       1.        , 1.04139269, 1.07918125, 1.11394335, 1.14612804,\n",
       "       1.17609126, 1.20411998, 1.23044892, 1.25527251, 1.2787536 ])"
      ]
     },
     "execution_count": 39,
     "metadata": {},
     "output_type": "execute_result"
    }
   ],
   "source": [
    "np.log10(newData)"
   ]
  },
  {
   "cell_type": "code",
   "execution_count": 40,
   "id": "c367207d",
   "metadata": {},
   "outputs": [
    {
     "name": "stderr",
     "output_type": "stream",
     "text": [
      "<ipython-input-40-2110a5d71805>:1: RuntimeWarning: divide by zero encountered in log2\n",
      "  np.log2(newData)\n"
     ]
    },
    {
     "data": {
      "text/plain": [
       "array([      -inf, 0.        , 1.        , 1.5849625 , 2.        ,\n",
       "       2.32192809, 2.5849625 , 2.80735492, 3.        , 3.169925  ,\n",
       "       3.32192809, 3.45943162, 3.5849625 , 3.70043972, 3.80735492,\n",
       "       3.9068906 , 4.        , 4.08746284, 4.169925  , 4.24792751])"
      ]
     },
     "execution_count": 40,
     "metadata": {},
     "output_type": "execute_result"
    }
   ],
   "source": [
    "np.log2(newData)"
   ]
  },
  {
   "cell_type": "code",
   "execution_count": null,
   "id": "8e6d59e5",
   "metadata": {},
   "outputs": [],
   "source": [
    "np.max(newData)"
   ]
  },
  {
   "cell_type": "code",
   "execution_count": null,
   "id": "f70925fd",
   "metadata": {},
   "outputs": [],
   "source": [
    "np.min(newData)"
   ]
  },
  {
   "cell_type": "code",
   "execution_count": null,
   "id": "df1d0d07",
   "metadata": {},
   "outputs": [],
   "source": [
    "np.size(newData)"
   ]
  },
  {
   "cell_type": "code",
   "execution_count": null,
   "id": "f9f23857",
   "metadata": {},
   "outputs": [],
   "source": [
    "np.add.accumulate(newData)"
   ]
  },
  {
   "cell_type": "code",
   "execution_count": null,
   "id": "0ffefa78",
   "metadata": {},
   "outputs": [],
   "source": [
    "np.add.reduce(newData)"
   ]
  },
  {
   "cell_type": "code",
   "execution_count": null,
   "id": "175791c8",
   "metadata": {},
   "outputs": [],
   "source": [
    "np.multiply.accumulate(newData)"
   ]
  },
  {
   "cell_type": "code",
   "execution_count": null,
   "id": "e4af59dc",
   "metadata": {},
   "outputs": [],
   "source": [
    "np.multiply.reduce(newData)"
   ]
  },
  {
   "cell_type": "code",
   "execution_count": null,
   "id": "9bce92af",
   "metadata": {},
   "outputs": [],
   "source": [
    "all =newData.reshape(4,5)"
   ]
  },
  {
   "cell_type": "code",
   "execution_count": null,
   "id": "fd58c13e",
   "metadata": {},
   "outputs": [],
   "source": [
    "np.multiply.outer(newData, newData)"
   ]
  },
  {
   "cell_type": "code",
   "execution_count": null,
   "id": "bf195e47",
   "metadata": {},
   "outputs": [],
   "source": [
    "all.shape"
   ]
  },
  {
   "cell_type": "code",
   "execution_count": null,
   "id": "e8c16169",
   "metadata": {},
   "outputs": [],
   "source": [
    "all"
   ]
  },
  {
   "cell_type": "code",
   "execution_count": null,
   "id": "a927e989",
   "metadata": {},
   "outputs": [],
   "source": [
    "all.sum(axis = 0)"
   ]
  },
  {
   "cell_type": "code",
   "execution_count": null,
   "id": "c6b7b835",
   "metadata": {},
   "outputs": [],
   "source": [
    "all.sum(axis = 1)"
   ]
  },
  {
   "cell_type": "code",
   "execution_count": null,
   "id": "95f023dc",
   "metadata": {},
   "outputs": [],
   "source": [
    " np.mean(all)"
   ]
  },
  {
   "cell_type": "code",
   "execution_count": null,
   "id": "195ce543",
   "metadata": {},
   "outputs": [],
   "source": [
    "np.stack(all)"
   ]
  },
  {
   "cell_type": "code",
   "execution_count": null,
   "id": "6985bdbf",
   "metadata": {},
   "outputs": [],
   "source": [
    "np.std(all)"
   ]
  },
  {
   "cell_type": "code",
   "execution_count": null,
   "id": "545e21e2",
   "metadata": {},
   "outputs": [],
   "source": [
    "np.median(all)"
   ]
  },
  {
   "cell_type": "code",
   "execution_count": null,
   "id": "d4d77a1c",
   "metadata": {},
   "outputs": [],
   "source": [
    "np.percentile(all, 25)"
   ]
  },
  {
   "cell_type": "code",
   "execution_count": null,
   "id": "bf3dac8a",
   "metadata": {},
   "outputs": [],
   "source": [
    "np.percentile(all,50)"
   ]
  },
  {
   "cell_type": "markdown",
   "id": "ac1ab624",
   "metadata": {},
   "source": [
    "# DAY 3"
   ]
  },
  {
   "cell_type": "code",
   "execution_count": null,
   "id": "1c1d2fbd",
   "metadata": {},
   "outputs": [],
   "source": [
    "mydata = np.array([16, 1, 2,13, 3, 10, np.nan,25, 5, 6, np.nan, 7, 8])\n",
    "mydata"
   ]
  },
  {
   "cell_type": "code",
   "execution_count": null,
   "id": "daafcb24",
   "metadata": {},
   "outputs": [],
   "source": [
    "print(\"sum: \", np.nansum(mydata))"
   ]
  },
  {
   "cell_type": "code",
   "execution_count": null,
   "id": "63f6ce5b",
   "metadata": {},
   "outputs": [],
   "source": [
    "print(\"product: \", np.nanprod(mydata))"
   ]
  },
  {
   "cell_type": "code",
   "execution_count": null,
   "id": "4e19a616",
   "metadata": {},
   "outputs": [],
   "source": [
    "np.nanargmax(mydata)"
   ]
  },
  {
   "cell_type": "code",
   "execution_count": null,
   "id": "afcb0ae8",
   "metadata": {},
   "outputs": [],
   "source": [
    "np.nanargmin(mydata)"
   ]
  },
  {
   "cell_type": "code",
   "execution_count": null,
   "id": "abadaedc",
   "metadata": {},
   "outputs": [],
   "source": [
    "print(\"cumulative product of array elements over a given axis treating Not aNumbers (NaNs) as one\")\n",
    "# np.nancumprod?\n",
    "np.nancumprod(mydata)"
   ]
  },
  {
   "cell_type": "code",
   "execution_count": null,
   "id": "f5a5c180",
   "metadata": {},
   "outputs": [],
   "source": [
    "print(np.nanmax(mydata))\n",
    "print(np.nanmin(mydata))\n",
    "print(np.nanmedian(mydata))"
   ]
  },
  {
   "cell_type": "code",
   "execution_count": null,
   "id": "126eb2fe",
   "metadata": {},
   "outputs": [],
   "source": [
    "xdata = np.array(([1,2,3],[4,5,6]))\n",
    "ydata = np.array(([1,2,4],[4,5,6]))"
   ]
  },
  {
   "cell_type": "code",
   "execution_count": null,
   "id": "9cfc5a2c",
   "metadata": {},
   "outputs": [],
   "source": [
    "xdata"
   ]
  },
  {
   "cell_type": "code",
   "execution_count": null,
   "id": "2980a680",
   "metadata": {},
   "outputs": [],
   "source": [
    "ydata"
   ]
  },
  {
   "cell_type": "code",
   "execution_count": null,
   "id": "9bf579ae",
   "metadata": {},
   "outputs": [],
   "source": [
    "xdata + ydata"
   ]
  },
  {
   "cell_type": "code",
   "execution_count": null,
   "id": "a2dba9f1",
   "metadata": {},
   "outputs": [],
   "source": [
    "xdata - ydata"
   ]
  },
  {
   "cell_type": "code",
   "execution_count": null,
   "id": "a9c135be",
   "metadata": {},
   "outputs": [],
   "source": [
    "zdata =np.array([4,7,9])\n",
    "zdata"
   ]
  },
  {
   "cell_type": "code",
   "execution_count": null,
   "id": "3c4cbecc",
   "metadata": {},
   "outputs": [],
   "source": [
    "xdata + zdata"
   ]
  },
  {
   "cell_type": "code",
   "execution_count": null,
   "id": "c3a6d23c",
   "metadata": {},
   "outputs": [],
   "source": [
    "rszdata=zdata.reshape(3,1)\n",
    "rszdata"
   ]
  },
  {
   "cell_type": "code",
   "execution_count": null,
   "id": "ec0e3d49",
   "metadata": {},
   "outputs": [],
   "source": [
    "threedata =np.arange(9).reshape(3,3)"
   ]
  },
  {
   "cell_type": "code",
   "execution_count": null,
   "id": "136875f9",
   "metadata": {},
   "outputs": [],
   "source": [
    "threedata+rszdata"
   ]
  },
  {
   "cell_type": "code",
   "execution_count": null,
   "id": "028fe5be",
   "metadata": {},
   "outputs": [],
   "source": [
    "x2 = np.random.randint(10, size=(3,4))\n",
    "x2\n",
    "\n",
    "working with Boolean Arrays, Boolean operators,Boolean Array masking,Fancy Indexing,Combine Indexing"
   ]
  },
  {
   "cell_type": "code",
   "execution_count": null,
   "id": "d9c29b47",
   "metadata": {},
   "outputs": [],
   "source": [
    "x2[::2]"
   ]
  },
  {
   "cell_type": "code",
   "execution_count": null,
   "id": "8ff3fa02",
   "metadata": {},
   "outputs": [],
   "source": [
    "x2[2::]"
   ]
  },
  {
   "cell_type": "code",
   "execution_count": null,
   "id": "6a44ab17",
   "metadata": {},
   "outputs": [],
   "source": [
    "x2[2:3]"
   ]
  },
  {
   "cell_type": "code",
   "execution_count": null,
   "id": "4b1f5394",
   "metadata": {},
   "outputs": [],
   "source": [
    "x2[:,:]"
   ]
  },
  {
   "cell_type": "code",
   "execution_count": null,
   "id": "df122db7",
   "metadata": {},
   "outputs": [],
   "source": [
    "x2[::,::]"
   ]
  },
  {
   "cell_type": "code",
   "execution_count": null,
   "id": "8095e9cd",
   "metadata": {},
   "outputs": [],
   "source": [
    "x2[:2,:2]"
   ]
  },
  {
   "cell_type": "code",
   "execution_count": null,
   "id": "9f3b147a",
   "metadata": {},
   "outputs": [],
   "source": [
    "x2[:3,:3]"
   ]
  },
  {
   "cell_type": "code",
   "execution_count": null,
   "id": "1ad1a7bf",
   "metadata": {},
   "outputs": [],
   "source": [
    "x2[::3,::3]"
   ]
  },
  {
   "cell_type": "code",
   "execution_count": null,
   "id": "82c4650d",
   "metadata": {},
   "outputs": [],
   "source": [
    "x2[:2]"
   ]
  },
  {
   "cell_type": "code",
   "execution_count": null,
   "id": "ab648402",
   "metadata": {},
   "outputs": [],
   "source": [
    "x2[:,:3]"
   ]
  },
  {
   "cell_type": "code",
   "execution_count": null,
   "id": "a3ecb217",
   "metadata": {},
   "outputs": [],
   "source": [
    "view =x2[::,2].copy()\n",
    "view"
   ]
  },
  {
   "cell_type": "code",
   "execution_count": null,
   "id": "c44cf8dd",
   "metadata": {},
   "outputs": [],
   "source": [
    "x2 = np.random.randint(10, size=(3,4))\n",
    "x2"
   ]
  },
  {
   "cell_type": "code",
   "execution_count": null,
   "id": "c9f0c9e8",
   "metadata": {},
   "outputs": [],
   "source": [
    "[x2[0],x2[1]]"
   ]
  },
  {
   "cell_type": "code",
   "execution_count": null,
   "id": "70ab7cf4",
   "metadata": {},
   "outputs": [],
   "source": [
    "x2[0,1]"
   ]
  },
  {
   "cell_type": "code",
   "execution_count": null,
   "id": "6f22e4da",
   "metadata": {},
   "outputs": [],
   "source": [
    "[x2[:2],x2[2:]]"
   ]
  },
  {
   "cell_type": "code",
   "execution_count": null,
   "id": "837dde7e",
   "metadata": {},
   "outputs": [],
   "source": [
    "a3D = np.array([[[[[1, 2], [3, 4]],[[1, 2], [3, 4]], [[5, 6], [7, 8]]]]])\n",
    "a3D.ndim"
   ]
  },
  {
   "cell_type": "code",
   "execution_count": null,
   "id": "3193440d",
   "metadata": {},
   "outputs": [],
   "source": [
    "a = np.array([127, 128, 129], dtype=np.int8)\n",
    "a"
   ]
  },
  {
   "cell_type": "code",
   "execution_count": null,
   "id": "5e77b761",
   "metadata": {},
   "outputs": [],
   "source": [
    "x = np.array([[1, 2], [3, 4], [5, 6]])\n",
    "x\n",
    "\n",
    "Writing custom array containers"
   ]
  },
  {
   "cell_type": "markdown",
   "id": "d335848e",
   "metadata": {},
   "source": [
    "# DAY 4"
   ]
  },
  {
   "cell_type": "code",
   "execution_count": null,
   "id": "b15dea51",
   "metadata": {},
   "outputs": [],
   "source": [
    "x = np.arange(35).reshape(5, 7)\n",
    "b = x > 20\n",
    "x\n",
    "# b[:, 5]\n",
    "# x[b[:, 5]]"
   ]
  },
  {
   "cell_type": "code",
   "execution_count": null,
   "id": "e3566d18",
   "metadata": {},
   "outputs": [],
   "source": [
    "x[b]"
   ]
  },
  {
   "cell_type": "code",
   "execution_count": null,
   "id": "9b405df4",
   "metadata": {},
   "outputs": [],
   "source": [
    "x = np.array([[0, 1], [1, 1], [2, 2]])\n",
    "rowsum = x.sum(-1)\n",
    "rowsum\n",
    "# x[rowsum <= 2, :]\n",
    "# array([[0, 1],\n",
    "# [1, 1]])\n"
   ]
  },
  {
   "cell_type": "code",
   "execution_count": null,
   "id": "ee2e22f7",
   "metadata": {},
   "outputs": [],
   "source": [
    "x = np.array([[ 0, 1, 2],\n",
    "[ 3, 4, 5],\n",
    "[ 6, 7, 8],\n",
    "[ 9, 10, 11]])\n",
    "rows = (x.sum(-1) % 2) \n",
    "rows"
   ]
  },
  {
   "cell_type": "code",
   "execution_count": null,
   "id": "caae868f",
   "metadata": {},
   "outputs": [],
   "source": [
    "z = np.arange(81).reshape(3, 3, 3, 3)\n",
    "indices = (1, 1, 1, 1)\n",
    "z[indices]\n"
   ]
  },
  {
   "cell_type": "code",
   "execution_count": null,
   "id": "0908eedd",
   "metadata": {},
   "outputs": [],
   "source": [
    "indices = (1, 1, 1, slice(0, 2)) # same as [1, 1, 1, 0:2]\n",
    "z[indices]\n"
   ]
  },
  {
   "cell_type": "code",
   "execution_count": null,
   "id": "a5b6bdeb",
   "metadata": {},
   "outputs": [],
   "source": [
    "indices = (1, Ellipsis, 1) # same as [1, ..., 1]\n",
    "z[indices]"
   ]
  },
  {
   "cell_type": "code",
   "execution_count": null,
   "id": "5b56b489",
   "metadata": {},
   "outputs": [],
   "source": [
    "x = np.array([('Rex', 9, 81.0), ('Fido', 3, 27.0)],dtype=[('name', 'U10'), ('age', 'i4'), ('weight', 'f4')])\n",
    "x"
   ]
  },
  {
   "cell_type": "code",
   "execution_count": null,
   "id": "9daa25db",
   "metadata": {},
   "outputs": [],
   "source": [
    "x['age']"
   ]
  },
  {
   "cell_type": "code",
   "execution_count": null,
   "id": "3741b36d",
   "metadata": {},
   "outputs": [],
   "source": [
    "np.dtype('3int8, float32, (2, 3)float64')\n"
   ]
  },
  {
   "cell_type": "code",
   "execution_count": null,
   "id": "36228f47",
   "metadata": {},
   "outputs": [],
   "source": [
    "np.dtype({'names': ['col1', 'col2'], 'formats': ['i4', 'f4']})\n"
   ]
  },
  {
   "cell_type": "code",
   "execution_count": null,
   "id": "300a6cf2",
   "metadata": {},
   "outputs": [],
   "source": [
    "dm = np.dtype([('x', 'i8'), ('y', 'f4')])\n",
    "dm.names\n"
   ]
  },
  {
   "cell_type": "code",
   "execution_count": null,
   "id": "effb0914",
   "metadata": {},
   "outputs": [],
   "source": [
    "dm.fields"
   ]
  },
  {
   "cell_type": "code",
   "execution_count": null,
   "id": "088f95b0",
   "metadata": {},
   "outputs": [],
   "source": []
  },
  {
   "cell_type": "markdown",
   "id": "fbfbbb85",
   "metadata": {},
   "source": [
    "# DAY 5"
   ]
  },
  {
   "cell_type": "code",
   "execution_count": null,
   "id": "1601a231",
   "metadata": {},
   "outputs": [],
   "source": [
    "onedim = np.array([2,1,4,3,5], dtype=int)\n",
    "onedim.sort()\n",
    "onedim"
   ]
  },
  {
   "cell_type": "code",
   "execution_count": null,
   "id": "3c933099",
   "metadata": {},
   "outputs": [],
   "source": [
    "np.sort(onedim)"
   ]
  },
  {
   "cell_type": "code",
   "execution_count": null,
   "id": "18325afc",
   "metadata": {},
   "outputs": [],
   "source": [
    "f = np.array([2,1,4,3,5], dtype=int)\n",
    "i = np.argsort(f)\n",
    "print(i)"
   ]
  },
  {
   "cell_type": "code",
   "execution_count": null,
   "id": "703918af",
   "metadata": {},
   "outputs": [],
   "source": [
    "f[i]"
   ]
  },
  {
   "cell_type": "code",
   "execution_count": null,
   "id": "62743d3c",
   "metadata": {},
   "outputs": [],
   "source": [
    "rand = np.random.RandomState(42)\n",
    "x = rand.randint(0,10, (4,6))\n",
    "x"
   ]
  },
  {
   "cell_type": "code",
   "execution_count": null,
   "id": "48f90280",
   "metadata": {},
   "outputs": [],
   "source": [
    "np.sort(x, axis=0)"
   ]
  },
  {
   "cell_type": "code",
   "execution_count": null,
   "id": "ba5339ca",
   "metadata": {},
   "outputs": [],
   "source": [
    "np.sort(x, axis=1)"
   ]
  },
  {
   "cell_type": "code",
   "execution_count": null,
   "id": "45d889d2",
   "metadata": {},
   "outputs": [],
   "source": [
    "y = np.array([7,2,3,1,6,5,4])\n",
    "np.partition(y,3)"
   ]
  },
  {
   "cell_type": "code",
   "execution_count": null,
   "id": "213f3a91",
   "metadata": {},
   "outputs": [],
   "source": [
    "np.partition(x, 2, axis=1)"
   ]
  },
  {
   "cell_type": "code",
   "execution_count": null,
   "id": "c0ad3145",
   "metadata": {},
   "outputs": [],
   "source": [
    "# Sorting Arrays,sorting along row and column,Partial sorts: Partitioning"
   ]
  },
  {
   "cell_type": "markdown",
   "id": "c5ae4d5a",
   "metadata": {},
   "source": [
    "# DAY 6"
   ]
  },
  {
   "cell_type": "code",
   "execution_count": 2,
   "id": "00c78274",
   "metadata": {},
   "outputs": [],
   "source": [
    "import numpy as np\n",
    "import pandas as pd"
   ]
  },
  {
   "cell_type": "code",
   "execution_count": null,
   "id": "27b18867",
   "metadata": {},
   "outputs": [],
   "source": [
    "pandasData = pd.Series([1,2,3,4,5,6,7,8,9])\n",
    "pandasData"
   ]
  },
  {
   "cell_type": "code",
   "execution_count": null,
   "id": "7e19ea22",
   "metadata": {},
   "outputs": [],
   "source": [
    "pandasData.values"
   ]
  },
  {
   "cell_type": "code",
   "execution_count": null,
   "id": "e1440080",
   "metadata": {},
   "outputs": [],
   "source": [
    "pandasData.keys"
   ]
  },
  {
   "cell_type": "code",
   "execution_count": null,
   "id": "2a6d3ac5",
   "metadata": {},
   "outputs": [],
   "source": [
    "pandasData.index"
   ]
  },
  {
   "cell_type": "code",
   "execution_count": null,
   "id": "9885dfc9",
   "metadata": {},
   "outputs": [],
   "source": [
    "pandasData[0:5]"
   ]
  },
  {
   "cell_type": "code",
   "execution_count": null,
   "id": "6c8e8af7",
   "metadata": {},
   "outputs": [],
   "source": [
    "pandasData[-5:-2]"
   ]
  },
  {
   "cell_type": "code",
   "execution_count": null,
   "id": "a3f3b5e6",
   "metadata": {},
   "outputs": [],
   "source": [
    "newData =pd.Series([10, 11, 12, 13, 14, 15, 16, 17, 18], index=['a', 'b', 'c', 'd', 'e', 'f', 'g', 'h', 'i'])\n",
    "newData"
   ]
  },
  {
   "cell_type": "code",
   "execution_count": null,
   "id": "a3b68100",
   "metadata": {},
   "outputs": [],
   "source": [
    "newData['a':'f']"
   ]
  },
  {
   "cell_type": "code",
   "execution_count": null,
   "id": "8be764a7",
   "metadata": {},
   "outputs": [],
   "source": [
    "social = {'Facebook':2500000, 'Linkedin':64000000, 'Twitter':49000000, 'Google':39500000, 'Snapchat':8400000, 'Telegram':8300000}\n",
    "socialinfo= pd.Series(states)\n",
    "socialinfo"
   ]
  },
  {
   "cell_type": "code",
   "execution_count": null,
   "id": "c34d14d0",
   "metadata": {},
   "outputs": [],
   "source": [
    "socialinfo['Facebook']"
   ]
  },
  {
   "cell_type": "code",
   "execution_count": null,
   "id": "1e1d709d",
   "metadata": {},
   "outputs": [],
   "source": [
    "socialinfo['Linkedin':'Snapchat']"
   ]
  },
  {
   "cell_type": "markdown",
   "id": "74950239",
   "metadata": {},
   "source": [
    "# DAY 7"
   ]
  },
  {
   "cell_type": "code",
   "execution_count": null,
   "id": "ac3ae1fd",
   "metadata": {},
   "outputs": [],
   "source": [
    "online = pd.Series({'Facebook':2500000, 'Linkedin':64000000, 'Twitter':49000000, 'Google':39500000, 'Snapchat':8400000, 'Telegram':8300000})"
   ]
  },
  {
   "cell_type": "code",
   "execution_count": null,
   "id": "95523ece",
   "metadata": {},
   "outputs": [],
   "source": [
    "offline = pd.Series({'Facebook':500000, 'Linkedin':263000, 'Twitter':740000, 'Google':693000, 'Snapchat':644000, \n",
    "                      'Telegram':164500})\n"
   ]
  },
  {
   "cell_type": "code",
   "execution_count": null,
   "id": "50f8c1ef",
   "metadata": {},
   "outputs": [],
   "source": [
    "total_pop = pd.DataFrame({'online':online, 'offline':offline})\n",
    "total_pop"
   ]
  },
  {
   "cell_type": "code",
   "execution_count": null,
   "id": "e23fbc1c",
   "metadata": {},
   "outputs": [],
   "source": [
    "total_pop.index"
   ]
  },
  {
   "cell_type": "code",
   "execution_count": null,
   "id": "72c0e60c",
   "metadata": {},
   "outputs": [],
   "source": [
    "total_pop.columns"
   ]
  },
  {
   "cell_type": "code",
   "execution_count": null,
   "id": "dca226d4",
   "metadata": {},
   "outputs": [],
   "source": [
    "total_pop.values"
   ]
  },
  {
   "cell_type": "code",
   "execution_count": null,
   "id": "1218462a",
   "metadata": {},
   "outputs": [],
   "source": [
    "states = pd.Series({'Oyo':2500000, 'Lagos':6400000, 'Kano':4600000, 'Kaduna':3600000, 'Enugu':3400000, 'Imo':2300000})\n",
    "land = pd.Series({'Rivers':5000, 'Lagos':2000, 'Edo':7000, 'Kaduna':3000, 'Benue':4000, 'Imo':1500})\n",
    "census = pd.DataFrame({'Population':states, 'Land mass':land})\n",
    "census"
   ]
  },
  {
   "cell_type": "code",
   "execution_count": null,
   "id": "722f746f",
   "metadata": {},
   "outputs": [],
   "source": [
    "census[\"Population\"]"
   ]
  },
  {
   "cell_type": "code",
   "execution_count": null,
   "id": "e5fe8922",
   "metadata": {},
   "outputs": [],
   "source": [
    "census.columns"
   ]
  },
  {
   "cell_type": "code",
   "execution_count": null,
   "id": "a329b132",
   "metadata": {},
   "outputs": [],
   "source": [
    "census[\"Land mass\"]"
   ]
  },
  {
   "cell_type": "code",
   "execution_count": null,
   "id": "6499f5f4",
   "metadata": {},
   "outputs": [],
   "source": [
    "census[\"Land mass\"][\"Benue\":\"Lagos\"]"
   ]
  },
  {
   "cell_type": "code",
   "execution_count": null,
   "id": "efcba1f9",
   "metadata": {},
   "outputs": [],
   "source": [
    "census[\"Benue\":\"Lagos\"]\n",
    "Creating a Dataframe object,creating dataframe from single dictionary,creating dataframe from multiple dictionaries,\n",
    "creating dataframe with some missing values,\n",
    ",slicing the dataframe using indexing, indexing a dataframe through it column name"
   ]
  },
  {
   "cell_type": "code",
   "execution_count": null,
   "id": "72f3f711",
   "metadata": {},
   "outputs": [],
   "source": [
    "studentpop = pd.DataFrame(np.random.rand(3,2), columns=['Male', \"Female\"], index=['Js1', 'Js2', 'Js3'])\n",
    "studentpop.Male"
   ]
  },
  {
   "cell_type": "code",
   "execution_count": null,
   "id": "fe1fe359",
   "metadata": {},
   "outputs": [],
   "source": [
    "studentpop['Total Student'] = studentpop['Female'] + studentpop['Male']\n",
    "studentpop"
   ]
  },
  {
   "cell_type": "code",
   "execution_count": null,
   "id": "96144105",
   "metadata": {},
   "outputs": [],
   "source": []
  },
  {
   "cell_type": "markdown",
   "id": "d379205d",
   "metadata": {},
   "source": [
    "# DAY 8"
   ]
  },
  {
   "cell_type": "code",
   "execution_count": null,
   "id": "12ad86f2",
   "metadata": {},
   "outputs": [],
   "source": [
    "df = pd.DataFrame(np.random.randn(10, 4))\n",
    "df"
   ]
  },
  {
   "cell_type": "code",
   "execution_count": null,
   "id": "cd7ec86a",
   "metadata": {},
   "outputs": [],
   "source": [
    "newdata = [df[:4], df[4:7], df[7:]]"
   ]
  },
  {
   "cell_type": "code",
   "execution_count": null,
   "id": "385e363a",
   "metadata": {},
   "outputs": [],
   "source": [
    "pd.concat(newdata)"
   ]
  },
  {
   "cell_type": "code",
   "execution_count": null,
   "id": "d443da4b",
   "metadata": {},
   "outputs": [],
   "source": [
    "left = pd.DataFrame({\"Gender\": [\"male\", \"female\"], \"ltotal\": [1, 2]})\n",
    "right = pd.DataFrame({\"Gender\": [\"male\", \"female\"], \"rtotal\": [4, 5]})"
   ]
  },
  {
   "cell_type": "code",
   "execution_count": null,
   "id": "450646b9",
   "metadata": {},
   "outputs": [],
   "source": [
    "left"
   ]
  },
  {
   "cell_type": "raw",
   "id": "26d53b9e",
   "metadata": {},
   "source": [
    "right"
   ]
  },
  {
   "cell_type": "code",
   "execution_count": null,
   "id": "4bd81238",
   "metadata": {},
   "outputs": [],
   "source": [
    "pd.merge(left, right, on=\"Gender\")"
   ]
  },
  {
   "cell_type": "code",
   "execution_count": null,
   "id": "bcfce7b3",
   "metadata": {},
   "outputs": [],
   "source": [
    "datapd = pd.DataFrame({\"A\": [\"foo\", \"bar\", \"foo\", \"bar\", \"foo\", \"bar\", \"foo\", \"foo\"], \n",
    "                          \"B\": [\"one\", \"one\", \"two\", \"three\", \"two\", \"two\", \"one\", \"three\"], \n",
    "                          \"C\": np.random.randn(8),\n",
    "                          \"D\": np.random.randn(8),\n",
    "                         })"
   ]
  },
  {
   "cell_type": "code",
   "execution_count": null,
   "id": "2f4197bc",
   "metadata": {},
   "outputs": [],
   "source": [
    "datapd"
   ]
  },
  {
   "cell_type": "code",
   "execution_count": null,
   "id": "7ef32d12",
   "metadata": {},
   "outputs": [],
   "source": [
    "datapd.groupby(\"A\").sum()"
   ]
  },
  {
   "cell_type": "code",
   "execution_count": null,
   "id": "29c7928c",
   "metadata": {},
   "outputs": [],
   "source": [
    "datapd.groupby([\"A\", \"B\"]).sum()"
   ]
  },
  {
   "cell_type": "code",
   "execution_count": null,
   "id": "293f1e4d",
   "metadata": {},
   "outputs": [],
   "source": [
    "Filling null value,fill a null value in series object,fill any null value with the mean of the data\n",
    "forward fill,backward fill\n",
    "fill a null value in dataframe object,fil forward row-wise,fill forward column-wise"
   ]
  },
  {
   "cell_type": "markdown",
   "id": "0ab2935b",
   "metadata": {},
   "source": [
    "# DAY 9"
   ]
  },
  {
   "cell_type": "code",
   "execution_count": null,
   "id": "9c2ced48",
   "metadata": {},
   "outputs": [],
   "source": [
    "nandata = pd.Series([1, np.nan, 2, np.nan ], index=list(\"abcd\"))\n",
    "nandata"
   ]
  },
  {
   "cell_type": "code",
   "execution_count": null,
   "id": "b69d322c",
   "metadata": {},
   "outputs": [],
   "source": [
    "nandata.fillna(0)"
   ]
  },
  {
   "cell_type": "code",
   "execution_count": null,
   "id": "c4e24435",
   "metadata": {},
   "outputs": [],
   "source": [
    "nandata.fillna(nandata.mean())"
   ]
  },
  {
   "cell_type": "code",
   "execution_count": null,
   "id": "520b2044",
   "metadata": {},
   "outputs": [],
   "source": [
    "nandata.fillna(method=\"ffill\")"
   ]
  },
  {
   "cell_type": "code",
   "execution_count": null,
   "id": "d1ddd77b",
   "metadata": {},
   "outputs": [],
   "source": [
    "second_data = pd.DataFrame([[np.nan, np.pi, np.nan, 0],\n",
    "                  [3, 4, np.nan, 1],\n",
    "                   [5, np.nan, np.nan, 5],\n",
    "                   [np.nan, 3, np.nan, np.pi]],\n",
    "                  columns=list('ABCD'))\n",
    "second_data"
   ]
  },
  {
   "cell_type": "code",
   "execution_count": null,
   "id": "ee963ee3",
   "metadata": {},
   "outputs": [],
   "source": [
    "second_data.fillna(method=\"ffill\", axis = 1)"
   ]
  },
  {
   "cell_type": "code",
   "execution_count": null,
   "id": "f2684ecc",
   "metadata": {},
   "outputs": [],
   "source": [
    "second_data.fillna(method=\"bfill\", axis = 1)"
   ]
  },
  {
   "cell_type": "code",
   "execution_count": null,
   "id": "751cdb99",
   "metadata": {},
   "outputs": [],
   "source": [
    "second_data.fillna(method=\"ffill\", axis=0)"
   ]
  },
  {
   "cell_type": "code",
   "execution_count": null,
   "id": "bb8e8458",
   "metadata": {},
   "outputs": [],
   "source": [
    "second_data.fillna(method=\"bfill\", axis=0)"
   ]
  },
  {
   "cell_type": "code",
   "execution_count": null,
   "id": "f672f3f9",
   "metadata": {},
   "outputs": [],
   "source": [
    "second_data.fillna(0)"
   ]
  },
  {
   "cell_type": "markdown",
   "id": "a8cabb25",
   "metadata": {},
   "source": [
    "# DAY 10"
   ]
  },
  {
   "cell_type": "code",
   "execution_count": 42,
   "id": "6819a600",
   "metadata": {},
   "outputs": [
    {
     "data": {
      "text/plain": [
       "California  2000    33871648\n",
       "            2010    37253956\n",
       "Texas       2000    20851820\n",
       "            2010    25145561\n",
       "New York    2000    18976457\n",
       "            2010    19378102\n",
       "dtype: int64"
      ]
     },
     "execution_count": 42,
     "metadata": {},
     "output_type": "execute_result"
    }
   ],
   "source": [
    "muldata = {('California', 2000): 33871648, ('California', 2010): 37253956, ('Texas', 2000): 20851820, \n",
    "        ('Texas', 2010): 25145561, ('New York', 2000): 18976457, ('New York', 2010): 19378102}\n",
    "pd.Series(muldata)"
   ]
  },
  {
   "cell_type": "code",
   "execution_count": 43,
   "id": "7d4e1f1f",
   "metadata": {},
   "outputs": [
    {
     "data": {
      "text/plain": [
       "dict_items([(('California', 2000), 33871648), (('California', 2010), 37253956), (('Texas', 2000), 20851820), (('Texas', 2010), 25145561), (('New York', 2000), 18976457), (('New York', 2010), 19378102)])"
      ]
     },
     "execution_count": 43,
     "metadata": {},
     "output_type": "execute_result"
    }
   ],
   "source": [
    "muldata.items()"
   ]
  },
  {
   "cell_type": "code",
   "execution_count": 44,
   "id": "88748cc1",
   "metadata": {},
   "outputs": [
    {
     "data": {
      "text/plain": [
       "dict_values([33871648, 37253956, 20851820, 25145561, 18976457, 19378102])"
      ]
     },
     "execution_count": 44,
     "metadata": {},
     "output_type": "execute_result"
    }
   ],
   "source": [
    "muldata.values()"
   ]
  },
  {
   "cell_type": "code",
   "execution_count": 45,
   "id": "1afa4ea7",
   "metadata": {},
   "outputs": [
    {
     "data": {
      "text/plain": [
       "dict_keys([('California', 2000), ('California', 2010), ('Texas', 2000), ('Texas', 2010), ('New York', 2000), ('New York', 2010)])"
      ]
     },
     "execution_count": 45,
     "metadata": {},
     "output_type": "execute_result"
    }
   ],
   "source": [
    "muldata.keys()"
   ]
  },
  {
   "cell_type": "code",
   "execution_count": 46,
   "id": "cad0cabc",
   "metadata": {},
   "outputs": [
    {
     "data": {
      "text/plain": [
       "18976457"
      ]
     },
     "execution_count": 46,
     "metadata": {},
     "output_type": "execute_result"
    }
   ],
   "source": [
    "muldata[('New York', 2000)]\n"
   ]
  },
  {
   "cell_type": "code",
   "execution_count": 47,
   "id": "3632def7",
   "metadata": {},
   "outputs": [
    {
     "data": {
      "text/plain": [
       "(California, 2000)    33871648\n",
       "(California, 2010)    37253956\n",
       "(New York, 2000)      18976457\n",
       "(New York, 2010)      19378102\n",
       "(Texas, 2000)         20851820\n",
       "(Texas, 2010)         25145561\n",
       "dtype: int64"
      ]
     },
     "execution_count": 47,
     "metadata": {},
     "output_type": "execute_result"
    }
   ],
   "source": [
    "index = [('California', 2000), ('California', 2010), ('New York', 2000), ('New York', 2010), ('Texas',\n",
    "            2000), ('Texas', 2010)]  \n",
    "populations = [33871648, 37253956, 18976457, 19378102, 20851820, 25145561]       \n",
    "pop = pd.Series(populations, index=index)       \n",
    "pop"
   ]
  },
  {
   "cell_type": "code",
   "execution_count": 48,
   "id": "18cf6dc7",
   "metadata": {},
   "outputs": [
    {
     "data": {
      "text/plain": [
       "(California, 2010)    37253956\n",
       "(New York, 2000)      18976457\n",
       "(New York, 2010)      19378102\n",
       "(Texas, 2000)         20851820\n",
       "dtype: int64"
      ]
     },
     "execution_count": 48,
     "metadata": {},
     "output_type": "execute_result"
    }
   ],
   "source": [
    "pop[('California', 2010) : ('Texas', 2000)]"
   ]
  },
  {
   "cell_type": "code",
   "execution_count": 49,
   "id": "2394d1a5",
   "metadata": {},
   "outputs": [
    {
     "data": {
      "text/plain": [
       "(California, 2010)    37253956\n",
       "(New York, 2010)      19378102\n",
       "(Texas, 2010)         25145561\n",
       "dtype: int64"
      ]
     },
     "execution_count": 49,
     "metadata": {},
     "output_type": "execute_result"
    }
   ],
   "source": [
    "pop[[i for i in pop.index if i[1]==2010]]"
   ]
  },
  {
   "cell_type": "code",
   "execution_count": 50,
   "id": "729885a2",
   "metadata": {},
   "outputs": [
    {
     "data": {
      "text/plain": [
       "MultiIndex([('California', 2000),\n",
       "            ('California', 2010),\n",
       "            (  'New York', 2000),\n",
       "            (  'New York', 2010),\n",
       "            (     'Texas', 2000),\n",
       "            (     'Texas', 2010)],\n",
       "           )"
      ]
     },
     "execution_count": 50,
     "metadata": {},
     "output_type": "execute_result"
    }
   ],
   "source": [
    "index= pd.MultiIndex.from_tuples(index)\n",
    "index"
   ]
  },
  {
   "cell_type": "code",
   "execution_count": 51,
   "id": "9343a175",
   "metadata": {},
   "outputs": [
    {
     "data": {
      "text/plain": [
       "California  2000    33871648\n",
       "            2010    37253956\n",
       "New York    2000    18976457\n",
       "            2010    19378102\n",
       "Texas       2000    20851820\n",
       "            2010    25145561\n",
       "dtype: int64"
      ]
     },
     "execution_count": 51,
     "metadata": {},
     "output_type": "execute_result"
    }
   ],
   "source": [
    "pop = pop.reindex(index)\n",
    "pop"
   ]
  },
  {
   "cell_type": "code",
   "execution_count": 52,
   "id": "794e2324",
   "metadata": {},
   "outputs": [
    {
     "data": {
      "text/html": [
       "<div>\n",
       "<style scoped>\n",
       "    .dataframe tbody tr th:only-of-type {\n",
       "        vertical-align: middle;\n",
       "    }\n",
       "\n",
       "    .dataframe tbody tr th {\n",
       "        vertical-align: top;\n",
       "    }\n",
       "\n",
       "    .dataframe thead th {\n",
       "        text-align: right;\n",
       "    }\n",
       "</style>\n",
       "<table border=\"1\" class=\"dataframe\">\n",
       "  <thead>\n",
       "    <tr style=\"text-align: right;\">\n",
       "      <th></th>\n",
       "      <th>2000</th>\n",
       "      <th>2010</th>\n",
       "    </tr>\n",
       "  </thead>\n",
       "  <tbody>\n",
       "    <tr>\n",
       "      <th>California</th>\n",
       "      <td>33871648</td>\n",
       "      <td>37253956</td>\n",
       "    </tr>\n",
       "    <tr>\n",
       "      <th>New York</th>\n",
       "      <td>18976457</td>\n",
       "      <td>19378102</td>\n",
       "    </tr>\n",
       "    <tr>\n",
       "      <th>Texas</th>\n",
       "      <td>20851820</td>\n",
       "      <td>25145561</td>\n",
       "    </tr>\n",
       "  </tbody>\n",
       "</table>\n",
       "</div>"
      ],
      "text/plain": [
       "                2000      2010\n",
       "California  33871648  37253956\n",
       "New York    18976457  19378102\n",
       "Texas       20851820  25145561"
      ]
     },
     "execution_count": 52,
     "metadata": {},
     "output_type": "execute_result"
    }
   ],
   "source": [
    "popdf = pop.unstack()\n",
    "popdf"
   ]
  },
  {
   "cell_type": "code",
   "execution_count": 53,
   "id": "90aaad8c",
   "metadata": {},
   "outputs": [
    {
     "ename": "SyntaxError",
     "evalue": "invalid syntax (<ipython-input-53-804a3c6b9940>, line 1)",
     "output_type": "error",
     "traceback": [
      "\u001b[1;36m  File \u001b[1;32m\"<ipython-input-53-804a3c6b9940>\"\u001b[1;36m, line \u001b[1;32m1\u001b[0m\n\u001b[1;33m    Multiple Indexed Series,created using dictionary of tuple as key,created using a list of tuples\u001b[0m\n\u001b[1;37m             ^\u001b[0m\n\u001b[1;31mSyntaxError\u001b[0m\u001b[1;31m:\u001b[0m invalid syntax\n"
     ]
    }
   ],
   "source": [
    "working on how to create multiIndex using Constructors,creating multiIndex using from_tuples constructor\n",
    ",using from_arrays constructor\n",
    ",using from_product constructor, using internal encoding by levels and labels(codes)\n",
    "\n",
    "MultiIndex for Columns, using loc method and iloc method to get the values of columns"
   ]
  },
  {
   "cell_type": "markdown",
   "id": "a545c66d",
   "metadata": {},
   "source": [
    "# DAY 11"
   ]
  },
  {
   "cell_type": "code",
   "execution_count": 57,
   "id": "9d1edcce",
   "metadata": {},
   "outputs": [
    {
     "data": {
      "text/html": [
       "<div>\n",
       "<style scoped>\n",
       "    .dataframe tbody tr th:only-of-type {\n",
       "        vertical-align: middle;\n",
       "    }\n",
       "\n",
       "    .dataframe tbody tr th {\n",
       "        vertical-align: top;\n",
       "    }\n",
       "\n",
       "    .dataframe thead th {\n",
       "        text-align: right;\n",
       "    }\n",
       "</style>\n",
       "<table border=\"1\" class=\"dataframe\">\n",
       "  <thead>\n",
       "    <tr style=\"text-align: right;\">\n",
       "      <th></th>\n",
       "      <th></th>\n",
       "      <th>Total</th>\n",
       "      <th>Under18</th>\n",
       "    </tr>\n",
       "  </thead>\n",
       "  <tbody>\n",
       "    <tr>\n",
       "      <th rowspan=\"2\" valign=\"top\">California</th>\n",
       "      <th>2000</th>\n",
       "      <td>33871648</td>\n",
       "      <td>9267089</td>\n",
       "    </tr>\n",
       "    <tr>\n",
       "      <th>2010</th>\n",
       "      <td>37253956</td>\n",
       "      <td>9284094</td>\n",
       "    </tr>\n",
       "    <tr>\n",
       "      <th rowspan=\"2\" valign=\"top\">New York</th>\n",
       "      <th>2000</th>\n",
       "      <td>18976457</td>\n",
       "      <td>4687374</td>\n",
       "    </tr>\n",
       "    <tr>\n",
       "      <th>2010</th>\n",
       "      <td>19378102</td>\n",
       "      <td>4318033</td>\n",
       "    </tr>\n",
       "    <tr>\n",
       "      <th rowspan=\"2\" valign=\"top\">Texas</th>\n",
       "      <th>2000</th>\n",
       "      <td>20851820</td>\n",
       "      <td>5906301</td>\n",
       "    </tr>\n",
       "    <tr>\n",
       "      <th>2010</th>\n",
       "      <td>25145561</td>\n",
       "      <td>6879014</td>\n",
       "    </tr>\n",
       "  </tbody>\n",
       "</table>\n",
       "</div>"
      ],
      "text/plain": [
       "                    Total  Under18\n",
       "California 2000  33871648  9267089\n",
       "           2010  37253956  9284094\n",
       "New York   2000  18976457  4687374\n",
       "           2010  19378102  4318033\n",
       "Texas      2000  20851820  5906301\n",
       "           2010  25145561  6879014"
      ]
     },
     "execution_count": 57,
     "metadata": {},
     "output_type": "execute_result"
    }
   ],
   "source": [
    "datafr= pd.DataFrame({'Total': pop, 'Under18': [9267089, 9284094, 4687374, 4318033, 5906301, 6879014]})        \n",
    "datafr"
   ]
  },
  {
   "cell_type": "code",
   "execution_count": 58,
   "id": "5d3ded23",
   "metadata": {},
   "outputs": [
    {
     "data": {
      "text/plain": [
       "MultiIndex([('California', 2000),\n",
       "            ('California', 2010),\n",
       "            (  'New York', 2000),\n",
       "            (  'New York', 2010),\n",
       "            (     'Texas', 2000),\n",
       "            (     'Texas', 2010)],\n",
       "           )"
      ]
     },
     "execution_count": 58,
     "metadata": {},
     "output_type": "execute_result"
    }
   ],
   "source": [
    "index = pd.MultiIndex.from_tuples(index)       \n",
    "index"
   ]
  },
  {
   "cell_type": "code",
   "execution_count": 60,
   "id": "62ddf6f2",
   "metadata": {},
   "outputs": [
    {
     "data": {
      "text/html": [
       "<div>\n",
       "<style scoped>\n",
       "    .dataframe tbody tr th:only-of-type {\n",
       "        vertical-align: middle;\n",
       "    }\n",
       "\n",
       "    .dataframe tbody tr th {\n",
       "        vertical-align: top;\n",
       "    }\n",
       "\n",
       "    .dataframe thead th {\n",
       "        text-align: right;\n",
       "    }\n",
       "</style>\n",
       "<table border=\"1\" class=\"dataframe\">\n",
       "  <thead>\n",
       "    <tr style=\"text-align: right;\">\n",
       "      <th></th>\n",
       "      <th></th>\n",
       "      <th>Total</th>\n",
       "      <th>Under18</th>\n",
       "    </tr>\n",
       "  </thead>\n",
       "  <tbody>\n",
       "    <tr>\n",
       "      <th rowspan=\"2\" valign=\"top\">California</th>\n",
       "      <th>2000</th>\n",
       "      <td>33871648</td>\n",
       "      <td>9267089</td>\n",
       "    </tr>\n",
       "    <tr>\n",
       "      <th>2010</th>\n",
       "      <td>37253956</td>\n",
       "      <td>9284094</td>\n",
       "    </tr>\n",
       "    <tr>\n",
       "      <th rowspan=\"2\" valign=\"top\">New York</th>\n",
       "      <th>2000</th>\n",
       "      <td>18976457</td>\n",
       "      <td>4687374</td>\n",
       "    </tr>\n",
       "    <tr>\n",
       "      <th>2010</th>\n",
       "      <td>19378102</td>\n",
       "      <td>4318033</td>\n",
       "    </tr>\n",
       "    <tr>\n",
       "      <th rowspan=\"2\" valign=\"top\">Texas</th>\n",
       "      <th>2000</th>\n",
       "      <td>20851820</td>\n",
       "      <td>5906301</td>\n",
       "    </tr>\n",
       "    <tr>\n",
       "      <th>2010</th>\n",
       "      <td>25145561</td>\n",
       "      <td>6879014</td>\n",
       "    </tr>\n",
       "  </tbody>\n",
       "</table>\n",
       "</div>"
      ],
      "text/plain": [
       "                    Total  Under18\n",
       "California 2000  33871648  9267089\n",
       "           2010  37253956  9284094\n",
       "New York   2000  18976457  4687374\n",
       "           2010  19378102  4318033\n",
       "Texas      2000  20851820  5906301\n",
       "           2010  25145561  6879014"
      ]
     },
     "execution_count": 60,
     "metadata": {},
     "output_type": "execute_result"
    }
   ],
   "source": [
    "pop = datafr.reindex(index)       \n",
    "pop"
   ]
  },
  {
   "cell_type": "code",
   "execution_count": 62,
   "id": "0e6122c1",
   "metadata": {},
   "outputs": [
    {
     "data": {
      "text/plain": [
       "California  2000    0.273594\n",
       "            2010    0.249211\n",
       "New York    2000    0.247010\n",
       "            2010    0.222831\n",
       "Texas       2000    0.283251\n",
       "            2010    0.273568\n",
       "dtype: float64"
      ]
     },
     "execution_count": 62,
     "metadata": {},
     "output_type": "execute_result"
    }
   ],
   "source": [
    "under18 = pop['Under18']/pop['Total']\n",
    "under18"
   ]
  },
  {
   "cell_type": "code",
   "execution_count": 63,
   "id": "1a729a66",
   "metadata": {},
   "outputs": [
    {
     "data": {
      "text/html": [
       "<div>\n",
       "<style scoped>\n",
       "    .dataframe tbody tr th:only-of-type {\n",
       "        vertical-align: middle;\n",
       "    }\n",
       "\n",
       "    .dataframe tbody tr th {\n",
       "        vertical-align: top;\n",
       "    }\n",
       "\n",
       "    .dataframe thead th {\n",
       "        text-align: right;\n",
       "    }\n",
       "</style>\n",
       "<table border=\"1\" class=\"dataframe\">\n",
       "  <thead>\n",
       "    <tr style=\"text-align: right;\">\n",
       "      <th></th>\n",
       "      <th>2000</th>\n",
       "      <th>2010</th>\n",
       "    </tr>\n",
       "  </thead>\n",
       "  <tbody>\n",
       "    <tr>\n",
       "      <th>California</th>\n",
       "      <td>0.273594</td>\n",
       "      <td>0.249211</td>\n",
       "    </tr>\n",
       "    <tr>\n",
       "      <th>New York</th>\n",
       "      <td>0.247010</td>\n",
       "      <td>0.222831</td>\n",
       "    </tr>\n",
       "    <tr>\n",
       "      <th>Texas</th>\n",
       "      <td>0.283251</td>\n",
       "      <td>0.273568</td>\n",
       "    </tr>\n",
       "  </tbody>\n",
       "</table>\n",
       "</div>"
      ],
      "text/plain": [
       "                2000      2010\n",
       "California  0.273594  0.249211\n",
       "New York    0.247010  0.222831\n",
       "Texas       0.283251  0.273568"
      ]
     },
     "execution_count": 63,
     "metadata": {},
     "output_type": "execute_result"
    }
   ],
   "source": [
    "under18.unstack()"
   ]
  },
  {
   "cell_type": "code",
   "execution_count": 64,
   "id": "5bf11ae8",
   "metadata": {},
   "outputs": [
    {
     "data": {
      "text/html": [
       "<div>\n",
       "<style scoped>\n",
       "    .dataframe tbody tr th:only-of-type {\n",
       "        vertical-align: middle;\n",
       "    }\n",
       "\n",
       "    .dataframe tbody tr th {\n",
       "        vertical-align: top;\n",
       "    }\n",
       "\n",
       "    .dataframe thead tr th {\n",
       "        text-align: left;\n",
       "    }\n",
       "</style>\n",
       "<table border=\"1\" class=\"dataframe\">\n",
       "  <thead>\n",
       "    <tr>\n",
       "      <th></th>\n",
       "      <th colspan=\"2\" halign=\"left\">Total</th>\n",
       "      <th colspan=\"2\" halign=\"left\">Under18</th>\n",
       "    </tr>\n",
       "    <tr>\n",
       "      <th></th>\n",
       "      <th>2000</th>\n",
       "      <th>2010</th>\n",
       "      <th>2000</th>\n",
       "      <th>2010</th>\n",
       "    </tr>\n",
       "  </thead>\n",
       "  <tbody>\n",
       "    <tr>\n",
       "      <th>California</th>\n",
       "      <td>33871648</td>\n",
       "      <td>37253956</td>\n",
       "      <td>9267089</td>\n",
       "      <td>9284094</td>\n",
       "    </tr>\n",
       "    <tr>\n",
       "      <th>New York</th>\n",
       "      <td>18976457</td>\n",
       "      <td>19378102</td>\n",
       "      <td>4687374</td>\n",
       "      <td>4318033</td>\n",
       "    </tr>\n",
       "    <tr>\n",
       "      <th>Texas</th>\n",
       "      <td>20851820</td>\n",
       "      <td>25145561</td>\n",
       "      <td>5906301</td>\n",
       "      <td>6879014</td>\n",
       "    </tr>\n",
       "  </tbody>\n",
       "</table>\n",
       "</div>"
      ],
      "text/plain": [
       "               Total            Under18         \n",
       "                2000      2010     2000     2010\n",
       "California  33871648  37253956  9267089  9284094\n",
       "New York    18976457  19378102  4687374  4318033\n",
       "Texas       20851820  25145561  5906301  6879014"
      ]
     },
     "execution_count": 64,
     "metadata": {},
     "output_type": "execute_result"
    }
   ],
   "source": [
    "pop = pop.unstack()       \n",
    "pop"
   ]
  },
  {
   "cell_type": "code",
   "execution_count": 65,
   "id": "74eb1b5a",
   "metadata": {},
   "outputs": [
    {
     "data": {
      "text/html": [
       "<div>\n",
       "<style scoped>\n",
       "    .dataframe tbody tr th:only-of-type {\n",
       "        vertical-align: middle;\n",
       "    }\n",
       "\n",
       "    .dataframe tbody tr th {\n",
       "        vertical-align: top;\n",
       "    }\n",
       "\n",
       "    .dataframe thead th {\n",
       "        text-align: right;\n",
       "    }\n",
       "</style>\n",
       "<table border=\"1\" class=\"dataframe\">\n",
       "  <thead>\n",
       "    <tr style=\"text-align: right;\">\n",
       "      <th></th>\n",
       "      <th></th>\n",
       "      <th>data1</th>\n",
       "      <th>data2</th>\n",
       "    </tr>\n",
       "  </thead>\n",
       "  <tbody>\n",
       "    <tr>\n",
       "      <th rowspan=\"3\" valign=\"top\">Oyo</th>\n",
       "      <th>2000</th>\n",
       "      <td>0.445833</td>\n",
       "      <td>0.099975</td>\n",
       "    </tr>\n",
       "    <tr>\n",
       "      <th>2001</th>\n",
       "      <td>0.459249</td>\n",
       "      <td>0.333709</td>\n",
       "    </tr>\n",
       "    <tr>\n",
       "      <th>2002</th>\n",
       "      <td>0.142867</td>\n",
       "      <td>0.650888</td>\n",
       "    </tr>\n",
       "    <tr>\n",
       "      <th rowspan=\"3\" valign=\"top\">Rivers</th>\n",
       "      <th>2000</th>\n",
       "      <td>0.056412</td>\n",
       "      <td>0.721999</td>\n",
       "    </tr>\n",
       "    <tr>\n",
       "      <th>2001</th>\n",
       "      <td>0.938553</td>\n",
       "      <td>0.000779</td>\n",
       "    </tr>\n",
       "    <tr>\n",
       "      <th>2002</th>\n",
       "      <td>0.992212</td>\n",
       "      <td>0.617482</td>\n",
       "    </tr>\n",
       "    <tr>\n",
       "      <th rowspan=\"3\" valign=\"top\">Lagos</th>\n",
       "      <th>2000</th>\n",
       "      <td>0.611653</td>\n",
       "      <td>0.007066</td>\n",
       "    </tr>\n",
       "    <tr>\n",
       "      <th>2001</th>\n",
       "      <td>0.023062</td>\n",
       "      <td>0.524775</td>\n",
       "    </tr>\n",
       "    <tr>\n",
       "      <th>2002</th>\n",
       "      <td>0.399861</td>\n",
       "      <td>0.046666</td>\n",
       "    </tr>\n",
       "  </tbody>\n",
       "</table>\n",
       "</div>"
      ],
      "text/plain": [
       "                data1     data2\n",
       "Oyo    2000  0.445833  0.099975\n",
       "       2001  0.459249  0.333709\n",
       "       2002  0.142867  0.650888\n",
       "Rivers 2000  0.056412  0.721999\n",
       "       2001  0.938553  0.000779\n",
       "       2002  0.992212  0.617482\n",
       "Lagos  2000  0.611653  0.007066\n",
       "       2001  0.023062  0.524775\n",
       "       2002  0.399861  0.046666"
      ]
     },
     "execution_count": 65,
     "metadata": {},
     "output_type": "execute_result"
    }
   ],
   "source": [
    "df = pd.DataFrame(np.random.rand(9, 2), \n",
    "                  index=[['Oyo', 'Oyo', 'Oyo', 'Rivers','Rivers','Rivers','Lagos','Lagos','Lagos'],\n",
    "                         [2000,2001,2002,2000,2001,2002,2000,2001,2002]], columns=['data1', 'data2'])        \n",
    "df"
   ]
  },
  {
   "cell_type": "markdown",
   "id": "67dc1a72",
   "metadata": {},
   "source": [
    "# DAY 12"
   ]
  },
  {
   "cell_type": "code",
   "execution_count": 4,
   "id": "112b021c",
   "metadata": {},
   "outputs": [
    {
     "data": {
      "text/html": [
       "<div>\n",
       "<style scoped>\n",
       "    .dataframe tbody tr th:only-of-type {\n",
       "        vertical-align: middle;\n",
       "    }\n",
       "\n",
       "    .dataframe tbody tr th {\n",
       "        vertical-align: top;\n",
       "    }\n",
       "\n",
       "    .dataframe thead th {\n",
       "        text-align: right;\n",
       "    }\n",
       "</style>\n",
       "<table border=\"1\" class=\"dataframe\">\n",
       "  <thead>\n",
       "    <tr style=\"text-align: right;\">\n",
       "      <th></th>\n",
       "      <th></th>\n",
       "      <th>0</th>\n",
       "      <th>1</th>\n",
       "    </tr>\n",
       "  </thead>\n",
       "  <tbody>\n",
       "    <tr>\n",
       "      <th rowspan=\"3\" valign=\"top\">name</th>\n",
       "      <th>1</th>\n",
       "      <td>0.650200</td>\n",
       "      <td>0.216666</td>\n",
       "    </tr>\n",
       "    <tr>\n",
       "      <th>2</th>\n",
       "      <td>0.106699</td>\n",
       "      <td>0.429752</td>\n",
       "    </tr>\n",
       "    <tr>\n",
       "      <th>3</th>\n",
       "      <td>0.981350</td>\n",
       "      <td>0.626248</td>\n",
       "    </tr>\n",
       "    <tr>\n",
       "      <th rowspan=\"3\" valign=\"top\">age</th>\n",
       "      <th>1</th>\n",
       "      <td>0.810968</td>\n",
       "      <td>0.654924</td>\n",
       "    </tr>\n",
       "    <tr>\n",
       "      <th>2</th>\n",
       "      <td>0.519707</td>\n",
       "      <td>0.172025</td>\n",
       "    </tr>\n",
       "    <tr>\n",
       "      <th>3</th>\n",
       "      <td>0.311696</td>\n",
       "      <td>0.706092</td>\n",
       "    </tr>\n",
       "  </tbody>\n",
       "</table>\n",
       "</div>"
      ],
      "text/plain": [
       "               0         1\n",
       "name 1  0.650200  0.216666\n",
       "     2  0.106699  0.429752\n",
       "     3  0.981350  0.626248\n",
       "age  1  0.810968  0.654924\n",
       "     2  0.519707  0.172025\n",
       "     3  0.311696  0.706092"
      ]
     },
     "execution_count": 4,
     "metadata": {},
     "output_type": "execute_result"
    }
   ],
   "source": [
    "mft = pd.DataFrame(np.random.rand(6, 2), pd.MultiIndex.from_tuples([('name', 1), ('name', 2),('name', 3), ('age', 1),\n",
    "                                                                    ('age', 2),('age', 3)]))\n",
    "mft"
   ]
  },
  {
   "cell_type": "code",
   "execution_count": 6,
   "id": "64f9b61b",
   "metadata": {},
   "outputs": [
    {
     "data": {
      "text/html": [
       "<div>\n",
       "<style scoped>\n",
       "    .dataframe tbody tr th:only-of-type {\n",
       "        vertical-align: middle;\n",
       "    }\n",
       "\n",
       "    .dataframe tbody tr th {\n",
       "        vertical-align: top;\n",
       "    }\n",
       "\n",
       "    .dataframe thead th {\n",
       "        text-align: right;\n",
       "    }\n",
       "</style>\n",
       "<table border=\"1\" class=\"dataframe\">\n",
       "  <thead>\n",
       "    <tr style=\"text-align: right;\">\n",
       "      <th></th>\n",
       "      <th></th>\n",
       "      <th>first semester</th>\n",
       "      <th>second semester</th>\n",
       "      <th>third semester</th>\n",
       "    </tr>\n",
       "  </thead>\n",
       "  <tbody>\n",
       "    <tr>\n",
       "      <th rowspan=\"3\" valign=\"top\">jss1</th>\n",
       "      <th>2000</th>\n",
       "      <td>0.745884</td>\n",
       "      <td>0.005382</td>\n",
       "      <td>0.553594</td>\n",
       "    </tr>\n",
       "    <tr>\n",
       "      <th>2001</th>\n",
       "      <td>0.105283</td>\n",
       "      <td>0.479772</td>\n",
       "      <td>0.139748</td>\n",
       "    </tr>\n",
       "    <tr>\n",
       "      <th>2002</th>\n",
       "      <td>0.176366</td>\n",
       "      <td>0.282719</td>\n",
       "      <td>0.584657</td>\n",
       "    </tr>\n",
       "    <tr>\n",
       "      <th rowspan=\"3\" valign=\"top\">jss2</th>\n",
       "      <th>2000</th>\n",
       "      <td>0.059286</td>\n",
       "      <td>0.833043</td>\n",
       "      <td>0.846741</td>\n",
       "    </tr>\n",
       "    <tr>\n",
       "      <th>2001</th>\n",
       "      <td>0.179053</td>\n",
       "      <td>0.954992</td>\n",
       "      <td>0.883937</td>\n",
       "    </tr>\n",
       "    <tr>\n",
       "      <th>2002</th>\n",
       "      <td>0.114487</td>\n",
       "      <td>0.129379</td>\n",
       "      <td>0.953821</td>\n",
       "    </tr>\n",
       "    <tr>\n",
       "      <th rowspan=\"3\" valign=\"top\">jss3</th>\n",
       "      <th>2000</th>\n",
       "      <td>0.207961</td>\n",
       "      <td>0.323199</td>\n",
       "      <td>0.216896</td>\n",
       "    </tr>\n",
       "    <tr>\n",
       "      <th>2001</th>\n",
       "      <td>0.408861</td>\n",
       "      <td>0.378815</td>\n",
       "      <td>0.604403</td>\n",
       "    </tr>\n",
       "    <tr>\n",
       "      <th>2002</th>\n",
       "      <td>0.043481</td>\n",
       "      <td>0.770122</td>\n",
       "      <td>0.923474</td>\n",
       "    </tr>\n",
       "  </tbody>\n",
       "</table>\n",
       "</div>"
      ],
      "text/plain": [
       "           first semester  second semester  third semester\n",
       "jss1 2000        0.745884         0.005382        0.553594\n",
       "     2001        0.105283         0.479772        0.139748\n",
       "     2002        0.176366         0.282719        0.584657\n",
       "jss2 2000        0.059286         0.833043        0.846741\n",
       "     2001        0.179053         0.954992        0.883937\n",
       "     2002        0.114487         0.129379        0.953821\n",
       "jss3 2000        0.207961         0.323199        0.216896\n",
       "     2001        0.408861         0.378815        0.604403\n",
       "     2002        0.043481         0.770122        0.923474"
      ]
     },
     "execution_count": 6,
     "metadata": {},
     "output_type": "execute_result"
    }
   ],
   "source": [
    "dmft = pd.DataFrame(np.random.rand(9, 3), pd.MultiIndex.from_tuples([('jss1',2000),('jss1',2001),\n",
    "                    ('jss1',2002),('jss2',2000),('jss2',2001),('jss2',2002),('jss3',2000),\n",
    "                    ('jss3',2001),('jss3',2002)]), columns=['first semester', 'second semester','third semester'])        \n",
    "dmft"
   ]
  },
  {
   "cell_type": "code",
   "execution_count": 7,
   "id": "77d28d0d",
   "metadata": {},
   "outputs": [
    {
     "data": {
      "text/html": [
       "<div>\n",
       "<style scoped>\n",
       "    .dataframe tbody tr th:only-of-type {\n",
       "        vertical-align: middle;\n",
       "    }\n",
       "\n",
       "    .dataframe tbody tr th {\n",
       "        vertical-align: top;\n",
       "    }\n",
       "\n",
       "    .dataframe thead th {\n",
       "        text-align: right;\n",
       "    }\n",
       "</style>\n",
       "<table border=\"1\" class=\"dataframe\">\n",
       "  <thead>\n",
       "    <tr style=\"text-align: right;\">\n",
       "      <th></th>\n",
       "      <th></th>\n",
       "      <th>0</th>\n",
       "      <th>1</th>\n",
       "    </tr>\n",
       "  </thead>\n",
       "  <tbody>\n",
       "    <tr>\n",
       "      <th rowspan=\"3\" valign=\"top\">Oyo</th>\n",
       "      <th>2000</th>\n",
       "      <td>0.668568</td>\n",
       "      <td>0.359242</td>\n",
       "    </tr>\n",
       "    <tr>\n",
       "      <th>2001</th>\n",
       "      <td>0.065525</td>\n",
       "      <td>0.084964</td>\n",
       "    </tr>\n",
       "    <tr>\n",
       "      <th>2002</th>\n",
       "      <td>0.758892</td>\n",
       "      <td>0.089470</td>\n",
       "    </tr>\n",
       "    <tr>\n",
       "      <th rowspan=\"3\" valign=\"top\">Rivers</th>\n",
       "      <th>2000</th>\n",
       "      <td>0.931418</td>\n",
       "      <td>0.301374</td>\n",
       "    </tr>\n",
       "    <tr>\n",
       "      <th>2001</th>\n",
       "      <td>0.849768</td>\n",
       "      <td>0.571133</td>\n",
       "    </tr>\n",
       "    <tr>\n",
       "      <th>2002</th>\n",
       "      <td>0.081710</td>\n",
       "      <td>0.136528</td>\n",
       "    </tr>\n",
       "    <tr>\n",
       "      <th rowspan=\"3\" valign=\"top\">Lagos</th>\n",
       "      <th>2000</th>\n",
       "      <td>0.914910</td>\n",
       "      <td>0.794497</td>\n",
       "    </tr>\n",
       "    <tr>\n",
       "      <th>2001</th>\n",
       "      <td>0.446638</td>\n",
       "      <td>0.071635</td>\n",
       "    </tr>\n",
       "    <tr>\n",
       "      <th>2002</th>\n",
       "      <td>0.678119</td>\n",
       "      <td>0.045540</td>\n",
       "    </tr>\n",
       "  </tbody>\n",
       "</table>\n",
       "</div>"
      ],
      "text/plain": [
       "                    0         1\n",
       "Oyo    2000  0.668568  0.359242\n",
       "       2001  0.065525  0.084964\n",
       "       2002  0.758892  0.089470\n",
       "Rivers 2000  0.931418  0.301374\n",
       "       2001  0.849768  0.571133\n",
       "       2002  0.081710  0.136528\n",
       "Lagos  2000  0.914910  0.794497\n",
       "       2001  0.446638  0.071635\n",
       "       2002  0.678119  0.045540"
      ]
     },
     "execution_count": 7,
     "metadata": {},
     "output_type": "execute_result"
    }
   ],
   "source": [
    "cm = pd.DataFrame(np.random.rand(9, 2), pd.MultiIndex.from_arrays([['Oyo', 'Oyo', 'Oyo', 'Rivers',\n",
    "                    'Rivers','Rivers','Lagos','Lagos','Lagos'], [2000,2001,2002,2000,2001,2002,2000,\n",
    "                    2001,2002]]))        \n",
    "cm"
   ]
  },
  {
   "cell_type": "code",
   "execution_count": 8,
   "id": "d782ca0c",
   "metadata": {},
   "outputs": [
    {
     "data": {
      "text/html": [
       "<div>\n",
       "<style scoped>\n",
       "    .dataframe tbody tr th:only-of-type {\n",
       "        vertical-align: middle;\n",
       "    }\n",
       "\n",
       "    .dataframe tbody tr th {\n",
       "        vertical-align: top;\n",
       "    }\n",
       "\n",
       "    .dataframe thead th {\n",
       "        text-align: right;\n",
       "    }\n",
       "</style>\n",
       "<table border=\"1\" class=\"dataframe\">\n",
       "  <thead>\n",
       "    <tr style=\"text-align: right;\">\n",
       "      <th></th>\n",
       "      <th></th>\n",
       "      <th>0</th>\n",
       "      <th>1</th>\n",
       "      <th>2</th>\n",
       "    </tr>\n",
       "  </thead>\n",
       "  <tbody>\n",
       "    <tr>\n",
       "      <th rowspan=\"3\" valign=\"top\">Oyo</th>\n",
       "      <th>2000</th>\n",
       "      <td>0.470648</td>\n",
       "      <td>0.696840</td>\n",
       "      <td>0.039349</td>\n",
       "    </tr>\n",
       "    <tr>\n",
       "      <th>2002</th>\n",
       "      <td>0.446349</td>\n",
       "      <td>0.734416</td>\n",
       "      <td>0.264867</td>\n",
       "    </tr>\n",
       "    <tr>\n",
       "      <th>2002</th>\n",
       "      <td>0.374462</td>\n",
       "      <td>0.932820</td>\n",
       "      <td>0.144240</td>\n",
       "    </tr>\n",
       "    <tr>\n",
       "      <th rowspan=\"3\" valign=\"top\">Rivers</th>\n",
       "      <th>2000</th>\n",
       "      <td>0.901545</td>\n",
       "      <td>0.745025</td>\n",
       "      <td>0.028580</td>\n",
       "    </tr>\n",
       "    <tr>\n",
       "      <th>2002</th>\n",
       "      <td>0.397772</td>\n",
       "      <td>0.092506</td>\n",
       "      <td>0.851984</td>\n",
       "    </tr>\n",
       "    <tr>\n",
       "      <th>2002</th>\n",
       "      <td>0.237686</td>\n",
       "      <td>0.993754</td>\n",
       "      <td>0.505634</td>\n",
       "    </tr>\n",
       "    <tr>\n",
       "      <th rowspan=\"3\" valign=\"top\">Lagos</th>\n",
       "      <th>2000</th>\n",
       "      <td>0.268861</td>\n",
       "      <td>0.560780</td>\n",
       "      <td>0.561121</td>\n",
       "    </tr>\n",
       "    <tr>\n",
       "      <th>2002</th>\n",
       "      <td>0.073354</td>\n",
       "      <td>0.191401</td>\n",
       "      <td>0.177911</td>\n",
       "    </tr>\n",
       "    <tr>\n",
       "      <th>2002</th>\n",
       "      <td>0.203847</td>\n",
       "      <td>0.645059</td>\n",
       "      <td>0.872457</td>\n",
       "    </tr>\n",
       "  </tbody>\n",
       "</table>\n",
       "</div>"
      ],
      "text/plain": [
       "                    0         1         2\n",
       "Oyo    2000  0.470648  0.696840  0.039349\n",
       "       2002  0.446349  0.734416  0.264867\n",
       "       2002  0.374462  0.932820  0.144240\n",
       "Rivers 2000  0.901545  0.745025  0.028580\n",
       "       2002  0.397772  0.092506  0.851984\n",
       "       2002  0.237686  0.993754  0.505634\n",
       "Lagos  2000  0.268861  0.560780  0.561121\n",
       "       2002  0.073354  0.191401  0.177911\n",
       "       2002  0.203847  0.645059  0.872457"
      ]
     },
     "execution_count": 8,
     "metadata": {},
     "output_type": "execute_result"
    }
   ],
   "source": [
    "cm = pd.DataFrame(np.random.rand(9, 3),pd.MultiIndex.from_product([['Oyo', 'Rivers', 'Lagos'], [2000, \n",
    "                                                                    2002,2002]]))\n",
    "cm"
   ]
  },
  {
   "cell_type": "code",
   "execution_count": 10,
   "id": "58419559",
   "metadata": {},
   "outputs": [
    {
     "data": {
      "text/html": [
       "<div>\n",
       "<style scoped>\n",
       "    .dataframe tbody tr th:only-of-type {\n",
       "        vertical-align: middle;\n",
       "    }\n",
       "\n",
       "    .dataframe tbody tr th {\n",
       "        vertical-align: top;\n",
       "    }\n",
       "\n",
       "    .dataframe thead th {\n",
       "        text-align: right;\n",
       "    }\n",
       "</style>\n",
       "<table border=\"1\" class=\"dataframe\">\n",
       "  <thead>\n",
       "    <tr style=\"text-align: right;\">\n",
       "      <th></th>\n",
       "      <th></th>\n",
       "      <th>population</th>\n",
       "    </tr>\n",
       "  </thead>\n",
       "  <tbody>\n",
       "    <tr>\n",
       "      <th rowspan=\"2\" valign=\"top\">California</th>\n",
       "      <th>2000</th>\n",
       "      <td>33871648</td>\n",
       "    </tr>\n",
       "    <tr>\n",
       "      <th>2010</th>\n",
       "      <td>37253956</td>\n",
       "    </tr>\n",
       "    <tr>\n",
       "      <th rowspan=\"2\" valign=\"top\">New York</th>\n",
       "      <th>2000</th>\n",
       "      <td>18976457</td>\n",
       "    </tr>\n",
       "    <tr>\n",
       "      <th>2010</th>\n",
       "      <td>19378102</td>\n",
       "    </tr>\n",
       "    <tr>\n",
       "      <th rowspan=\"2\" valign=\"top\">Texas</th>\n",
       "      <th>2000</th>\n",
       "      <td>20851820</td>\n",
       "    </tr>\n",
       "    <tr>\n",
       "      <th>2010</th>\n",
       "      <td>25145561</td>\n",
       "    </tr>\n",
       "  </tbody>\n",
       "</table>\n",
       "</div>"
      ],
      "text/plain": [
       "                 population\n",
       "California 2000    33871648\n",
       "           2010    37253956\n",
       "New York   2000    18976457\n",
       "           2010    19378102\n",
       "Texas      2000    20851820\n",
       "           2010    25145561"
      ]
     },
     "execution_count": 10,
     "metadata": {},
     "output_type": "execute_result"
    }
   ],
   "source": [
    "populations = [33871648, 37253956, 18976457, 19378102, 20851820, 25145561]  \n",
    "mydata = pd.DataFrame(populations, pd.MultiIndex.from_product([['California', 'New York', 'Texas'],\n",
    "                                                           [2000,2010]]), columns=['population'])\n",
    "mydata"
   ]
  },
  {
   "cell_type": "markdown",
   "id": "4228d4bc",
   "metadata": {},
   "source": [
    "# DAY 13"
   ]
  },
  {
   "cell_type": "code",
   "execution_count": 3,
   "id": "433aaf2d",
   "metadata": {},
   "outputs": [],
   "source": [
    "index = pd.MultiIndex.from_product([[2013, 2014], [1, 2]],  names=['year', 'visit']) \n",
    "\n",
    "columns = pd.MultiIndex.from_product([['Bob', 'Guido', 'Sue'], ['HR', 'Temp']], \n",
    "                                     names=['patient', 'type'])"
   ]
  },
  {
   "cell_type": "code",
   "execution_count": 4,
   "id": "d6f488ed",
   "metadata": {},
   "outputs": [
    {
     "data": {
      "text/plain": [
       "array([[39. , 35.8, 46. , 35.7, 28. , 36.2],\n",
       "       [28. , 36.3, 37. , 37.3, 30. , 38.2],\n",
       "       [36. , 37.4, 46. , 37.9, 25. , 37.1],\n",
       "       [24. , 37.7, 32. , 37.3, 50. , 37.9]])"
      ]
     },
     "execution_count": 4,
     "metadata": {},
     "output_type": "execute_result"
    }
   ],
   "source": [
    "data = np.round(np.random.randn(4, 6), 1)\n",
    "data[:, ::2] *= 10\n",
    "data += 37\n",
    "data"
   ]
  },
  {
   "cell_type": "code",
   "execution_count": 6,
   "id": "fa6bc4c0",
   "metadata": {},
   "outputs": [
    {
     "data": {
      "text/html": [
       "<div>\n",
       "<style scoped>\n",
       "    .dataframe tbody tr th:only-of-type {\n",
       "        vertical-align: middle;\n",
       "    }\n",
       "\n",
       "    .dataframe tbody tr th {\n",
       "        vertical-align: top;\n",
       "    }\n",
       "\n",
       "    .dataframe thead tr th {\n",
       "        text-align: left;\n",
       "    }\n",
       "\n",
       "    .dataframe thead tr:last-of-type th {\n",
       "        text-align: right;\n",
       "    }\n",
       "</style>\n",
       "<table border=\"1\" class=\"dataframe\">\n",
       "  <thead>\n",
       "    <tr>\n",
       "      <th></th>\n",
       "      <th>patient</th>\n",
       "      <th colspan=\"2\" halign=\"left\">Bob</th>\n",
       "      <th colspan=\"2\" halign=\"left\">Guido</th>\n",
       "      <th colspan=\"2\" halign=\"left\">Sue</th>\n",
       "    </tr>\n",
       "    <tr>\n",
       "      <th></th>\n",
       "      <th>type</th>\n",
       "      <th>HR</th>\n",
       "      <th>Temp</th>\n",
       "      <th>HR</th>\n",
       "      <th>Temp</th>\n",
       "      <th>HR</th>\n",
       "      <th>Temp</th>\n",
       "    </tr>\n",
       "    <tr>\n",
       "      <th>year</th>\n",
       "      <th>visit</th>\n",
       "      <th></th>\n",
       "      <th></th>\n",
       "      <th></th>\n",
       "      <th></th>\n",
       "      <th></th>\n",
       "      <th></th>\n",
       "    </tr>\n",
       "  </thead>\n",
       "  <tbody>\n",
       "    <tr>\n",
       "      <th rowspan=\"2\" valign=\"top\">2013</th>\n",
       "      <th>1</th>\n",
       "      <td>39.0</td>\n",
       "      <td>35.8</td>\n",
       "      <td>46.0</td>\n",
       "      <td>35.7</td>\n",
       "      <td>28.0</td>\n",
       "      <td>36.2</td>\n",
       "    </tr>\n",
       "    <tr>\n",
       "      <th>2</th>\n",
       "      <td>28.0</td>\n",
       "      <td>36.3</td>\n",
       "      <td>37.0</td>\n",
       "      <td>37.3</td>\n",
       "      <td>30.0</td>\n",
       "      <td>38.2</td>\n",
       "    </tr>\n",
       "    <tr>\n",
       "      <th rowspan=\"2\" valign=\"top\">2014</th>\n",
       "      <th>1</th>\n",
       "      <td>36.0</td>\n",
       "      <td>37.4</td>\n",
       "      <td>46.0</td>\n",
       "      <td>37.9</td>\n",
       "      <td>25.0</td>\n",
       "      <td>37.1</td>\n",
       "    </tr>\n",
       "    <tr>\n",
       "      <th>2</th>\n",
       "      <td>24.0</td>\n",
       "      <td>37.7</td>\n",
       "      <td>32.0</td>\n",
       "      <td>37.3</td>\n",
       "      <td>50.0</td>\n",
       "      <td>37.9</td>\n",
       "    </tr>\n",
       "  </tbody>\n",
       "</table>\n",
       "</div>"
      ],
      "text/plain": [
       "patient      Bob       Guido         Sue      \n",
       "type          HR  Temp    HR  Temp    HR  Temp\n",
       "year visit                                    \n",
       "2013 1      39.0  35.8  46.0  35.7  28.0  36.2\n",
       "     2      28.0  36.3  37.0  37.3  30.0  38.2\n",
       "2014 1      36.0  37.4  46.0  37.9  25.0  37.1\n",
       "     2      24.0  37.7  32.0  37.3  50.0  37.9"
      ]
     },
     "execution_count": 6,
     "metadata": {},
     "output_type": "execute_result"
    }
   ],
   "source": [
    "alldata = pd.DataFrame(data=data,\n",
    "    index =index,\n",
    "    columns = columns)\n",
    "alldata"
   ]
  },
  {
   "cell_type": "code",
   "execution_count": 7,
   "id": "89cc061f",
   "metadata": {},
   "outputs": [
    {
     "data": {
      "text/html": [
       "<div>\n",
       "<style scoped>\n",
       "    .dataframe tbody tr th:only-of-type {\n",
       "        vertical-align: middle;\n",
       "    }\n",
       "\n",
       "    .dataframe tbody tr th {\n",
       "        vertical-align: top;\n",
       "    }\n",
       "\n",
       "    .dataframe thead th {\n",
       "        text-align: right;\n",
       "    }\n",
       "</style>\n",
       "<table border=\"1\" class=\"dataframe\">\n",
       "  <thead>\n",
       "    <tr style=\"text-align: right;\">\n",
       "      <th></th>\n",
       "      <th>type</th>\n",
       "      <th>HR</th>\n",
       "      <th>Temp</th>\n",
       "    </tr>\n",
       "    <tr>\n",
       "      <th>year</th>\n",
       "      <th>visit</th>\n",
       "      <th></th>\n",
       "      <th></th>\n",
       "    </tr>\n",
       "  </thead>\n",
       "  <tbody>\n",
       "    <tr>\n",
       "      <th rowspan=\"2\" valign=\"top\">2013</th>\n",
       "      <th>1</th>\n",
       "      <td>39.0</td>\n",
       "      <td>35.8</td>\n",
       "    </tr>\n",
       "    <tr>\n",
       "      <th>2</th>\n",
       "      <td>28.0</td>\n",
       "      <td>36.3</td>\n",
       "    </tr>\n",
       "    <tr>\n",
       "      <th rowspan=\"2\" valign=\"top\">2014</th>\n",
       "      <th>1</th>\n",
       "      <td>36.0</td>\n",
       "      <td>37.4</td>\n",
       "    </tr>\n",
       "    <tr>\n",
       "      <th>2</th>\n",
       "      <td>24.0</td>\n",
       "      <td>37.7</td>\n",
       "    </tr>\n",
       "  </tbody>\n",
       "</table>\n",
       "</div>"
      ],
      "text/plain": [
       "type          HR  Temp\n",
       "year visit            \n",
       "2013 1      39.0  35.8\n",
       "     2      28.0  36.3\n",
       "2014 1      36.0  37.4\n",
       "     2      24.0  37.7"
      ]
     },
     "execution_count": 7,
     "metadata": {},
     "output_type": "execute_result"
    }
   ],
   "source": [
    "alldata[\"Bob\"]"
   ]
  },
  {
   "cell_type": "code",
   "execution_count": 8,
   "id": "dff4dcc7",
   "metadata": {},
   "outputs": [
    {
     "data": {
      "text/plain": [
       "year  visit\n",
       "2013  1        35.8\n",
       "      2        36.3\n",
       "2014  1        37.4\n",
       "      2        37.7\n",
       "Name: Temp, dtype: float64"
      ]
     },
     "execution_count": 8,
     "metadata": {},
     "output_type": "execute_result"
    }
   ],
   "source": [
    "alldata[\"Bob\"][\"Temp\"]"
   ]
  },
  {
   "cell_type": "code",
   "execution_count": 11,
   "id": "1cdcb626",
   "metadata": {},
   "outputs": [
    {
     "data": {
      "text/html": [
       "<div>\n",
       "<style scoped>\n",
       "    .dataframe tbody tr th:only-of-type {\n",
       "        vertical-align: middle;\n",
       "    }\n",
       "\n",
       "    .dataframe tbody tr th {\n",
       "        vertical-align: top;\n",
       "    }\n",
       "\n",
       "    .dataframe thead tr th {\n",
       "        text-align: left;\n",
       "    }\n",
       "\n",
       "    .dataframe thead tr:last-of-type th {\n",
       "        text-align: right;\n",
       "    }\n",
       "</style>\n",
       "<table border=\"1\" class=\"dataframe\">\n",
       "  <thead>\n",
       "    <tr>\n",
       "      <th></th>\n",
       "      <th>patient</th>\n",
       "      <th colspan=\"2\" halign=\"left\">Bob</th>\n",
       "      <th colspan=\"2\" halign=\"left\">Guido</th>\n",
       "      <th colspan=\"2\" halign=\"left\">Sue</th>\n",
       "    </tr>\n",
       "    <tr>\n",
       "      <th></th>\n",
       "      <th>type</th>\n",
       "      <th>HR</th>\n",
       "      <th>Temp</th>\n",
       "      <th>HR</th>\n",
       "      <th>Temp</th>\n",
       "      <th>HR</th>\n",
       "      <th>Temp</th>\n",
       "    </tr>\n",
       "    <tr>\n",
       "      <th>year</th>\n",
       "      <th>visit</th>\n",
       "      <th></th>\n",
       "      <th></th>\n",
       "      <th></th>\n",
       "      <th></th>\n",
       "      <th></th>\n",
       "      <th></th>\n",
       "    </tr>\n",
       "  </thead>\n",
       "  <tbody>\n",
       "    <tr>\n",
       "      <th>2013</th>\n",
       "      <th>1</th>\n",
       "      <td>39.0</td>\n",
       "      <td>35.8</td>\n",
       "      <td>46.0</td>\n",
       "      <td>35.7</td>\n",
       "      <td>28.0</td>\n",
       "      <td>36.2</td>\n",
       "    </tr>\n",
       "  </tbody>\n",
       "</table>\n",
       "</div>"
      ],
      "text/plain": [
       "patient      Bob       Guido         Sue      \n",
       "type          HR  Temp    HR  Temp    HR  Temp\n",
       "year visit                                    \n",
       "2013 1      39.0  35.8  46.0  35.7  28.0  36.2"
      ]
     },
     "execution_count": 11,
     "metadata": {},
     "output_type": "execute_result"
    }
   ],
   "source": [
    "alldata[alldata[\"Bob\"][\"Temp\"] == 35.8]"
   ]
  },
  {
   "cell_type": "code",
   "execution_count": 15,
   "id": "2c2e57eb",
   "metadata": {},
   "outputs": [
    {
     "data": {
      "text/plain": [
       "type\n",
       "HR      39.0\n",
       "Temp    35.8\n",
       "Name: (2013, 1), dtype: float64"
      ]
     },
     "execution_count": 15,
     "metadata": {},
     "output_type": "execute_result"
    }
   ],
   "source": [
    "alldata.iloc[0][\"Bob\"]"
   ]
  },
  {
   "cell_type": "code",
   "execution_count": 19,
   "id": "f1c1e19c",
   "metadata": {},
   "outputs": [
    {
     "data": {
      "text/plain": [
       "patient  type\n",
       "Bob      HR      False\n",
       "         Temp    False\n",
       "Guido    HR      False\n",
       "         Temp    False\n",
       "Sue      HR       True\n",
       "         Temp    False\n",
       "Name: (2013, 1), dtype: bool"
      ]
     },
     "execution_count": 19,
     "metadata": {},
     "output_type": "execute_result"
    }
   ],
   "source": [
    "alldata.iloc[0] == 28.0"
   ]
  },
  {
   "cell_type": "code",
   "execution_count": null,
   "id": "f291b755",
   "metadata": {},
   "outputs": [],
   "source": []
  }
 ],
 "metadata": {
  "kernelspec": {
   "display_name": "Python 3",
   "language": "python",
   "name": "python3"
  },
  "language_info": {
   "codemirror_mode": {
    "name": "ipython",
    "version": 3
   },
   "file_extension": ".py",
   "mimetype": "text/x-python",
   "name": "python",
   "nbconvert_exporter": "python",
   "pygments_lexer": "ipython3",
   "version": "3.8.8"
  }
 },
 "nbformat": 4,
 "nbformat_minor": 5
}
