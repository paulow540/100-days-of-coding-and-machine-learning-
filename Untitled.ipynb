{
 "cells": [
  {
   "cell_type": "markdown",
   "id": "a1a64ac1",
   "metadata": {},
   "source": [
    "NUMPY"
   ]
  },
  {
   "cell_type": "code",
   "execution_count": 1,
   "id": "c5a8d502",
   "metadata": {},
   "outputs": [
    {
     "data": {
      "text/plain": [
       "array([1, 2, 3, 4, 5, 6, 7, 8, 9])"
      ]
     },
     "execution_count": 1,
     "metadata": {},
     "output_type": "execute_result"
    }
   ],
   "source": [
    "import numpy as np\n",
    "\n",
    "arr = np.array([1,2,3,4,5,6,7,8,9])\n",
    "arr"
   ]
  },
  {
   "cell_type": "code",
   "execution_count": 10,
   "id": "94f7a9d1",
   "metadata": {},
   "outputs": [
    {
     "data": {
      "text/plain": [
       "array('i', [1, 2, 3, 4, 5, 6, 7, 8, 9])"
      ]
     },
     "execution_count": 10,
     "metadata": {},
     "output_type": "execute_result"
    }
   ],
   "source": [
    "import array\n",
    "ft = array.array('i', list(range(1, 10)))\n",
    "ft"
   ]
  },
  {
   "cell_type": "code",
   "execution_count": 18,
   "id": "68332380",
   "metadata": {},
   "outputs": [
    {
     "data": {
      "text/plain": [
       "array('i', [1, 2, 3, 4, 5, 6, 7, 8, 9, 10])"
      ]
     },
     "execution_count": 18,
     "metadata": {},
     "output_type": "execute_result"
    }
   ],
   "source": [
    "import array\n",
    "myarr = array.array(\"i\",[1,2,3,4,5,6,7,8,9,10])\n",
    "myarr"
   ]
  },
  {
   "cell_type": "code",
   "execution_count": 38,
   "id": "8a6adf49",
   "metadata": {},
   "outputs": [
    {
     "name": "stdout",
     "output_type": "stream",
     "text": [
      "arr.ndim:1\n",
      "arr.shape: (9,)\n",
      "arr.size: 9\n",
      "arr.dtype: int32\n"
     ]
    }
   ],
   "source": [
    "print(f\"arr.ndim:{arr.ndim}\")\n",
    "print(f\"arr.shape: {arr.shape}\")\n",
    "print(f\"arr.size: {arr.size}\")\n",
    "print(f\"arr.dtype: {arr.dtype}\")"
   ]
  },
  {
   "cell_type": "code",
   "execution_count": 31,
   "id": "812bab38",
   "metadata": {},
   "outputs": [
    {
     "data": {
      "text/plain": [
       "array(['1', '2', '3', '4', '45', '5', '6', '7', '78', '8', '89', '64'],\n",
       "      dtype='<U64')"
      ]
     },
     "execution_count": 31,
     "metadata": {},
     "output_type": "execute_result"
    }
   ],
   "source": [
    "another = np.array([1,2,3,4,45,5,6,7,78,8,89,64], dtype=\"<U64\")\n",
    "another"
   ]
  },
  {
   "cell_type": "code",
   "execution_count": 37,
   "id": "492dd387",
   "metadata": {},
   "outputs": [
    {
     "name": "stdout",
     "output_type": "stream",
     "text": [
      "another.dtype:<U64\n",
      "another.shape: (12,)\n",
      "another.ndim: 1\n"
     ]
    }
   ],
   "source": [
    "print(f\"another.dtype:{another.dtype}\")\n",
    "print(f\"another.shape: {another.shape}\")\n",
    "print(f\"another.ndim: {another.ndim}\")"
   ]
  },
  {
   "cell_type": "markdown",
   "id": "e5381e70",
   "metadata": {},
   "source": [
    "Creating Array from scratch"
   ]
  },
  {
   "cell_type": "code",
   "execution_count": 42,
   "id": "0963c184",
   "metadata": {},
   "outputs": [
    {
     "data": {
      "text/plain": [
       "array([0, 0, 0, 0, 0, 0, 0, 0, 0, 0])"
      ]
     },
     "execution_count": 42,
     "metadata": {},
     "output_type": "execute_result"
    }
   ],
   "source": [
    "zeros = np.zeros(10, dtype=\"int32\")\n",
    "zeros"
   ]
  },
  {
   "cell_type": "code",
   "execution_count": 43,
   "id": "b750a7ea",
   "metadata": {},
   "outputs": [
    {
     "data": {
      "text/plain": [
       "array([[0, 0, 0, 0, 0, 0, 0, 0],\n",
       "       [0, 0, 0, 0, 0, 0, 0, 0],\n",
       "       [0, 0, 0, 0, 0, 0, 0, 0],\n",
       "       [0, 0, 0, 0, 0, 0, 0, 0],\n",
       "       [0, 0, 0, 0, 0, 0, 0, 0],\n",
       "       [0, 0, 0, 0, 0, 0, 0, 0],\n",
       "       [0, 0, 0, 0, 0, 0, 0, 0],\n",
       "       [0, 0, 0, 0, 0, 0, 0, 0],\n",
       "       [0, 0, 0, 0, 0, 0, 0, 0],\n",
       "       [0, 0, 0, 0, 0, 0, 0, 0]])"
      ]
     },
     "execution_count": 43,
     "metadata": {},
     "output_type": "execute_result"
    }
   ],
   "source": [
    "zearr = np.zeros((10,8), dtype=\"int32\")\n",
    "zearr"
   ]
  },
  {
   "cell_type": "code",
   "execution_count": 46,
   "id": "ab5ff382",
   "metadata": {},
   "outputs": [
    {
     "data": {
      "text/plain": [
       "array([1., 1., 1., 1., 1., 1., 1., 1., 1., 1.])"
      ]
     },
     "execution_count": 46,
     "metadata": {},
     "output_type": "execute_result"
    }
   ],
   "source": [
    "ones =np.ones(10)\n",
    "ones"
   ]
  },
  {
   "cell_type": "code",
   "execution_count": 47,
   "id": "dc8944a2",
   "metadata": {},
   "outputs": [
    {
     "data": {
      "text/plain": [
       "array([['1', '1', '1', '1', '1', '1', '1', '1', '1', '1'],\n",
       "       ['1', '1', '1', '1', '1', '1', '1', '1', '1', '1'],\n",
       "       ['1', '1', '1', '1', '1', '1', '1', '1', '1', '1'],\n",
       "       ['1', '1', '1', '1', '1', '1', '1', '1', '1', '1'],\n",
       "       ['1', '1', '1', '1', '1', '1', '1', '1', '1', '1'],\n",
       "       ['1', '1', '1', '1', '1', '1', '1', '1', '1', '1'],\n",
       "       ['1', '1', '1', '1', '1', '1', '1', '1', '1', '1'],\n",
       "       ['1', '1', '1', '1', '1', '1', '1', '1', '1', '1'],\n",
       "       ['1', '1', '1', '1', '1', '1', '1', '1', '1', '1'],\n",
       "       ['1', '1', '1', '1', '1', '1', '1', '1', '1', '1']], dtype='<U1')"
      ]
     },
     "execution_count": 47,
     "metadata": {},
     "output_type": "execute_result"
    }
   ],
   "source": [
    "onarr = np.ones((10,10), dtype=\"<U\")\n",
    "onarr"
   ]
  },
  {
   "cell_type": "code",
   "execution_count": 48,
   "id": "394c62e3",
   "metadata": {},
   "outputs": [
    {
     "data": {
      "text/plain": [
       "array([[8, 8, 8, 8],\n",
       "       [8, 8, 8, 8],\n",
       "       [8, 8, 8, 8],\n",
       "       [8, 8, 8, 8],\n",
       "       [8, 8, 8, 8]])"
      ]
     },
     "execution_count": 48,
     "metadata": {},
     "output_type": "execute_result"
    }
   ],
   "source": [
    "np.full((5,4),8)"
   ]
  },
  {
   "cell_type": "code",
   "execution_count": 49,
   "id": "ef0dcc48",
   "metadata": {},
   "outputs": [
    {
     "data": {
      "text/plain": [
       "array([0, 1, 2, 3, 4, 5, 6, 7, 8, 9])"
      ]
     },
     "execution_count": 49,
     "metadata": {},
     "output_type": "execute_result"
    }
   ],
   "source": [
    "np.arange(10)"
   ]
  },
  {
   "cell_type": "code",
   "execution_count": 53,
   "id": "3a5ba67b",
   "metadata": {},
   "outputs": [
    {
     "data": {
      "text/plain": [
       "array([ 1,  2,  3,  4,  5,  6,  7,  8,  9, 10, 11, 12, 13, 14, 15, 16, 17,\n",
       "       18])"
      ]
     },
     "execution_count": 53,
     "metadata": {},
     "output_type": "execute_result"
    }
   ],
   "source": [
    "np.arange(1,19)"
   ]
  },
  {
   "cell_type": "code",
   "execution_count": 54,
   "id": "a9c61864",
   "metadata": {},
   "outputs": [
    {
     "data": {
      "text/plain": [
       "array([ 1,  3,  5,  7,  9, 11, 13, 15, 17, 19])"
      ]
     },
     "execution_count": 54,
     "metadata": {},
     "output_type": "execute_result"
    }
   ],
   "source": [
    "np.arange(1,20,2)"
   ]
  },
  {
   "cell_type": "code",
   "execution_count": 58,
   "id": "eb87b643",
   "metadata": {},
   "outputs": [
    {
     "data": {
      "text/plain": [
       "array([ 1.        ,  1.32653061,  1.65306122,  1.97959184,  2.30612245,\n",
       "        2.63265306,  2.95918367,  3.28571429,  3.6122449 ,  3.93877551,\n",
       "        4.26530612,  4.59183673,  4.91836735,  5.24489796,  5.57142857,\n",
       "        5.89795918,  6.2244898 ,  6.55102041,  6.87755102,  7.20408163,\n",
       "        7.53061224,  7.85714286,  8.18367347,  8.51020408,  8.83673469,\n",
       "        9.16326531,  9.48979592,  9.81632653, 10.14285714, 10.46938776,\n",
       "       10.79591837, 11.12244898, 11.44897959, 11.7755102 , 12.10204082,\n",
       "       12.42857143, 12.75510204, 13.08163265, 13.40816327, 13.73469388,\n",
       "       14.06122449, 14.3877551 , 14.71428571, 15.04081633, 15.36734694,\n",
       "       15.69387755, 16.02040816, 16.34693878, 16.67346939, 17.        ])"
      ]
     },
     "execution_count": 58,
     "metadata": {},
     "output_type": "execute_result"
    }
   ],
   "source": [
    "np.linspace(1,17)"
   ]
  },
  {
   "cell_type": "code",
   "execution_count": 59,
   "id": "522c44d6",
   "metadata": {},
   "outputs": [
    {
     "data": {
      "text/plain": [
       "array([ 1.,  5.,  9., 13., 17.])"
      ]
     },
     "execution_count": 59,
     "metadata": {},
     "output_type": "execute_result"
    }
   ],
   "source": [
    "np.linspace(1,17,5)"
   ]
  },
  {
   "cell_type": "code",
   "execution_count": 72,
   "id": "53c036e2",
   "metadata": {},
   "outputs": [
    {
     "data": {
      "text/plain": [
       "array([[[0.87017366, 0.94875716],\n",
       "        [0.33978956, 0.76114046],\n",
       "        [0.00432499, 0.45912517],\n",
       "        [0.11480818, 0.45171195],\n",
       "        [0.53367691, 0.80044155],\n",
       "        [0.37189135, 0.70340539],\n",
       "        [0.61104679, 0.71561661],\n",
       "        [0.16264647, 0.75321423],\n",
       "        [0.36028125, 0.69495347],\n",
       "        [0.76333204, 0.31779958]]])"
      ]
     },
     "execution_count": 72,
     "metadata": {},
     "output_type": "execute_result"
    }
   ],
   "source": [
    "np.random.rand(1,10,2)"
   ]
  },
  {
   "cell_type": "code",
   "execution_count": 76,
   "id": "715a2d26",
   "metadata": {},
   "outputs": [
    {
     "data": {
      "text/plain": [
       "array([[ 0.63865741, -1.15617163],\n",
       "       [ 0.11227394,  0.45061536],\n",
       "       [-1.49644584,  0.35963286],\n",
       "       [ 0.93475423, -0.5035763 ],\n",
       "       [ 1.22614787,  1.2632442 ],\n",
       "       [ 0.218888  , -1.625954  ],\n",
       "       [-0.05125967, -0.72670818],\n",
       "       [-0.63541618, -0.58255374],\n",
       "       [ 0.27393088,  0.70755501],\n",
       "       [ 0.10807308, -0.57423232]])"
      ]
     },
     "execution_count": 76,
     "metadata": {},
     "output_type": "execute_result"
    }
   ],
   "source": [
    "np.random.randn(10,2)"
   ]
  },
  {
   "cell_type": "code",
   "execution_count": 78,
   "id": "5b52a7d6",
   "metadata": {},
   "outputs": [
    {
     "data": {
      "text/plain": [
       "array([-0.12779202, -0.47364843, -1.58221798,  0.58506793,  0.02919266,\n",
       "       -0.6436669 , -0.22043096, -0.62907055,  0.45700414])"
      ]
     },
     "execution_count": 78,
     "metadata": {},
     "output_type": "execute_result"
    }
   ],
   "source": [
    "np.random.randn(9)"
   ]
  },
  {
   "cell_type": "code",
   "execution_count": 82,
   "id": "5a365758",
   "metadata": {},
   "outputs": [
    {
     "data": {
      "text/plain": [
       "array([0.38761553, 0.03359995, 0.06489289, 0.9850211 , 0.3869849 ,\n",
       "       0.81898223, 0.96476563, 0.54037404, 0.14789963])"
      ]
     },
     "execution_count": 82,
     "metadata": {},
     "output_type": "execute_result"
    }
   ],
   "source": [
    "np.random.random(9)"
   ]
  },
  {
   "cell_type": "code",
   "execution_count": 94,
   "id": "b34af49a",
   "metadata": {},
   "outputs": [
    {
     "data": {
      "text/plain": [
       "array([7, 4])"
      ]
     },
     "execution_count": 94,
     "metadata": {},
     "output_type": "execute_result"
    }
   ],
   "source": [
    "np.random.randint(1,8,2)"
   ]
  },
  {
   "cell_type": "code",
   "execution_count": 114,
   "id": "59e8ceab",
   "metadata": {},
   "outputs": [
    {
     "data": {
      "text/plain": [
       "array([False, False, False, False, False, False, False, False, False,\n",
       "       False, False, False, False, False, False, False, False, False,\n",
       "       False, False])"
      ]
     },
     "execution_count": 114,
     "metadata": {},
     "output_type": "execute_result"
    }
   ],
   "source": [
    "np.random.binomial(2, 1, 20) == 0"
   ]
  },
  {
   "cell_type": "code",
   "execution_count": 116,
   "id": "0774b571",
   "metadata": {},
   "outputs": [
    {
     "data": {
      "text/plain": [
       "8"
      ]
     },
     "execution_count": 116,
     "metadata": {},
     "output_type": "execute_result"
    }
   ],
   "source": [
    "np.random.randint(0,10)"
   ]
  },
  {
   "cell_type": "code",
   "execution_count": 120,
   "id": "72f83848",
   "metadata": {},
   "outputs": [
    {
     "data": {
      "text/plain": [
       "array([[8, 4, 9, 5, 8, 6],\n",
       "       [4, 5, 5, 7, 9, 9]])"
      ]
     },
     "execution_count": 120,
     "metadata": {},
     "output_type": "execute_result"
    }
   ],
   "source": [
    "np.random.randint(4,10,(2,6))"
   ]
  },
  {
   "cell_type": "code",
   "execution_count": 122,
   "id": "a4a1d03e",
   "metadata": {},
   "outputs": [
    {
     "data": {
      "text/plain": [
       "array([[1., 0., 0., 0., 0.],\n",
       "       [0., 1., 0., 0., 0.],\n",
       "       [0., 0., 1., 0., 0.],\n",
       "       [0., 0., 0., 1., 0.],\n",
       "       [0., 0., 0., 0., 1.]])"
      ]
     },
     "execution_count": 122,
     "metadata": {},
     "output_type": "execute_result"
    }
   ],
   "source": [
    "np.eye(5)"
   ]
  },
  {
   "cell_type": "code",
   "execution_count": 124,
   "id": "4bb07c31",
   "metadata": {},
   "outputs": [],
   "source": [
    "anny = np.linspace(0,1,20)\n",
    "ay = anny.reshape(4,5)\n"
   ]
  },
  {
   "cell_type": "code",
   "execution_count": 125,
   "id": "4de9e203",
   "metadata": {},
   "outputs": [
    {
     "data": {
      "text/plain": [
       "2"
      ]
     },
     "execution_count": 125,
     "metadata": {},
     "output_type": "execute_result"
    }
   ],
   "source": [
    "ay.ndim"
   ]
  },
  {
   "cell_type": "code",
   "execution_count": 134,
   "id": "f10dea45",
   "metadata": {},
   "outputs": [
    {
     "data": {
      "text/plain": [
       "array([6, 3, 7, 4, 6])"
      ]
     },
     "execution_count": 134,
     "metadata": {},
     "output_type": "execute_result"
    }
   ],
   "source": [
    "np.random.seed(42)\n",
    "x1 = np.random.randint(10, size=5)\n",
    "x1\n"
   ]
  },
  {
   "cell_type": "markdown",
   "id": "2ca34ef6",
   "metadata": {},
   "source": [
    "# DAY 2"
   ]
  },
  {
   "cell_type": "code",
   "execution_count": 138,
   "id": "16449f53",
   "metadata": {},
   "outputs": [
    {
     "data": {
      "text/plain": [
       "array([ 0,  1,  2,  3,  4,  5,  6,  7,  8,  9, 10, 11, 12, 13, 14, 15, 16,\n",
       "       17, 18, 19])"
      ]
     },
     "execution_count": 138,
     "metadata": {},
     "output_type": "execute_result"
    }
   ],
   "source": [
    "newData = np.arange(20)\n",
    "newData"
   ]
  },
  {
   "cell_type": "code",
   "execution_count": 139,
   "id": "ff541597",
   "metadata": {},
   "outputs": [
    {
     "name": "stdout",
     "output_type": "stream",
     "text": [
      "6.19 µs ± 370 ns per loop (mean ± std. dev. of 7 runs, 100000 loops each)\n"
     ]
    }
   ],
   "source": [
    "%timeit [i + i for i in newData]  "
   ]
  },
  {
   "cell_type": "code",
   "execution_count": 140,
   "id": "692355f0",
   "metadata": {},
   "outputs": [
    {
     "data": {
      "text/plain": [
       "array([10, 11, 12, 13, 14, 15, 16, 17, 18, 19, 20, 21, 22, 23, 24, 25, 26,\n",
       "       27, 28, 29])"
      ]
     },
     "execution_count": 140,
     "metadata": {},
     "output_type": "execute_result"
    }
   ],
   "source": [
    "newData + 10"
   ]
  },
  {
   "cell_type": "code",
   "execution_count": 141,
   "id": "7213ce26",
   "metadata": {},
   "outputs": [
    {
     "data": {
      "text/plain": [
       "array([ 2.,  3.,  4.,  5.,  6.,  7.,  8.,  9., 10., 11., 12., 13., 14.,\n",
       "       15., 16., 17., 18., 19., 20., 21.])"
      ]
     },
     "execution_count": 141,
     "metadata": {},
     "output_type": "execute_result"
    }
   ],
   "source": [
    "newData + 10 / 5"
   ]
  },
  {
   "cell_type": "code",
   "execution_count": 142,
   "id": "0859003b",
   "metadata": {},
   "outputs": [
    {
     "data": {
      "text/plain": [
       "array([ 0.        ,  3.14159265,  6.28318531,  9.42477796, 12.56637061,\n",
       "       15.70796327, 18.84955592, 21.99114858, 25.13274123, 28.27433388,\n",
       "       31.41592654, 34.55751919, 37.69911184, 40.8407045 , 43.98229715,\n",
       "       47.1238898 , 50.26548246, 53.40707511, 56.54866776, 59.69026042])"
      ]
     },
     "execution_count": 142,
     "metadata": {},
     "output_type": "execute_result"
    }
   ],
   "source": [
    "newData * np.pi"
   ]
  },
  {
   "cell_type": "code",
   "execution_count": 143,
   "id": "8ab9737c",
   "metadata": {},
   "outputs": [
    {
     "data": {
      "text/plain": [
       "array([10, 11, 12, 13, 14, 15, 16, 17, 18, 19, 20, 21, 22, 23, 24, 25, 26,\n",
       "       27, 28, 29])"
      ]
     },
     "execution_count": 143,
     "metadata": {},
     "output_type": "execute_result"
    }
   ],
   "source": [
    "np.add(newData, 10)"
   ]
  },
  {
   "cell_type": "code",
   "execution_count": 145,
   "id": "6e769df7",
   "metadata": {},
   "outputs": [
    {
     "data": {
      "text/plain": [
       "array([ 3.14159265,  4.14159265,  5.14159265,  6.14159265,  7.14159265,\n",
       "        8.14159265,  9.14159265, 10.14159265, 11.14159265, 12.14159265,\n",
       "       13.14159265, 14.14159265, 15.14159265, 16.14159265, 17.14159265,\n",
       "       18.14159265, 19.14159265, 20.14159265, 21.14159265, 22.14159265])"
      ]
     },
     "execution_count": 145,
     "metadata": {},
     "output_type": "execute_result"
    }
   ],
   "source": [
    "np.add(newData, np.pi)"
   ]
  },
  {
   "cell_type": "code",
   "execution_count": 146,
   "id": "1f448484",
   "metadata": {},
   "outputs": [
    {
     "data": {
      "text/plain": [
       "array([5., 5., 2., 1.])"
      ]
     },
     "execution_count": 146,
     "metadata": {},
     "output_type": "execute_result"
    }
   ],
   "source": [
    "comp =np.array([3-4j, 4-3j, 2+0j, 0+1j])\n",
    "np.abs(comp)"
   ]
  },
  {
   "cell_type": "code",
   "execution_count": 148,
   "id": "59ebf1cb",
   "metadata": {},
   "outputs": [
    {
     "data": {
      "text/plain": [
       "array([ 0.00000000e+00,  1.55740772e+00, -2.18503986e+00, -1.42546543e-01,\n",
       "        1.15782128e+00, -3.38051501e+00, -2.91006191e-01,  8.71447983e-01,\n",
       "       -6.79971146e+00, -4.52315659e-01,  6.48360827e-01, -2.25950846e+02,\n",
       "       -6.35859929e-01,  4.63021133e-01,  7.24460662e+00, -8.55993401e-01,\n",
       "        3.00632242e-01,  3.49391565e+00, -1.13731371e+00,  1.51589471e-01])"
      ]
     },
     "execution_count": 148,
     "metadata": {},
     "output_type": "execute_result"
    }
   ],
   "source": [
    "np.tan(newData)"
   ]
  },
  {
   "cell_type": "code",
   "execution_count": 149,
   "id": "7c5e6747",
   "metadata": {},
   "outputs": [
    {
     "name": "stderr",
     "output_type": "stream",
     "text": [
      "<ipython-input-149-865dd7705907>:1: RuntimeWarning: divide by zero encountered in log\n",
      "  np.log(newData)\n"
     ]
    },
    {
     "data": {
      "text/plain": [
       "array([      -inf, 0.        , 0.69314718, 1.09861229, 1.38629436,\n",
       "       1.60943791, 1.79175947, 1.94591015, 2.07944154, 2.19722458,\n",
       "       2.30258509, 2.39789527, 2.48490665, 2.56494936, 2.63905733,\n",
       "       2.7080502 , 2.77258872, 2.83321334, 2.89037176, 2.94443898])"
      ]
     },
     "execution_count": 149,
     "metadata": {},
     "output_type": "execute_result"
    }
   ],
   "source": [
    "np.log(newData)"
   ]
  },
  {
   "cell_type": "code",
   "execution_count": 150,
   "id": "bba8f315",
   "metadata": {},
   "outputs": [
    {
     "name": "stderr",
     "output_type": "stream",
     "text": [
      "<ipython-input-150-e688499ff411>:1: RuntimeWarning: divide by zero encountered in log10\n",
      "  np.log10(newData)\n"
     ]
    },
    {
     "data": {
      "text/plain": [
       "array([      -inf, 0.        , 0.30103   , 0.47712125, 0.60205999,\n",
       "       0.69897   , 0.77815125, 0.84509804, 0.90308999, 0.95424251,\n",
       "       1.        , 1.04139269, 1.07918125, 1.11394335, 1.14612804,\n",
       "       1.17609126, 1.20411998, 1.23044892, 1.25527251, 1.2787536 ])"
      ]
     },
     "execution_count": 150,
     "metadata": {},
     "output_type": "execute_result"
    }
   ],
   "source": [
    "np.log10(newData)"
   ]
  },
  {
   "cell_type": "code",
   "execution_count": 151,
   "id": "bd08b05f",
   "metadata": {},
   "outputs": [
    {
     "name": "stderr",
     "output_type": "stream",
     "text": [
      "<ipython-input-151-2110a5d71805>:1: RuntimeWarning: divide by zero encountered in log2\n",
      "  np.log2(newData)\n"
     ]
    },
    {
     "data": {
      "text/plain": [
       "array([      -inf, 0.        , 1.        , 1.5849625 , 2.        ,\n",
       "       2.32192809, 2.5849625 , 2.80735492, 3.        , 3.169925  ,\n",
       "       3.32192809, 3.45943162, 3.5849625 , 3.70043972, 3.80735492,\n",
       "       3.9068906 , 4.        , 4.08746284, 4.169925  , 4.24792751])"
      ]
     },
     "execution_count": 151,
     "metadata": {},
     "output_type": "execute_result"
    }
   ],
   "source": [
    "np.log2(newData)"
   ]
  },
  {
   "cell_type": "code",
   "execution_count": 152,
   "id": "727944ee",
   "metadata": {},
   "outputs": [
    {
     "data": {
      "text/plain": [
       "19"
      ]
     },
     "execution_count": 152,
     "metadata": {},
     "output_type": "execute_result"
    }
   ],
   "source": [
    "np.max(newData)"
   ]
  },
  {
   "cell_type": "code",
   "execution_count": 153,
   "id": "275f3ac1",
   "metadata": {},
   "outputs": [
    {
     "data": {
      "text/plain": [
       "0"
      ]
     },
     "execution_count": 153,
     "metadata": {},
     "output_type": "execute_result"
    }
   ],
   "source": [
    "np.min(newData)"
   ]
  },
  {
   "cell_type": "code",
   "execution_count": 154,
   "id": "7097616d",
   "metadata": {},
   "outputs": [
    {
     "data": {
      "text/plain": [
       "20"
      ]
     },
     "execution_count": 154,
     "metadata": {},
     "output_type": "execute_result"
    }
   ],
   "source": [
    "np.size(newData)"
   ]
  },
  {
   "cell_type": "code",
   "execution_count": 155,
   "id": "dcdfe30e",
   "metadata": {},
   "outputs": [
    {
     "data": {
      "text/plain": [
       "array([  0,   1,   3,   6,  10,  15,  21,  28,  36,  45,  55,  66,  78,\n",
       "        91, 105, 120, 136, 153, 171, 190], dtype=int32)"
      ]
     },
     "execution_count": 155,
     "metadata": {},
     "output_type": "execute_result"
    }
   ],
   "source": [
    "np.add.accumulate(newData)"
   ]
  },
  {
   "cell_type": "code",
   "execution_count": 159,
   "id": "054b2b39",
   "metadata": {},
   "outputs": [
    {
     "data": {
      "text/plain": [
       "190"
      ]
     },
     "execution_count": 159,
     "metadata": {},
     "output_type": "execute_result"
    }
   ],
   "source": [
    "np.add.reduce(newData)"
   ]
  },
  {
   "cell_type": "code",
   "execution_count": 161,
   "id": "b0bb286f",
   "metadata": {},
   "outputs": [
    {
     "data": {
      "text/plain": [
       "array([0, 0, 0, 0, 0, 0, 0, 0, 0, 0, 0, 0, 0, 0, 0, 0, 0, 0, 0, 0],\n",
       "      dtype=int32)"
      ]
     },
     "execution_count": 161,
     "metadata": {},
     "output_type": "execute_result"
    }
   ],
   "source": [
    "np.multiply.accumulate(newData)"
   ]
  },
  {
   "cell_type": "code",
   "execution_count": 163,
   "id": "a64ca133",
   "metadata": {},
   "outputs": [
    {
     "data": {
      "text/plain": [
       "0"
      ]
     },
     "execution_count": 163,
     "metadata": {},
     "output_type": "execute_result"
    }
   ],
   "source": [
    "np.multiply.reduce(newData)"
   ]
  },
  {
   "cell_type": "code",
   "execution_count": 167,
   "id": "5553e12e",
   "metadata": {},
   "outputs": [],
   "source": [
    "all =newData.reshape(4,5)"
   ]
  },
  {
   "cell_type": "code",
   "execution_count": 168,
   "id": "9e4418fb",
   "metadata": {},
   "outputs": [
    {
     "data": {
      "text/plain": [
       "array([[  0,   0,   0,   0,   0,   0,   0,   0,   0,   0,   0,   0,   0,\n",
       "          0,   0,   0,   0,   0,   0,   0],\n",
       "       [  0,   1,   2,   3,   4,   5,   6,   7,   8,   9,  10,  11,  12,\n",
       "         13,  14,  15,  16,  17,  18,  19],\n",
       "       [  0,   2,   4,   6,   8,  10,  12,  14,  16,  18,  20,  22,  24,\n",
       "         26,  28,  30,  32,  34,  36,  38],\n",
       "       [  0,   3,   6,   9,  12,  15,  18,  21,  24,  27,  30,  33,  36,\n",
       "         39,  42,  45,  48,  51,  54,  57],\n",
       "       [  0,   4,   8,  12,  16,  20,  24,  28,  32,  36,  40,  44,  48,\n",
       "         52,  56,  60,  64,  68,  72,  76],\n",
       "       [  0,   5,  10,  15,  20,  25,  30,  35,  40,  45,  50,  55,  60,\n",
       "         65,  70,  75,  80,  85,  90,  95],\n",
       "       [  0,   6,  12,  18,  24,  30,  36,  42,  48,  54,  60,  66,  72,\n",
       "         78,  84,  90,  96, 102, 108, 114],\n",
       "       [  0,   7,  14,  21,  28,  35,  42,  49,  56,  63,  70,  77,  84,\n",
       "         91,  98, 105, 112, 119, 126, 133],\n",
       "       [  0,   8,  16,  24,  32,  40,  48,  56,  64,  72,  80,  88,  96,\n",
       "        104, 112, 120, 128, 136, 144, 152],\n",
       "       [  0,   9,  18,  27,  36,  45,  54,  63,  72,  81,  90,  99, 108,\n",
       "        117, 126, 135, 144, 153, 162, 171],\n",
       "       [  0,  10,  20,  30,  40,  50,  60,  70,  80,  90, 100, 110, 120,\n",
       "        130, 140, 150, 160, 170, 180, 190],\n",
       "       [  0,  11,  22,  33,  44,  55,  66,  77,  88,  99, 110, 121, 132,\n",
       "        143, 154, 165, 176, 187, 198, 209],\n",
       "       [  0,  12,  24,  36,  48,  60,  72,  84,  96, 108, 120, 132, 144,\n",
       "        156, 168, 180, 192, 204, 216, 228],\n",
       "       [  0,  13,  26,  39,  52,  65,  78,  91, 104, 117, 130, 143, 156,\n",
       "        169, 182, 195, 208, 221, 234, 247],\n",
       "       [  0,  14,  28,  42,  56,  70,  84,  98, 112, 126, 140, 154, 168,\n",
       "        182, 196, 210, 224, 238, 252, 266],\n",
       "       [  0,  15,  30,  45,  60,  75,  90, 105, 120, 135, 150, 165, 180,\n",
       "        195, 210, 225, 240, 255, 270, 285],\n",
       "       [  0,  16,  32,  48,  64,  80,  96, 112, 128, 144, 160, 176, 192,\n",
       "        208, 224, 240, 256, 272, 288, 304],\n",
       "       [  0,  17,  34,  51,  68,  85, 102, 119, 136, 153, 170, 187, 204,\n",
       "        221, 238, 255, 272, 289, 306, 323],\n",
       "       [  0,  18,  36,  54,  72,  90, 108, 126, 144, 162, 180, 198, 216,\n",
       "        234, 252, 270, 288, 306, 324, 342],\n",
       "       [  0,  19,  38,  57,  76,  95, 114, 133, 152, 171, 190, 209, 228,\n",
       "        247, 266, 285, 304, 323, 342, 361]])"
      ]
     },
     "execution_count": 168,
     "metadata": {},
     "output_type": "execute_result"
    }
   ],
   "source": [
    "np.multiply.outer(newData, newData)"
   ]
  },
  {
   "cell_type": "code",
   "execution_count": 169,
   "id": "f78f699f",
   "metadata": {},
   "outputs": [
    {
     "data": {
      "text/plain": [
       "(4, 5)"
      ]
     },
     "execution_count": 169,
     "metadata": {},
     "output_type": "execute_result"
    }
   ],
   "source": [
    "all.shape"
   ]
  },
  {
   "cell_type": "code",
   "execution_count": 172,
   "id": "5f7d7bba",
   "metadata": {},
   "outputs": [
    {
     "data": {
      "text/plain": [
       "array([[ 0,  1,  2,  3,  4],\n",
       "       [ 5,  6,  7,  8,  9],\n",
       "       [10, 11, 12, 13, 14],\n",
       "       [15, 16, 17, 18, 19]])"
      ]
     },
     "execution_count": 172,
     "metadata": {},
     "output_type": "execute_result"
    }
   ],
   "source": [
    "all"
   ]
  },
  {
   "cell_type": "code",
   "execution_count": 171,
   "id": "66aa7d59",
   "metadata": {},
   "outputs": [
    {
     "data": {
      "text/plain": [
       "array([30, 34, 38, 42, 46])"
      ]
     },
     "execution_count": 171,
     "metadata": {},
     "output_type": "execute_result"
    }
   ],
   "source": [
    "all.sum(axis = 0)"
   ]
  },
  {
   "cell_type": "code",
   "execution_count": 173,
   "id": "c51ea31a",
   "metadata": {},
   "outputs": [
    {
     "data": {
      "text/plain": [
       "array([10, 35, 60, 85])"
      ]
     },
     "execution_count": 173,
     "metadata": {},
     "output_type": "execute_result"
    }
   ],
   "source": [
    "all.sum(axis = 1)"
   ]
  },
  {
   "cell_type": "code",
   "execution_count": 174,
   "id": "3abbc196",
   "metadata": {},
   "outputs": [
    {
     "data": {
      "text/plain": [
       "9.5"
      ]
     },
     "execution_count": 174,
     "metadata": {},
     "output_type": "execute_result"
    }
   ],
   "source": [
    " np.mean(all)"
   ]
  },
  {
   "cell_type": "code",
   "execution_count": 175,
   "id": "8dfc5e16",
   "metadata": {},
   "outputs": [
    {
     "data": {
      "text/plain": [
       "array([[ 0,  1,  2,  3,  4],\n",
       "       [ 5,  6,  7,  8,  9],\n",
       "       [10, 11, 12, 13, 14],\n",
       "       [15, 16, 17, 18, 19]])"
      ]
     },
     "execution_count": 175,
     "metadata": {},
     "output_type": "execute_result"
    }
   ],
   "source": [
    "np.stack(all)"
   ]
  },
  {
   "cell_type": "code",
   "execution_count": 176,
   "id": "65dabda4",
   "metadata": {},
   "outputs": [
    {
     "data": {
      "text/plain": [
       "5.766281297335398"
      ]
     },
     "execution_count": 176,
     "metadata": {},
     "output_type": "execute_result"
    }
   ],
   "source": [
    "np.std(all)"
   ]
  },
  {
   "cell_type": "code",
   "execution_count": 177,
   "id": "973af219",
   "metadata": {},
   "outputs": [
    {
     "data": {
      "text/plain": [
       "9.5"
      ]
     },
     "execution_count": 177,
     "metadata": {},
     "output_type": "execute_result"
    }
   ],
   "source": [
    "np.median(all)"
   ]
  },
  {
   "cell_type": "code",
   "execution_count": 179,
   "id": "cb749113",
   "metadata": {},
   "outputs": [
    {
     "data": {
      "text/plain": [
       "4.75"
      ]
     },
     "execution_count": 179,
     "metadata": {},
     "output_type": "execute_result"
    }
   ],
   "source": [
    "np.percentile(all, 25)"
   ]
  },
  {
   "cell_type": "code",
   "execution_count": 180,
   "id": "e9d21bf0",
   "metadata": {},
   "outputs": [
    {
     "data": {
      "text/plain": [
       "9.5"
      ]
     },
     "execution_count": 180,
     "metadata": {},
     "output_type": "execute_result"
    }
   ],
   "source": [
    "np.percentile(all,50)"
   ]
  },
  {
   "cell_type": "code",
   "execution_count": null,
   "id": "4a8a32ff",
   "metadata": {},
   "outputs": [],
   "source": []
  }
 ],
 "metadata": {
  "kernelspec": {
   "display_name": "Python 3",
   "language": "python",
   "name": "python3"
  },
  "language_info": {
   "codemirror_mode": {
    "name": "ipython",
    "version": 3
   },
   "file_extension": ".py",
   "mimetype": "text/x-python",
   "name": "python",
   "nbconvert_exporter": "python",
   "pygments_lexer": "ipython3",
   "version": "3.8.8"
  }
 },
 "nbformat": 4,
 "nbformat_minor": 5
}
